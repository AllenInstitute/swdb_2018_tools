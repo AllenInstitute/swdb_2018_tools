{
 "cells": [
  {
   "cell_type": "code",
   "execution_count": 392,
   "metadata": {},
   "outputs": [
    {
     "name": "stdout",
     "output_type": "stream",
     "text": [
      "The autoreload extension is already loaded. To reload it, use:\n",
      "  %reload_ext autoreload\n"
     ]
    },
    {
     "data": {
      "text/html": [
       "<div>\n",
       "<style scoped>\n",
       "    .dataframe tbody tr th:only-of-type {\n",
       "        vertical-align: middle;\n",
       "    }\n",
       "\n",
       "    .dataframe tbody tr th {\n",
       "        vertical-align: top;\n",
       "    }\n",
       "\n",
       "    .dataframe thead th {\n",
       "        text-align: right;\n",
       "    }\n",
       "</style>\n",
       "<table border=\"1\" class=\"dataframe\">\n",
       "  <thead>\n",
       "    <tr style=\"text-align: right;\">\n",
       "      <th></th>\n",
       "      <th>experiment_id</th>\n",
       "      <th>experiment_container_id</th>\n",
       "      <th>targeted_structure</th>\n",
       "      <th>imaging_depth</th>\n",
       "      <th>cre_line</th>\n",
       "      <th>reporter_line</th>\n",
       "      <th>full_genotype</th>\n",
       "      <th>session_type</th>\n",
       "      <th>donor_id</th>\n",
       "      <th>specimen_id</th>\n",
       "      <th>experiment_date</th>\n",
       "    </tr>\n",
       "  </thead>\n",
       "  <tbody>\n",
       "    <tr>\n",
       "      <th>0</th>\n",
       "      <td>644942849</td>\n",
       "      <td>644919226</td>\n",
       "      <td>VISp</td>\n",
       "      <td>175</td>\n",
       "      <td>Vip-IRES-Cre</td>\n",
       "      <td>Ai148</td>\n",
       "      <td>Vip-IRES-Cre;Ai148</td>\n",
       "      <td>behavior_session_A</td>\n",
       "      <td>329071</td>\n",
       "      <td>596175193</td>\n",
       "      <td>10/24/2017 10:32</td>\n",
       "    </tr>\n",
       "    <tr>\n",
       "      <th>1</th>\n",
       "      <td>645035903</td>\n",
       "      <td>644919226</td>\n",
       "      <td>VISp</td>\n",
       "      <td>175</td>\n",
       "      <td>Vip-IRES-Cre</td>\n",
       "      <td>Ai148</td>\n",
       "      <td>Vip-IRES-Cre;Ai148</td>\n",
       "      <td>behavior_session_B</td>\n",
       "      <td>329071</td>\n",
       "      <td>596175193</td>\n",
       "      <td>10/25/2017 10:34</td>\n",
       "    </tr>\n",
       "    <tr>\n",
       "      <th>2</th>\n",
       "      <td>645086795</td>\n",
       "      <td>644919226</td>\n",
       "      <td>VISp</td>\n",
       "      <td>175</td>\n",
       "      <td>Vip-IRES-Cre</td>\n",
       "      <td>Ai148</td>\n",
       "      <td>Vip-IRES-Cre;Ai148</td>\n",
       "      <td>behavior_session_C</td>\n",
       "      <td>329071</td>\n",
       "      <td>596175193</td>\n",
       "      <td>10/26/2017 10:27</td>\n",
       "    </tr>\n",
       "    <tr>\n",
       "      <th>3</th>\n",
       "      <td>645362806</td>\n",
       "      <td>644919226</td>\n",
       "      <td>VISp</td>\n",
       "      <td>175</td>\n",
       "      <td>Vip-IRES-Cre</td>\n",
       "      <td>Ai148</td>\n",
       "      <td>Vip-IRES-Cre;Ai148</td>\n",
       "      <td>behavior_session_D</td>\n",
       "      <td>329071</td>\n",
       "      <td>596175193</td>\n",
       "      <td>10/30/2017 11:41</td>\n",
       "    </tr>\n",
       "    <tr>\n",
       "      <th>4</th>\n",
       "      <td>646922970</td>\n",
       "      <td>646555436</td>\n",
       "      <td>VISp</td>\n",
       "      <td>175</td>\n",
       "      <td>Vip-IRES-Cre</td>\n",
       "      <td>Ai148</td>\n",
       "      <td>Vip-IRES-Cre;Ai148</td>\n",
       "      <td>behavior_session_A</td>\n",
       "      <td>330982</td>\n",
       "      <td>596393048</td>\n",
       "      <td>11/7/2017 14:19</td>\n",
       "    </tr>\n",
       "  </tbody>\n",
       "</table>\n",
       "</div>"
      ],
      "text/plain": [
       "   experiment_id  experiment_container_id targeted_structure  imaging_depth  \\\n",
       "0      644942849                644919226               VISp            175   \n",
       "1      645035903                644919226               VISp            175   \n",
       "2      645086795                644919226               VISp            175   \n",
       "3      645362806                644919226               VISp            175   \n",
       "4      646922970                646555436               VISp            175   \n",
       "\n",
       "       cre_line reporter_line       full_genotype        session_type  \\\n",
       "0  Vip-IRES-Cre         Ai148  Vip-IRES-Cre;Ai148  behavior_session_A   \n",
       "1  Vip-IRES-Cre         Ai148  Vip-IRES-Cre;Ai148  behavior_session_B   \n",
       "2  Vip-IRES-Cre         Ai148  Vip-IRES-Cre;Ai148  behavior_session_C   \n",
       "3  Vip-IRES-Cre         Ai148  Vip-IRES-Cre;Ai148  behavior_session_D   \n",
       "4  Vip-IRES-Cre         Ai148  Vip-IRES-Cre;Ai148  behavior_session_A   \n",
       "\n",
       "   donor_id  specimen_id   experiment_date  \n",
       "0    329071    596175193  10/24/2017 10:32  \n",
       "1    329071    596175193  10/25/2017 10:34  \n",
       "2    329071    596175193  10/26/2017 10:27  \n",
       "3    329071    596175193  10/30/2017 11:41  \n",
       "4    330982    596393048   11/7/2017 14:19  "
      ]
     },
     "execution_count": 392,
     "metadata": {},
     "output_type": "execute_result"
    }
   ],
   "source": [
    "%load_ext autoreload\n",
    "%autoreload 2\n",
    "import numpy as np\n",
    "import scipy as sp\n",
    "import scipy.signal\n",
    "import pandas as pd\n",
    "from scipy.interpolate import interp1d\n",
    "import matplotlib.pyplot as plt\n",
    "import matplotlib as mpl\n",
    "%matplotlib inline\n",
    "\n",
    "from visual_behavior.ophys.dataset.visual_behavior_ophys_dataset import VisualBehaviorOphysDataset\n",
    "#drive_path = '/data/dynamic-brain-workshop/visual_behavior'\n",
    "\n",
    "import oBehave.helperfunctions as obhf\n",
    "# load manifest\n",
    "manifest = obhf.load_manifest()\n",
    "manifest.head()\n"
   ]
  },
  {
   "cell_type": "code",
   "execution_count": 546,
   "metadata": {},
   "outputs": [
    {
     "name": "stdout",
     "output_type": "stream",
     "text": [
      "0\n",
      "1\n",
      "2\n",
      "3\n",
      "4\n",
      "5\n",
      "6\n",
      "7\n",
      "8\n",
      "9\n",
      "10\n",
      "11\n",
      "12\n",
      "13\n",
      "14\n",
      "15\n",
      "16\n",
      "17\n",
      "18\n",
      "19\n",
      "20\n",
      "21\n",
      "22\n",
      "23\n",
      "24\n",
      "25\n",
      "26\n",
      "27\n",
      "28\n",
      "29\n",
      "30\n",
      "31\n",
      "32\n",
      "33\n",
      "34\n",
      "35\n",
      "36\n",
      "37\n",
      "38\n",
      "39\n",
      "40\n",
      "41\n",
      "42\n",
      "43\n",
      "44\n",
      "45\n",
      "46\n",
      "47\n",
      "48\n",
      "49\n",
      "50\n",
      "51\n",
      "52\n",
      "53\n",
      "54\n",
      "55\n",
      "56\n",
      "57\n",
      "58\n",
      "59\n"
     ]
    },
    {
     "ename": "ValueError",
     "evalue": "arrays must all be same length",
     "output_type": "error",
     "traceback": [
      "\u001b[0;31m\u001b[0m",
      "\u001b[0;31mValueError\u001b[0mTraceback (most recent call last)",
      "\u001b[0;32m<ipython-input-546-467e84375b93>\u001b[0m in \u001b[0;36m<module>\u001b[0;34m()\u001b[0m\n\u001b[1;32m     40\u001b[0m             \u001b[0;32mpass\u001b[0m\u001b[0;34m\u001b[0m\u001b[0m\n\u001b[1;32m     41\u001b[0m \u001b[0;34m\u001b[0m\u001b[0m\n\u001b[0;32m---> 42\u001b[0;31m \u001b[0msuperframe\u001b[0m \u001b[0;34m=\u001b[0m \u001b[0mpd\u001b[0m\u001b[0;34m.\u001b[0m\u001b[0mDataFrame\u001b[0m\u001b[0;34m(\u001b[0m\u001b[0mthisdict\u001b[0m\u001b[0;34m)\u001b[0m\u001b[0;34m\u001b[0m\u001b[0m\n\u001b[0m\u001b[1;32m     43\u001b[0m \u001b[0msuperframe\u001b[0m\u001b[0;34m.\u001b[0m\u001b[0mhead\u001b[0m\u001b[0;34m(\u001b[0m\u001b[0;34m)\u001b[0m\u001b[0;34m\u001b[0m\u001b[0m\n",
      "\u001b[0;32m/home/ec2-user/anaconda3/envs/python2/lib/python2.7/site-packages/pandas/core/frame.pyc\u001b[0m in \u001b[0;36m__init__\u001b[0;34m(self, data, index, columns, dtype, copy)\u001b[0m\n\u001b[1;32m    328\u001b[0m                                  dtype=dtype, copy=copy)\n\u001b[1;32m    329\u001b[0m         \u001b[0;32melif\u001b[0m \u001b[0misinstance\u001b[0m\u001b[0;34m(\u001b[0m\u001b[0mdata\u001b[0m\u001b[0;34m,\u001b[0m \u001b[0mdict\u001b[0m\u001b[0;34m)\u001b[0m\u001b[0;34m:\u001b[0m\u001b[0;34m\u001b[0m\u001b[0m\n\u001b[0;32m--> 330\u001b[0;31m             \u001b[0mmgr\u001b[0m \u001b[0;34m=\u001b[0m \u001b[0mself\u001b[0m\u001b[0;34m.\u001b[0m\u001b[0m_init_dict\u001b[0m\u001b[0;34m(\u001b[0m\u001b[0mdata\u001b[0m\u001b[0;34m,\u001b[0m \u001b[0mindex\u001b[0m\u001b[0;34m,\u001b[0m \u001b[0mcolumns\u001b[0m\u001b[0;34m,\u001b[0m \u001b[0mdtype\u001b[0m\u001b[0;34m=\u001b[0m\u001b[0mdtype\u001b[0m\u001b[0;34m)\u001b[0m\u001b[0;34m\u001b[0m\u001b[0m\n\u001b[0m\u001b[1;32m    331\u001b[0m         \u001b[0;32melif\u001b[0m \u001b[0misinstance\u001b[0m\u001b[0;34m(\u001b[0m\u001b[0mdata\u001b[0m\u001b[0;34m,\u001b[0m \u001b[0mma\u001b[0m\u001b[0;34m.\u001b[0m\u001b[0mMaskedArray\u001b[0m\u001b[0;34m)\u001b[0m\u001b[0;34m:\u001b[0m\u001b[0;34m\u001b[0m\u001b[0m\n\u001b[1;32m    332\u001b[0m             \u001b[0;32mimport\u001b[0m \u001b[0mnumpy\u001b[0m\u001b[0;34m.\u001b[0m\u001b[0mma\u001b[0m\u001b[0;34m.\u001b[0m\u001b[0mmrecords\u001b[0m \u001b[0;32mas\u001b[0m \u001b[0mmrecords\u001b[0m\u001b[0;34m\u001b[0m\u001b[0m\n",
      "\u001b[0;32m/home/ec2-user/anaconda3/envs/python2/lib/python2.7/site-packages/pandas/core/frame.pyc\u001b[0m in \u001b[0;36m_init_dict\u001b[0;34m(self, data, index, columns, dtype)\u001b[0m\n\u001b[1;32m    459\u001b[0m             \u001b[0marrays\u001b[0m \u001b[0;34m=\u001b[0m \u001b[0;34m[\u001b[0m\u001b[0mdata\u001b[0m\u001b[0;34m[\u001b[0m\u001b[0mk\u001b[0m\u001b[0;34m]\u001b[0m \u001b[0;32mfor\u001b[0m \u001b[0mk\u001b[0m \u001b[0;32min\u001b[0m \u001b[0mkeys\u001b[0m\u001b[0;34m]\u001b[0m\u001b[0;34m\u001b[0m\u001b[0m\n\u001b[1;32m    460\u001b[0m \u001b[0;34m\u001b[0m\u001b[0m\n\u001b[0;32m--> 461\u001b[0;31m         \u001b[0;32mreturn\u001b[0m \u001b[0m_arrays_to_mgr\u001b[0m\u001b[0;34m(\u001b[0m\u001b[0marrays\u001b[0m\u001b[0;34m,\u001b[0m \u001b[0mdata_names\u001b[0m\u001b[0;34m,\u001b[0m \u001b[0mindex\u001b[0m\u001b[0;34m,\u001b[0m \u001b[0mcolumns\u001b[0m\u001b[0;34m,\u001b[0m \u001b[0mdtype\u001b[0m\u001b[0;34m=\u001b[0m\u001b[0mdtype\u001b[0m\u001b[0;34m)\u001b[0m\u001b[0;34m\u001b[0m\u001b[0m\n\u001b[0m\u001b[1;32m    462\u001b[0m \u001b[0;34m\u001b[0m\u001b[0m\n\u001b[1;32m    463\u001b[0m     \u001b[0;32mdef\u001b[0m \u001b[0m_init_ndarray\u001b[0m\u001b[0;34m(\u001b[0m\u001b[0mself\u001b[0m\u001b[0;34m,\u001b[0m \u001b[0mvalues\u001b[0m\u001b[0;34m,\u001b[0m \u001b[0mindex\u001b[0m\u001b[0;34m,\u001b[0m \u001b[0mcolumns\u001b[0m\u001b[0;34m,\u001b[0m \u001b[0mdtype\u001b[0m\u001b[0;34m=\u001b[0m\u001b[0mNone\u001b[0m\u001b[0;34m,\u001b[0m \u001b[0mcopy\u001b[0m\u001b[0;34m=\u001b[0m\u001b[0mFalse\u001b[0m\u001b[0;34m)\u001b[0m\u001b[0;34m:\u001b[0m\u001b[0;34m\u001b[0m\u001b[0m\n",
      "\u001b[0;32m/home/ec2-user/anaconda3/envs/python2/lib/python2.7/site-packages/pandas/core/frame.pyc\u001b[0m in \u001b[0;36m_arrays_to_mgr\u001b[0;34m(arrays, arr_names, index, columns, dtype)\u001b[0m\n\u001b[1;32m   6161\u001b[0m     \u001b[0;31m# figure out the index, if necessary\u001b[0m\u001b[0;34m\u001b[0m\u001b[0;34m\u001b[0m\u001b[0m\n\u001b[1;32m   6162\u001b[0m     \u001b[0;32mif\u001b[0m \u001b[0mindex\u001b[0m \u001b[0;32mis\u001b[0m \u001b[0mNone\u001b[0m\u001b[0;34m:\u001b[0m\u001b[0;34m\u001b[0m\u001b[0m\n\u001b[0;32m-> 6163\u001b[0;31m         \u001b[0mindex\u001b[0m \u001b[0;34m=\u001b[0m \u001b[0mextract_index\u001b[0m\u001b[0;34m(\u001b[0m\u001b[0marrays\u001b[0m\u001b[0;34m)\u001b[0m\u001b[0;34m\u001b[0m\u001b[0m\n\u001b[0m\u001b[1;32m   6164\u001b[0m     \u001b[0;32melse\u001b[0m\u001b[0;34m:\u001b[0m\u001b[0;34m\u001b[0m\u001b[0m\n\u001b[1;32m   6165\u001b[0m         \u001b[0mindex\u001b[0m \u001b[0;34m=\u001b[0m \u001b[0m_ensure_index\u001b[0m\u001b[0;34m(\u001b[0m\u001b[0mindex\u001b[0m\u001b[0;34m)\u001b[0m\u001b[0;34m\u001b[0m\u001b[0m\n",
      "\u001b[0;32m/home/ec2-user/anaconda3/envs/python2/lib/python2.7/site-packages/pandas/core/frame.pyc\u001b[0m in \u001b[0;36mextract_index\u001b[0;34m(data)\u001b[0m\n\u001b[1;32m   6209\u001b[0m             \u001b[0mlengths\u001b[0m \u001b[0;34m=\u001b[0m \u001b[0mlist\u001b[0m\u001b[0;34m(\u001b[0m\u001b[0mset\u001b[0m\u001b[0;34m(\u001b[0m\u001b[0mraw_lengths\u001b[0m\u001b[0;34m)\u001b[0m\u001b[0;34m)\u001b[0m\u001b[0;34m\u001b[0m\u001b[0m\n\u001b[1;32m   6210\u001b[0m             \u001b[0;32mif\u001b[0m \u001b[0mlen\u001b[0m\u001b[0;34m(\u001b[0m\u001b[0mlengths\u001b[0m\u001b[0;34m)\u001b[0m \u001b[0;34m>\u001b[0m \u001b[0;36m1\u001b[0m\u001b[0;34m:\u001b[0m\u001b[0;34m\u001b[0m\u001b[0m\n\u001b[0;32m-> 6211\u001b[0;31m                 \u001b[0;32mraise\u001b[0m \u001b[0mValueError\u001b[0m\u001b[0;34m(\u001b[0m\u001b[0;34m'arrays must all be same length'\u001b[0m\u001b[0;34m)\u001b[0m\u001b[0;34m\u001b[0m\u001b[0m\n\u001b[0m\u001b[1;32m   6212\u001b[0m \u001b[0;34m\u001b[0m\u001b[0m\n\u001b[1;32m   6213\u001b[0m             \u001b[0;32mif\u001b[0m \u001b[0mhave_dicts\u001b[0m\u001b[0;34m:\u001b[0m\u001b[0;34m\u001b[0m\u001b[0m\n",
      "\u001b[0;31mValueError\u001b[0m: arrays must all be same length"
     ]
    }
   ],
   "source": [
    "thisdict = {'experiment_id':[],\n",
    "            'donor_id':[],\n",
    "            'session_type':[],\n",
    "            'targeted_structure':[],\n",
    "            'cre_line':[],\n",
    "            'cell_indices':[],\n",
    "            'cell_specimen_ids':[],\n",
    "            'pearson_run_corr':[],\n",
    "            'spearman_run_corr':[],\n",
    "            #'raw_run_tuning_bins':[],\n",
    "            #'raw_run_tuning':[],\n",
    "            'run_tuning':[],\n",
    "            'run_tuning_sem':[]}\n",
    "\n",
    "for ii,row in manifest.iterrows():\n",
    "    print(ii)\n",
    "    dataset= VisualBehaviorOphysDataset(row['experiment_id'], cache_dir=obhf.drive_path)\n",
    "    dff = dataset.dff_traces;\n",
    "    tme = dataset.timestamps_ophys\n",
    "    run = np.interp(tme,dataset.timestamps_stimulus,dataset.running_speed['running_speed'].values)\n",
    "    bins = np.linspace(0,np.percentile(run,95),11)\n",
    "\n",
    "    for nn in range(dff.shape[0]):\n",
    "        try:\n",
    "            thisdict['experiment_id'].append(row['experiment_id'])\n",
    "            thisdict['donor_id'].append(row['donor_id'])\n",
    "            thisdict['session_type'].append(row['session_type'])\n",
    "            thisdict['targeted_structure'].append(row['targeted_structure'])\n",
    "            thisdict['cre_line'].append(row['cre_line'])\n",
    "            thisdict['cell_indices'].append(dataset.cell_indices[nn]) \n",
    "            thisdict['cell_specimen_ids'].append(dataset.cell_specimen_ids[nn])\n",
    "            thisdict['pearson_run_corr'].append(np.corrcoef(run,dff[nn,:])[0,1])\n",
    "            thisdict['spearman_run_corr'].append(scipy.stats.spearmanr(run,dff[nn,:])[0])\n",
    "            # Compute tuning curve.\n",
    "            mn,bs,_ = binned_statistic(run,dff[ii,:],bins=bins)\n",
    "            thisdict['run_tuning'].append(mn)\n",
    "            sem,_,_ = binned_statistic(run,dff[ii,:],statistic = sp.stats.sem ,bins=10)\n",
    "            thisdict['run_tuning_sem'].append(sem)\n",
    "        except:\n",
    "            pass\n",
    "\n",
    "superframe = pd.DataFrame(thisdict)\n",
    "superframe.head()"
   ]
  },
  {
   "cell_type": "code",
   "execution_count": null,
   "metadata": {},
   "outputs": [],
   "source": []
  },
  {
   "cell_type": "code",
   "execution_count": 543,
   "metadata": {},
   "outputs": [
    {
     "data": {
      "text/plain": [
       "True"
      ]
     },
     "execution_count": 543,
     "metadata": {},
     "output_type": "execute_result"
    }
   ],
   "source": [
    "any(np.isnan(dff[nn,:]))"
   ]
  },
  {
   "cell_type": "code",
   "execution_count": 527,
   "metadata": {},
   "outputs": [
    {
     "data": {
      "text/plain": [
       "0.038128521136531347"
      ]
     },
     "execution_count": 527,
     "metadata": {},
     "output_type": "execute_result"
    },
    {
     "data": {
      "image/png": "[encoded data removed]",
      "text/plain": [
       "<Figure size 432x288 with 1 Axes>"
      ]
     },
     "metadata": {},
     "output_type": "display_data"
    }
   ],
   "source": [
    "runcorr = superframe.pearson_run_corr.values\n",
    "plt.hist(runcorr[~np.isnan(runcorr)],100);\n",
    "plt.xlabel('Correlation between dF/F & Run')\n",
    "plt.ylabel('# of instances')\n"
   ]
  },
  {
   "cell_type": "code",
   "execution_count": 448,
   "metadata": {},
   "outputs": [
    {
     "data": {
      "text/plain": [
       "array(['Slc17a7-IRES2-Cre', 'Vip-IRES-Cre'], dtype=object)"
      ]
     },
     "execution_count": 448,
     "metadata": {},
     "output_type": "execute_result"
    }
   ],
   "source": [
    "np.unique(superframe['cre_line'].values)"
   ]
  },
  {
   "cell_type": "code",
   "execution_count": 519,
   "metadata": {},
   "outputs": [
    {
     "data": {
      "text/plain": [
       "Text(0,0.5,'# of instances')"
      ]
     },
     "execution_count": 519,
     "metadata": {},
     "output_type": "execute_result"
    },
    {
     "data": {
      "image/png": "[encoded data removed]",
      "text/plain": [
       "<Figure size 432x288 with 1 Axes>"
      ]
     },
     "metadata": {},
     "output_type": "display_data"
    }
   ],
   "source": [
    "runcorr = superframe[(superframe['session_type']=='behavior_session_C')]['pearson_run_corr'].values\n",
    "\n",
    "#runcorrA = superframe[(superframe['session_type']=='behavior_session_A')&(superframe['cre_line']=='Slc17a7-IRES2-Cre')]['pearson_run_corr'].values\n",
    "#runcorrC = superframe[(superframe['session_type']=='behavior_session_C')&(superframe['cre_line']=='Slc17a7-IRES2-Cre')]['pearson_run_corr'].values\n",
    "\n",
    "#runcorrA = superframe[(superframe['session_type']=='behavior_session_A')&(superframe['cre_line']=='Vip-IRES-Cre')]['pearson_run_corr'].values\n",
    "#runcorrC = superframe[(superframe['session_type']=='behavior_session_C')&(superframe['cre_line']=='Vip-IRES-Cre')]['pearson_run_corr'].values\n",
    "\n",
    "#runcorrA = superframe[(superframe['session_type']=='behavior_session_A')&(superframe['cre_line']=='Vip-IRES-Cre')]['pearson_run_corr'].values\n",
    "#runcorrC = superframe[(superframe['session_type']=='behavior_session_A')&(superframe['cre_line']=='Slc17a7-IRES2-Cre')]['pearson_run_corr'].values\n",
    "\n",
    "runcorrA = superframe[(superframe['session_type']=='behavior_session_D')&(superframe['targeted_structure']=='VISp')]['pearson_run_corr'].values\n",
    "runcorrC = superframe[(superframe['session_type']=='behavior_session_D')&(superframe['targeted_structure']=='VISal')]['pearson_run_corr'].values\n",
    "obj = plt.hist(runcorr[~np.isnan(runcorr)],bins = 50,alpha = 1,normed = True)\n",
    "plt.hist(runcorrA[~np.isnan(runcorrA)],bins = obj[1],alpha = .5,normed = True)\n",
    "plt.hist(runcorrC[~np.isnan(runcorrC)],bins = obj[1],alpha = .5,normed = True);\n",
    "plt.legend(['All','p','al'])\n",
    "plt.xlabel('Correlation between dF/F & Run')\n",
    "plt.ylabel('# of instances')\n"
   ]
  },
  {
   "cell_type": "code",
   "execution_count": 502,
   "metadata": {},
   "outputs": [
    {
     "data": {
      "image/png": "[encoded data removed]",
      "text/plain": [
       "<Figure size 432x288 with 1 Axes>"
      ]
     },
     "metadata": {},
     "output_type": "display_data"
    }
   ],
   "source": [
    "mousename = np.unique(superframe['donor_id'])\n",
    "runcorr= superframe[(superframe['session_type']=='behavior_session_A')]['pearson_run_corr'].values\n",
    "obj = plt.hist(runcorr[~np.isnan(runcorr)],bins = 50,alpha = .7,normed = True)\n",
    "\n",
    "for ii, name in enumerate(mousename):\n",
    "    runcorr = superframe[(superframe['session_type']=='behavior_session_A')&(superframe['donor_id']==name)]['pearson_run_corr'].values\n",
    "    plt.hist(runcorr[~np.isnan(runcorr)],bins = obj[1],alpha = .7,normed = True);\n",
    "\n"
   ]
  },
  {
   "cell_type": "code",
   "execution_count": 520,
   "metadata": {},
   "outputs": [],
   "source": [
    "# grab a pseudorandom experiment\n",
    "    \n",
    "subframe = manifest[(manifest.targeted_structure == 'VISp')&(manifest.cre_line == 'Slc17a7-IRES2-Cre')&(manifest.session_type =='behavior_session_A' )]\n",
    "experiment_id = subframe['experiment_id'].values[0]\n",
    "\n",
    "dataset= VisualBehaviorOphysDataset(experiment_id, cache_dir=obhf.drive_path)"
   ]
  },
  {
   "cell_type": "code",
   "execution_count": 521,
   "metadata": {},
   "outputs": [
    {
     "data": {
      "text/plain": [
       "(array([  3.00000000e+00,   6.00000000e+00,   1.30000000e+01,\n",
       "          3.50000000e+01,   4.00000000e+01,   6.80000000e+01,\n",
       "          1.52000000e+02,   3.53000000e+02,   6.18000000e+02,\n",
       "          3.18400000e+03,   8.83100000e+03,   1.72500000e+03,\n",
       "          1.08500000e+03,   8.26000000e+02,   6.37000000e+02,\n",
       "          7.54000000e+02,   9.40000000e+02,   1.10600000e+03,\n",
       "          1.31600000e+03,   1.33800000e+03,   1.53200000e+03,\n",
       "          2.02900000e+03,   2.44800000e+03,   2.75500000e+03,\n",
       "          2.53600000e+03,   2.71200000e+03,   3.55500000e+03,\n",
       "          3.86100000e+03,   3.85300000e+03,   3.11200000e+03,\n",
       "          3.29500000e+03,   4.11600000e+03,   4.68100000e+03,\n",
       "          4.92900000e+03,   4.44300000e+03,   4.60800000e+03,\n",
       "          5.99600000e+03,   6.41900000e+03,   5.91300000e+03,\n",
       "          4.40100000e+03,   3.70600000e+03,   3.81900000e+03,\n",
       "          2.23500000e+03,   1.02000000e+03,   3.58000000e+02,\n",
       "          2.00000000e+02,   7.70000000e+01,   3.60000000e+01,\n",
       "          7.00000000e+00,   1.80000000e+01]),\n",
       " array([-16.13765933, -14.53077424, -12.92388915, -11.31700406,\n",
       "         -9.71011897,  -8.10323388,  -6.4963488 ,  -4.88946371,\n",
       "         -3.28257862,  -1.67569353,  -0.06880844,   1.53807665,\n",
       "          3.14496174,   4.75184683,   6.35873192,   7.96561701,\n",
       "          9.57250209,  11.17938718,  12.78627227,  14.39315736,\n",
       "         16.00004245,  17.60692754,  19.21381263,  20.82069772,\n",
       "         22.42758281,  24.0344679 ,  25.64135299,  27.24823807,\n",
       "         28.85512316,  30.46200825,  32.06889334,  33.67577843,\n",
       "         35.28266352,  36.88954861,  38.4964337 ,  40.10331879,\n",
       "         41.71020388,  43.31708896,  44.92397405,  46.53085914,\n",
       "         48.13774423,  49.74462932,  51.35151441,  52.9583995 ,\n",
       "         54.56528459,  56.17216968,  57.77905477,  59.38593986,\n",
       "         60.99282494,  62.59971003,  64.20659512]),\n",
       " <a list of 50 Patch objects>)"
      ]
     },
     "execution_count": 521,
     "metadata": {},
     "output_type": "execute_result"
    },
    {
     "data": {
      "image/png": "[encoded data removed]",
      "text/plain": [
       "<Figure size 432x288 with 1 Axes>"
      ]
     },
     "metadata": {},
     "output_type": "display_data"
    }
   ],
   "source": [
    "# Now lets load some data\n",
    "dff = dataset.dff_traces\n",
    "tme = dataset.timestamps_ophys\n",
    "run = dataset.running_speed['running_speed'].values\n",
    "dt = 1/dataset.metadata.ophys_frame_rate.values[0]\n",
    "run = np.interp(tme,dataset.timestamps_stimulus,run)\n",
    "#\n",
    "#plt.plot(run)\n",
    "plt.hist(run,bins = 50)"
   ]
  },
  {
   "cell_type": "code",
   "execution_count": 525,
   "metadata": {},
   "outputs": [
    {
     "data": {
      "text/plain": [
       "Text(0,0.5,'dF/F')"
      ]
     },
     "execution_count": 525,
     "metadata": {},
     "output_type": "execute_result"
    },
    {
     "data": {
      "image/png": "[encoded data removed]",
      "text/plain": [
       "<Figure size 432x288 with 1 Axes>"
      ]
     },
     "metadata": {},
     "output_type": "display_data"
    }
   ],
   "source": [
    "# Build a \"tuning curve\": See pillow paper\n",
    "%matplotlib inline\n",
    "from scipy.stats import binned_statistic\n",
    "#for ii in range(dff.shape[0]):\n",
    "#for ii in range(dff.shape[0]):\n",
    "ii = 0\n",
    "bins = np.linspace(0,np.percentile(run,95),11)\n",
    "mn,bs,_ = binned_statistic(run,dff[ii,:],bins=bins)\n",
    "st,_,_ = binned_statistic(run,dff[ii,:],statistic = sp.stats.sem ,bins=10)\n",
    "plt.errorbar(np.linspace(np.min(bs),np.max(bs),len(bs)-1),mn,yerr=st)\n",
    "plt.xlabel('Speed')\n",
    "plt.ylabel('dF/F')"
   ]
  },
  {
   "cell_type": "code",
   "execution_count": 312,
   "metadata": {},
   "outputs": [
    {
     "data": {
      "text/plain": [
       "777"
      ]
     },
     "execution_count": 312,
     "metadata": {},
     "output_type": "execute_result"
    }
   ],
   "source": [
    "ii"
   ]
  },
  {
   "cell_type": "code",
   "execution_count": null,
   "metadata": {},
   "outputs": [],
   "source": []
  }
 ],
 "metadata": {
  "kernelspec": {
   "display_name": "conda_python2",
   "language": "python",
   "name": "conda_python2"
  },
  "language_info": {
   "codemirror_mode": {
    "name": "ipython",
    "version": 2
   },
   "file_extension": ".py",
   "mimetype": "text/x-python",
   "name": "python",
   "nbconvert_exporter": "python",
   "pygments_lexer": "ipython2",
   "version": "2.7.14"
  }
 },
 "nbformat": 4,
 "nbformat_minor": 2
}

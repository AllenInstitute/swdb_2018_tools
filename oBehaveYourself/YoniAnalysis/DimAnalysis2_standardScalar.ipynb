{
 "cells": [
  {
   "cell_type": "code",
   "execution_count": null,
   "metadata": {},
   "outputs": [],
   "source": [
    "\"\"\"\n",
    "This script demonstrates that dimensionality is driven by a few cells. \n",
    "It does this by rescaling all data by Standard scalar, giving each cell unit covariance.\n",
    "Under this conditions, dimensionality shoots up. \n",
    "\n",
    "Created by Yoni Browning, August 2018\n",
    "\"\"\""
   ]
  },
  {
   "cell_type": "code",
   "execution_count": 68,
   "metadata": {},
   "outputs": [],
   "source": [
    "#%load_ext autoreload\n",
    "#%autoreload 2\n",
    "import matplotlib as mpl\n",
    "import scipy as sp\n",
    "import numpy as np\n",
    "import pandas as pd\n",
    "# sometimes order maters on these\n",
    "import matplotlib.pyplot as plt\n",
    "from mpl_toolkits.mplot3d import Axes3D\n",
    "import oBehave.plotting_stuff as obps\n",
    "import oBehave.helperfunctions as obhf\n",
    "import oBehave.neural_analysis as obna\n",
    "import oBehave.behavior_analysis as obba\n",
    "import sklearn.decomposition as decomp\n",
    "\n",
    "\n",
    "from visual_behavior.ophys.dataset.visual_behavior_ophys_dataset import VisualBehaviorOphysDataset\n",
    "from visual_behavior.ophys.response_analysis.utilities import get_trace_around_timepoint,get_nearest_frame\n",
    "from visual_behavior.ophys.response_analysis.response_analysis import ResponseAnalysis\n",
    "\n",
    "#experiment_id = 639438856# experiment B\n",
    "experiment_id = 639253368# experiment A"
   ]
  },
  {
   "cell_type": "code",
   "execution_count": 69,
   "metadata": {},
   "outputs": [],
   "source": [
    "# get a subset of the manifest for analysis\n",
    "manifest = obhf.load_manifest()\n",
    "obba.includeNovelSession(manifest);\n",
    "use_manifest = manifest[(manifest.targeted_structure=='VISp')&manifest.cre_line.str.contains('Slc')&(manifest.first_session)]"
   ]
  },
  {
   "cell_type": "code",
   "execution_count": 70,
   "metadata": {},
   "outputs": [
    {
     "name": "stdout",
     "output_type": "stream",
     "text": [
      "loading trial response dataframe\n",
      "loading flash response dataframe\n"
     ]
    }
   ],
   "source": [
    "# get some example data to play with\n",
    "dataset= VisualBehaviorOphysDataset(experiment_id=experiment_id, cache_dir=obhf.drive_path)\n",
    "analysis = ResponseAnalysis(dataset)"
   ]
  },
  {
   "cell_type": "code",
   "execution_count": 71,
   "metadata": {},
   "outputs": [],
   "source": [
    "# import sklearn packages\n",
    "from sklearn.model_selection import train_test_split\n",
    "import sklearn.decomposition as decomp\n",
    "from sklearn.preprocessing import StandardScaler\n",
    "from sklearn.pipeline import Pipeline"
   ]
  },
  {
   "cell_type": "code",
   "execution_count": 94,
   "metadata": {},
   "outputs": [],
   "source": [
    "# Define two pipelines\n",
    "scaler_pipeline = Pipeline((\n",
    "    ('rescaler', StandardScaler()),\n",
    "    ('reducer', decomp.PCA())\n",
    "))\n",
    "bland_pca = decomp.PCA()"
   ]
  },
  {
   "cell_type": "code",
   "execution_count": 95,
   "metadata": {},
   "outputs": [],
   "source": [
    "# Functions needed to get mean resonse array for analysis below.\n",
    "def killnancells(dataset,analysis):\n",
    "    bad_cell_indices = []\n",
    "    bad_cell_ids = []\n",
    "    for cell_index in range(dataset.dff_traces[1].shape[0]):\n",
    "        if np.isnan(dataset.dff_traces[1][cell_index][0]): #check whether first datapoint is nan\n",
    "           bad_cell_indices.append(cell_index)\n",
    "           bad_cell_ids.append(dataset.get_cell_specimen_id_for_cell_index(cell_index))\n",
    "    fdf = analysis.flash_response_df.copy()\n",
    "    fdf = fdf[fdf.cell.isin(bad_cell_indices)==False]\n",
    "    return fdf \n",
    "\n",
    "def getResponseArray(dataset,analysis):\n",
    "    num_trials = len(dataset.stimulus_table)\n",
    "    fr = killnancells(dataset,analysis)\n",
    "    use_cells = np.unique(fr.cell)\n",
    "    response_array = np.empty((num_trials,len(use_cells)))\n",
    "    for i in range(num_trials):\n",
    "        response_array[i,:] = fr[fr.flash_number==i].mean_response.values\n",
    "    return response_array"
   ]
  },
  {
   "cell_type": "code",
   "execution_count": 96,
   "metadata": {},
   "outputs": [],
   "source": [
    "# get response array\n",
    "response_array = getResponseArray(dataset,analysis)"
   ]
  },
  {
   "cell_type": "code",
   "execution_count": 97,
   "metadata": {},
   "outputs": [],
   "source": [
    "# do fit on example data\n",
    "scaler_pipeline.fit(response_array);\n",
    "bland_pca.fit(response_array);"
   ]
  },
  {
   "cell_type": "code",
   "execution_count": 98,
   "metadata": {},
   "outputs": [
    {
     "name": "stdout",
     "output_type": "stream",
     "text": [
      "35.491375818247256\n",
      "5.8476113181629215\n"
     ]
    }
   ],
   "source": [
    "# check dimensionality of example data\n",
    "sPCA = scaler_pipeline.named_steps['reducer']\n",
    "\n",
    "D_scaler = 1/sum((sPCA.explained_variance_ratio_)**2.)\n",
    "print(D_scaler)\n",
    "D_bland = 1/sum((bland_pca.explained_variance_ratio_)**2.)\n",
    "print(D_bland)"
   ]
  },
  {
   "cell_type": "code",
   "execution_count": 78,
   "metadata": {},
   "outputs": [
    {
     "name": "stdout",
     "output_type": "stream",
     "text": [
      "loading trial response dataframe\n",
      "loading flash response dataframe\n",
      "behavior_session_A,Vip-IRES-Cre,VISp : 3.2291406804901905 ; 3.87613206254561\n",
      "loading trial response dataframe\n",
      "loading flash response dataframe\n",
      "behavior_session_B,Vip-IRES-Cre,VISp : 1.795595541642763 ; 3.142215654692451\n",
      "loading trial response dataframe\n",
      "loading flash response dataframe\n",
      "behavior_session_C,Vip-IRES-Cre,VISp : 2.699735657411471 ; 4.2383902145753085\n",
      "loading trial response dataframe\n",
      "loading flash response dataframe\n",
      "behavior_session_D,Vip-IRES-Cre,VISp : 3.742529315692777 ; 4.238282073723826\n",
      "loading trial response dataframe\n",
      "loading flash response dataframe\n",
      "behavior_session_A,Vip-IRES-Cre,VISp : 2.151084195376867 ; 4.7282421807505575\n",
      "loading trial response dataframe\n",
      "loading flash response dataframe\n",
      "behavior_session_B,Vip-IRES-Cre,VISp : 3.3150292999603943 ; 6.768158328373369\n",
      "loading trial response dataframe\n",
      "loading flash response dataframe\n",
      "behavior_session_C,Vip-IRES-Cre,VISp : 4.542828287513398 ; 5.879012648576771\n",
      "loading trial response dataframe\n",
      "loading flash response dataframe\n",
      "behavior_session_D,Vip-IRES-Cre,VISp : 4.549614600613041 ; 7.226610611533256\n",
      "loading trial response dataframe\n",
      "loading flash response dataframe\n",
      "behavior_session_A,Slc17a7-IRES2-Cre,VISp : 5.360926174140502 ; 24.551099881159576\n",
      "loading trial response dataframe\n",
      "loading flash response dataframe\n",
      "behavior_session_C,Slc17a7-IRES2-Cre,VISp : 11.130728412557772 ; 27.39886631372038\n",
      "loading trial response dataframe\n",
      "loading flash response dataframe\n",
      "behavior_session_D,Slc17a7-IRES2-Cre,VISp : 11.427267824359692 ; 29.172881475664553\n",
      "loading trial response dataframe\n",
      "loading flash response dataframe\n",
      "behavior_session_A,Slc17a7-IRES2-Cre,VISp : 2.513764690274294 ; 21.028936641821375\n",
      "loading trial response dataframe\n",
      "loading flash response dataframe\n",
      "behavior_session_B,Slc17a7-IRES2-Cre,VISp : 7.325675042511858 ; 35.290044563428054\n",
      "loading trial response dataframe\n",
      "loading flash response dataframe\n",
      "behavior_session_C,Slc17a7-IRES2-Cre,VISp : 14.605911824189482 ; 30.209363983794443\n",
      "loading trial response dataframe\n",
      "loading flash response dataframe\n",
      "behavior_session_D,Slc17a7-IRES2-Cre,VISp : 17.400305933365598 ; 36.33467972354425\n",
      "loading trial response dataframe\n",
      "loading flash response dataframe\n",
      "behavior_session_A,Slc17a7-IRES2-Cre,VISal : 9.866780581090788 ; 29.487063014414417\n",
      "loading trial response dataframe\n",
      "loading flash response dataframe\n",
      "behavior_session_B,Slc17a7-IRES2-Cre,VISal : 1.6593066995771084 ; 34.55101644667662\n",
      "loading trial response dataframe\n",
      "loading flash response dataframe\n",
      "behavior_session_C,Slc17a7-IRES2-Cre,VISal : 11.524526753208757 ; 8.23046486581926\n",
      "loading trial response dataframe\n",
      "loading flash response dataframe\n",
      "behavior_session_D,Slc17a7-IRES2-Cre,VISal : 8.03836780387742 ; 38.27843710613649\n",
      "loading trial response dataframe\n",
      "loading flash response dataframe\n",
      "behavior_session_A,Slc17a7-IRES2-Cre,VISp : 5.119191924990865 ; 35.121617022143475\n",
      "loading trial response dataframe\n",
      "loading flash response dataframe\n",
      "behavior_session_B,Slc17a7-IRES2-Cre,VISp : 18.592314241737448 ; 39.252358224913095\n",
      "loading trial response dataframe\n",
      "loading flash response dataframe\n",
      "behavior_session_D,Slc17a7-IRES2-Cre,VISp : 7.631782256507785 ; 37.955476675664436\n",
      "loading trial response dataframe\n",
      "loading flash response dataframe\n",
      "behavior_session_C,Slc17a7-IRES2-Cre,VISp : 11.183043358517782 ; 34.12717723844945\n",
      "loading trial response dataframe\n",
      "loading flash response dataframe\n",
      "behavior_session_A,Slc17a7-IRES2-Cre,VISp : 6.032806055420155 ; 26.597188699908358\n",
      "loading trial response dataframe\n",
      "loading flash response dataframe\n",
      "behavior_session_C,Slc17a7-IRES2-Cre,VISp : 15.029327223772833 ; 16.431138352857342\n",
      "loading trial response dataframe\n",
      "loading flash response dataframe\n",
      "behavior_session_A,Vip-IRES-Cre,VISp : 2.8425983713913836 ; 4.054482886833685\n",
      "loading trial response dataframe\n",
      "loading flash response dataframe\n",
      "behavior_session_B,Vip-IRES-Cre,VISp : 3.0383015219430027 ; 6.409339058574798\n",
      "loading trial response dataframe\n",
      "loading flash response dataframe\n",
      "behavior_session_C,Vip-IRES-Cre,VISp : 2.8867233058627213 ; 5.330547720490253\n",
      "loading trial response dataframe\n",
      "loading flash response dataframe\n",
      "behavior_session_D,Vip-IRES-Cre,VISp : 2.882667510109344 ; 4.798109746354018\n",
      "loading trial response dataframe\n",
      "loading flash response dataframe\n",
      "behavior_session_A,Slc17a7-IRES2-Cre,VISal : 6.196862709897129 ; 27.5685177301935\n",
      "loading trial response dataframe\n",
      "loading flash response dataframe\n",
      "behavior_session_B,Slc17a7-IRES2-Cre,VISal : 9.15281842447761 ; 19.310734573421442\n",
      "loading trial response dataframe\n",
      "loading flash response dataframe\n",
      "behavior_session_C,Slc17a7-IRES2-Cre,VISal : 16.01102654166187 ; 26.915053718658708\n",
      "loading trial response dataframe\n",
      "loading flash response dataframe\n",
      "behavior_session_D,Slc17a7-IRES2-Cre,VISal : 7.886173725329432 ; 22.036404399802713\n",
      "loading trial response dataframe\n",
      "loading flash response dataframe\n",
      "behavior_session_A,Vip-IRES-Cre,VISp : 2.2008363857140596 ; 2.9270590879183724\n",
      "loading trial response dataframe\n",
      "loading flash response dataframe\n",
      "behavior_session_B,Vip-IRES-Cre,VISp : 3.1129272800795857 ; 5.340300744717946\n",
      "loading trial response dataframe\n",
      "loading flash response dataframe\n",
      "behavior_session_C,Vip-IRES-Cre,VISp : 3.0363133062160275 ; 3.2819839853704136\n",
      "loading trial response dataframe\n",
      "loading flash response dataframe\n",
      "behavior_session_D,Vip-IRES-Cre,VISp : 2.898631678591572 ; 3.5663560638780933\n",
      "loading trial response dataframe\n",
      "loading flash response dataframe\n",
      "behavior_session_A,Slc17a7-IRES2-Cre,VISal : 2.060726271644308 ; 45.469500768461025\n",
      "loading trial response dataframe\n",
      "loading flash response dataframe\n",
      "behavior_session_B,Slc17a7-IRES2-Cre,VISal : 5.597228821764171 ; 42.548175384499245\n",
      "loading trial response dataframe\n",
      "loading flash response dataframe\n",
      "behavior_session_C,Slc17a7-IRES2-Cre,VISal : 5.20559011756443 ; 41.23181948394414\n",
      "loading trial response dataframe\n",
      "loading flash response dataframe\n",
      "behavior_session_D,Slc17a7-IRES2-Cre,VISal : 1.5490253568752947 ; 43.350267275597076\n",
      "loading trial response dataframe\n",
      "loading flash response dataframe\n",
      "behavior_session_A,Slc17a7-IRES2-Cre,VISal : 11.68012973700356 ; 29.6678370407393\n",
      "loading trial response dataframe\n",
      "loading flash response dataframe\n",
      "behavior_session_B,Slc17a7-IRES2-Cre,VISal : 1.0002150133767194 ; 29.113978059927238\n",
      "loading trial response dataframe\n",
      "loading flash response dataframe\n",
      "behavior_session_C,Slc17a7-IRES2-Cre,VISal : 9.569057893947438 ; 21.894064802988844\n",
      "loading trial response dataframe\n",
      "loading flash response dataframe\n",
      "behavior_session_D,Slc17a7-IRES2-Cre,VISal : 5.8476113181629215 ; 35.491375818247256\n"
     ]
    }
   ],
   "source": [
    "# repeat Standard Scalar PCA for all data in manifest subset\n",
    "keylist = ['experiment_id','session_type','targeted_structure','cre_line','dimension','dimension_ss']\n",
    "dim = {k:[]for k in keylist}\n",
    "for ii, rows in manifest.iterrows():\n",
    "    if rows.first_session:\n",
    "        dataset= VisualBehaviorOphysDataset(experiment_id=rows.experiment_id, cache_dir=obhf.drive_path)\n",
    "        analysis = ResponseAnalysis(dataset)\n",
    "        num_trials = len(dataset.stimulus_table)\n",
    "        fr = killnancells(dataset,analysis)\n",
    "        use_cells = np.unique(fr.cell)\n",
    "        response_array = np.empty((num_trials,len(use_cells)))\n",
    "        for i in range(num_trials):\n",
    "            response_array[i,:] = fr[fr.flash_number==i].mean_response.values\n",
    "        PCA = decomp.PCA()\n",
    "        scaler_pipeline = Pipeline((\n",
    "            ('rescaler', StandardScaler()),\n",
    "            ('reducer', decomp.PCA())\n",
    "        ))\n",
    "        PCA.fit(response_array)\n",
    "        scaler_pipeline.fit(response_array)\n",
    "        D = 1/sum((PCA.explained_variance_ratio_)**2.)\n",
    "        Ds = 1/sum((scaler_pipeline.named_steps['reducer'].explained_variance_ratio_)**2.)\n",
    "        ##\n",
    "        dim['experiment_id'].append(rows.experiment_id)\n",
    "        dim['session_type'].append(rows.session_type)\n",
    "        dim['targeted_structure'].append(rows.targeted_structure)\n",
    "        dim['cre_line'].append(rows.cre_line)\n",
    "        dim['dimension'].append(D)\n",
    "        dim['dimension_ss'].append(Ds)\n",
    "\n",
    "        print(rows.session_type+','+ rows.cre_line  +','+rows.targeted_structure+ ' : ' + str(dim['dimension'][-1])+' ; '+str(dim['dimension_ss'][-1]))"
   ]
  },
  {
   "cell_type": "code",
   "execution_count": null,
   "metadata": {},
   "outputs": [],
   "source": [
    "DimFrame = pd.DataFrame(dim)"
   ]
  },
  {
   "cell_type": "code",
   "execution_count": 79,
   "metadata": {},
   "outputs": [
    {
     "ename": "NameError",
     "evalue": "name 'DimFrame' is not defined",
     "output_type": "error",
     "traceback": [
      "\u001b[0;31m\u001b[0m",
      "\u001b[0;31mNameError\u001b[0mTraceback (most recent call last)",
      "\u001b[0;32m<ipython-input-79-79d42b255aa4>\u001b[0m in \u001b[0;36m<module>\u001b[0;34m()\u001b[0m\n\u001b[1;32m      3\u001b[0m \u001b[0mcolorlist\u001b[0m \u001b[0;34m=\u001b[0m \u001b[0mplt\u001b[0m\u001b[0;34m.\u001b[0m\u001b[0mrcParams\u001b[0m\u001b[0;34m[\u001b[0m\u001b[0;34m'axes.prop_cycle'\u001b[0m\u001b[0;34m]\u001b[0m\u001b[0;34m.\u001b[0m\u001b[0mby_key\u001b[0m\u001b[0;34m(\u001b[0m\u001b[0;34m)\u001b[0m\u001b[0;34m[\u001b[0m\u001b[0;34m'color'\u001b[0m\u001b[0;34m]\u001b[0m\u001b[0;34m\u001b[0m\u001b[0m\n\u001b[1;32m      4\u001b[0m \u001b[0;32mfor\u001b[0m \u001b[0mii\u001b[0m\u001b[0;34m,\u001b[0m\u001b[0ms\u001b[0m \u001b[0;32min\u001b[0m \u001b[0menumerate\u001b[0m\u001b[0;34m(\u001b[0m\u001b[0mbehs\u001b[0m\u001b[0;34m)\u001b[0m\u001b[0;34m:\u001b[0m\u001b[0;34m\u001b[0m\u001b[0m\n\u001b[0;32m----> 5\u001b[0;31m     this_data = DimFrame[(DimFrame.targeted_structure=='VISp')\n\u001b[0m\u001b[1;32m      6\u001b[0m                          \u001b[0;34m&\u001b[0m\u001b[0;34m(\u001b[0m\u001b[0mDimFrame\u001b[0m\u001b[0;34m[\u001b[0m\u001b[0;34m'cre_line'\u001b[0m\u001b[0;34m]\u001b[0m\u001b[0;34m==\u001b[0m\u001b[0;34m'Slc17a7-IRES2-Cre'\u001b[0m\u001b[0;34m)\u001b[0m\u001b[0;31m#'Vip-IRES-Cre')#'Vip-IRES-Cre')#\u001b[0m\u001b[0;34m\u001b[0m\u001b[0m\n\u001b[1;32m      7\u001b[0m                          &(DimFrame['session_type']==s)]['dimension'].values\n",
      "\u001b[0;31mNameError\u001b[0m: name 'DimFrame' is not defined"
     ]
    }
   ],
   "source": [
    "# plot retular dimensionality (similar to DimAnalysis1 script)\n",
    "behs = ['behavior_session_A','behavior_session_B','behavior_session_C','behavior_session_D']\n",
    "scat = []\n",
    "colorlist = plt.rcParams['axes.prop_cycle'].by_key()['color']\n",
    "for ii,s in enumerate(behs):\n",
    "    this_data = DimFrame[(DimFrame.targeted_structure=='VISp')\n",
    "                         &(DimFrame['cre_line']=='Slc17a7-IRES2-Cre')#'Vip-IRES-Cre')#'Vip-IRES-Cre')#\n",
    "                         &(DimFrame['session_type']==s)]['dimension'].values\n",
    "    scat.append(this_data)\n",
    "    #print(this_data)\n",
    "    plt.scatter(ii*np.ones((len(this_data),1)),this_data,color = 'K',marker = 'o',zorder = 3,s = [150]*len(this_data))#np.oness((len(this_data),)))\n",
    "    plt.bar(ii,np.mean(this_data),yerr = sp.std(this_data),color = colorlist[ii])\n",
    "plt.xticks([0,1,2,3],['A','B','C','D'])\n",
    "plt.ylabel('Estimated Experiment Dim')\n",
    "plt.xlabel('Behavior Session Type')\n",
    "plt.title('VIP, VISal')"
   ]
  },
  {
   "cell_type": "code",
   "execution_count": 1,
   "metadata": {},
   "outputs": [
    {
     "ename": "NameError",
     "evalue": "name 'plt' is not defined",
     "output_type": "error",
     "traceback": [
      "\u001b[0;31m\u001b[0m",
      "\u001b[0;31mNameError\u001b[0mTraceback (most recent call last)",
      "\u001b[0;32m<ipython-input-1-9bf02159625e>\u001b[0m in \u001b[0;36m<module>\u001b[0;34m()\u001b[0m\n\u001b[1;32m      2\u001b[0m \u001b[0mbehs\u001b[0m \u001b[0;34m=\u001b[0m \u001b[0;34m[\u001b[0m\u001b[0;34m'behavior_session_A'\u001b[0m\u001b[0;34m,\u001b[0m\u001b[0;34m'behavior_session_B'\u001b[0m\u001b[0;34m,\u001b[0m\u001b[0;34m'behavior_session_C'\u001b[0m\u001b[0;34m,\u001b[0m\u001b[0;34m'behavior_session_D'\u001b[0m\u001b[0;34m]\u001b[0m\u001b[0;34m\u001b[0m\u001b[0m\n\u001b[1;32m      3\u001b[0m \u001b[0mscat\u001b[0m \u001b[0;34m=\u001b[0m \u001b[0;34m[\u001b[0m\u001b[0;34m]\u001b[0m\u001b[0;34m\u001b[0m\u001b[0m\n\u001b[0;32m----> 4\u001b[0;31m \u001b[0mcolorlist\u001b[0m \u001b[0;34m=\u001b[0m \u001b[0mplt\u001b[0m\u001b[0;34m.\u001b[0m\u001b[0mrcParams\u001b[0m\u001b[0;34m[\u001b[0m\u001b[0;34m'axes.prop_cycle'\u001b[0m\u001b[0;34m]\u001b[0m\u001b[0;34m.\u001b[0m\u001b[0mby_key\u001b[0m\u001b[0;34m(\u001b[0m\u001b[0;34m)\u001b[0m\u001b[0;34m[\u001b[0m\u001b[0;34m'color'\u001b[0m\u001b[0;34m]\u001b[0m\u001b[0;34m\u001b[0m\u001b[0m\n\u001b[0m\u001b[1;32m      5\u001b[0m \u001b[0;32mfor\u001b[0m \u001b[0mii\u001b[0m\u001b[0;34m,\u001b[0m\u001b[0ms\u001b[0m \u001b[0;32min\u001b[0m \u001b[0menumerate\u001b[0m\u001b[0;34m(\u001b[0m\u001b[0mbehs\u001b[0m\u001b[0;34m)\u001b[0m\u001b[0;34m:\u001b[0m\u001b[0;34m\u001b[0m\u001b[0m\n\u001b[1;32m      6\u001b[0m     this_data = DimFrame[(DimFrame.targeted_structure=='VISp')\n",
      "\u001b[0;31mNameError\u001b[0m: name 'plt' is not defined"
     ]
    }
   ],
   "source": [
    "# Plot standard scalar dimensionality \n",
    "behs = ['behavior_session_A','behavior_session_B','behavior_session_C','behavior_session_D']\n",
    "scat = []\n",
    "colorlist = plt.rcParams['axes.prop_cycle'].by_key()['color']\n",
    "for ii,s in enumerate(behs):\n",
    "    this_data = DimFrame[(DimFrame.targeted_structure=='VISp')\n",
    "                         &(DimFrame['cre_line']=='Slc17a7-IRES2-Cre')#'Vip-IRES-Cre')#'Vip-IRES-Cre')#\n",
    "                         &(DimFrame['session_type']==s)]['dimension_ss'].values\n",
    "    scat.append(this_data)\n",
    "    #print(this_data)\n",
    "    plt.scatter(ii*np.ones((len(this_data),1)),this_data,color = 'K',marker = 'o',zorder = 3,s = [150]*len(this_data))#np.oness((len(this_data),)))\n",
    "    plt.bar(ii,np.mean(this_data),yerr = sp.std(this_data),color = colorlist[ii])\n",
    "plt.xticks([0,1,2,3],['A','B','C','D'])\n",
    "plt.ylabel('Estimated Experiment Dim')\n",
    "plt.xlabel('Behavior Session Type')\n",
    "plt.title('Slc, VISp,StandardScalar')"
   ]
  },
  {
   "cell_type": "code",
   "execution_count": 131,
   "metadata": {},
   "outputs": [
    {
     "data": {
      "image/png": "[encoded data removed]",
      "text/plain": [
       "<Figure size 432x288 with 4 Axes>"
      ]
     },
     "metadata": {},
     "output_type": "display_data"
    }
   ],
   "source": [
    "# visualize PCs with and without standard scalar.\n",
    "#fig = plt.figure()\n",
    "fig,ax = plt.subplots(2,2);\n",
    "ax = ax.flatten()\n",
    "for ii,a in enumerate(ax):\n",
    "    ax[ii].plot(scaler_pipeline.named_steps['reducer'].components_[ii,:].T)\n",
    "    ax[ii].plot(bland_pca.components_[ii,:].T)\n",
    "    ax[ii].set_xlabel('Cell #')\n",
    "    ax[ii].set_ylabel('Amplitude')\n",
    "    ax[ii].set_title('PC'+str(ii+1))\n",
    "fig.tight_layout()"
   ]
  },
  {
   "cell_type": "code",
   "execution_count": null,
   "metadata": {},
   "outputs": [],
   "source": []
  }
 ],
 "metadata": {
  "kernelspec": {
   "display_name": "conda_python2",
   "language": "python",
   "name": "conda_python2"
  },
  "language_info": {
   "codemirror_mode": {
    "name": "ipython",
    "version": 2
   },
   "file_extension": ".py",
   "mimetype": "text/x-python",
   "name": "python",
   "nbconvert_exporter": "python",
   "pygments_lexer": "ipython2",
   "version": "2.7.15"
  }
 },
 "nbformat": 4,
 "nbformat_minor": 2
}

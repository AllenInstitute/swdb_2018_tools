{
 "cells": [
  {
   "cell_type": "code",
   "execution_count": null,
   "metadata": {},
   "outputs": [],
   "source": [
    "'''\n",
    "This is an attempt to see if within cell pca is a better way to look at data \n",
    "than mean response. Figures below show not a huge difference.\n",
    "Created by Yoni Browning, August 2018\n",
    "'''"
   ]
  },
  {
   "cell_type": "code",
   "execution_count": 326,
   "metadata": {},
   "outputs": [
    {
     "name": "stdout",
     "output_type": "stream",
     "text": [
      "The autoreload extension is already loaded. To reload it, use:\n",
      "  %reload_ext autoreload\n"
     ]
    }
   ],
   "source": [
    "\n",
    "%load_ext autoreload\n",
    "%autoreload 2\n",
    "import matplotlib as mpl\n",
    "%matplotlib inline\n",
    "import scipy as sp\n",
    "import numpy as np\n",
    "import pandas as pd\n",
    "# sometimes order maters on these\n",
    "import matplotlib.pyplot as plt\n",
    "from mpl_toolkits.mplot3d import Axes3D\n",
    "import oBehave.plotting_stuff as obps\n",
    "import oBehave.helperfunctions as obhf\n",
    "import oBehave.neural_analysis as obna\n",
    "import oBehave.behavior_anaylsis as obba\n",
    "import sklearn.decomposition as decomp\n",
    "\n",
    "\n",
    "from visual_behavior.ophys.dataset.visual_behavior_ophys_dataset import VisualBehaviorOphysDataset\n",
    "from visual_behavior.ophys.response_analysis.utilities import get_trace_around_timepoint,get_nearest_frame\n",
    "from visual_behavior.ophys.response_analysis.response_analysis import ResponseAnalysis\n",
    "\n",
    "experiment_id = 639438856"
   ]
  },
  {
   "cell_type": "code",
   "execution_count": 327,
   "metadata": {},
   "outputs": [],
   "source": [
    "# Load a particular neuron\n",
    "manifest = obhf.load_manifest()\n",
    "dataset= VisualBehaviorOphysDataset(experiment_id=experiment_id, cache_dir=obhf.drive_path)\n",
    "#analysis = ResponseAnalysis(dataset)"
   ]
  },
  {
   "cell_type": "code",
   "execution_count": 1,
   "metadata": {},
   "outputs": [
    {
     "ename": "NameError",
     "evalue": "name 'np' is not defined",
     "output_type": "error",
     "traceback": [
      "\u001b[0;31m\u001b[0m",
      "\u001b[0;31mNameError\u001b[0mTraceback (most recent call last)",
      "\u001b[0;32m<ipython-input-1-d0b8ad540182>\u001b[0m in \u001b[0;36m<module>\u001b[0;34m()\u001b[0m\n\u001b[1;32m      8\u001b[0m     \u001b[0;32mreturn\u001b[0m \u001b[0mls\u001b[0m\u001b[0;34m\u001b[0m\u001b[0m\n\u001b[1;32m      9\u001b[0m \u001b[0;34m\u001b[0m\u001b[0m\n\u001b[0;32m---> 10\u001b[0;31m \u001b[0mspar\u001b[0m \u001b[0;34m=\u001b[0m \u001b[0mnp\u001b[0m\u001b[0;34m.\u001b[0m\u001b[0mzeros\u001b[0m\u001b[0;34m(\u001b[0m\u001b[0;34m(\u001b[0m\u001b[0mdff\u001b[0m\u001b[0;34m.\u001b[0m\u001b[0mshape\u001b[0m\u001b[0;34m[\u001b[0m\u001b[0;36m0\u001b[0m\u001b[0;34m]\u001b[0m\u001b[0;34m,\u001b[0m\u001b[0;34m)\u001b[0m\u001b[0;34m)\u001b[0m\u001b[0;34m\u001b[0m\u001b[0m\n\u001b[0m\u001b[1;32m     11\u001b[0m \u001b[0mfrd\u001b[0m \u001b[0;34m=\u001b[0m \u001b[0mobba\u001b[0m\u001b[0;34m.\u001b[0m\u001b[0mincludeAddRepeats\u001b[0m\u001b[0;34m(\u001b[0m\u001b[0manalysis\u001b[0m\u001b[0;34m.\u001b[0m\u001b[0mflash_response_df\u001b[0m\u001b[0;34m)\u001b[0m\u001b[0;34m\u001b[0m\u001b[0m\n\u001b[1;32m     12\u001b[0m \u001b[0;32mfor\u001b[0m \u001b[0mii\u001b[0m \u001b[0;32min\u001b[0m \u001b[0mrange\u001b[0m\u001b[0;34m(\u001b[0m\u001b[0mlen\u001b[0m\u001b[0;34m(\u001b[0m\u001b[0mspar\u001b[0m\u001b[0;34m)\u001b[0m\u001b[0;34m)\u001b[0m\u001b[0;34m:\u001b[0m\u001b[0;34m\u001b[0m\u001b[0m\n",
      "\u001b[0;31mNameError\u001b[0m: name 'np' is not defined"
     ]
    }
   ],
   "source": [
    "def compute_lifetime_sparseness(image_responses):\n",
    "    # image responses should be an array of the trial averaged responses to each image\n",
    "    # sparseness = 1-(sum of trial averaged responses to images / N)squared / (sum of (squared mean responses / n)) / (1-(1/N))\n",
    "    # N = number of images\n",
    "    # after Vinje & Gallant, 2000; Froudarakis et al., 2014\n",
    "    # updated to alow negative responses (as happens with PCA) with abs in numerator\n",
    "    N = float(len(image_responses))\n",
    "    ls = ((1-(1/N) * ((np.power(np.abs(image_responses).sum(axis=0),2)) / (np.power(image_responses,2).sum(axis=0)))) / (1-(1/N)))\n",
    "    return ls\n",
    "\n",
    "spar = np.zeros((dff.shape[0],))\n",
    "frd = obba.includeAddRepeats(analysis.flash_response_df)\n",
    "for ii in range(len(spar)):\n",
    "    st = frd[(frd.cell==ii)&(frd.repeats == 1)]\n",
    "    res,_ = obna.singlecellpca(dff[ii,:],tme,stimulus_table['start_time'].values)\n",
    "    unq = st.image_name.unique()\n",
    "    means = np.zeros(unq.shape)\n",
    "    sems = np.zeros(unq.shape)\n",
    "    for jj,itm in enumerate(unq):\n",
    "        res_tmp = res[np.where(st['image_name']==itm)]\n",
    "        means[jj] = res_tmp.mean()\n",
    "        sems[jj] = sp.stats.sem(res_tmp)\n",
    "    spar[ii] = compute_lifetime_sparseness(means)\n",
    "    print(spar[ii])\n",
    "plt.hist(spar,20);"
   ]
  },
  {
   "cell_type": "code",
   "execution_count": null,
   "metadata": {},
   "outputs": [],
   "source": [
    "plt.plot(dataset.dff_traces)"
   ]
  },
  {
   "cell_type": "code",
   "execution_count": 338,
   "metadata": {},
   "outputs": [
    {
     "data": {
      "text/plain": [
       "0.57830871310307663"
      ]
     },
     "execution_count": 338,
     "metadata": {},
     "output_type": "execute_result"
    }
   ],
   "source": [
    "compute_lifetime_sparseness(im)"
   ]
  },
  {
   "cell_type": "code",
   "execution_count": null,
   "metadata": {},
   "outputs": [],
   "source": [
    "stimulus_table = dataset.stimulus_table\n",
    "evt = obhf.load_dff_events_file(experiment_id)\n",
    "dff = dataset.dff_traces\n",
    "tme = dataset.timestamps_ophys"
   ]
  },
  {
   "cell_type": "code",
   "execution_count": 405,
   "metadata": {},
   "outputs": [
    {
     "name": "stdout",
     "output_type": "stream",
     "text": [
      "0.197996405335\n",
      "0.335426930077\n"
     ]
    },
    {
     "data": {
      "text/plain": [
       "[(0, 50), (0, 50), (0, 50)]"
      ]
     },
     "execution_count": 405,
     "metadata": {},
     "output_type": "execute_result"
    },
    {
     "data": {
      "image/png": "[encoded data removed]",
      "text/plain": [
       "<Figure size 432x288 with 4 Axes>"
      ]
     },
     "metadata": {},
     "output_type": "display_data"
    }
   ],
   "source": [
    "# visualize for a single cell\n",
    "cell = 6\n",
    "X = obps.dffBlockPlot(dff[cell,:],tme,stimulus_table['start_time'].values,window=(0,.75),plotme = False);\n",
    "Xe = obps.dffBlockPlot(evt[cell,:],tme,stimulus_table['start_time'].values,window=(0,.75),plotme = False);\n",
    "c = analysis.flash_response_df[analysis.flash_response_df['cell']==cell].mean_response.values\n",
    "pca = decomp.PCA()\n",
    "a = pca.fit_transform(X)\n",
    "print(pca.explained_variance_ratio_[0])\n",
    "pca2 = decomp.PCA()\n",
    "b  =pca2.fit_transform(Xe)\n",
    "print(pca2.explained_variance_ratio_[0])\n",
    "\n",
    "fig = plt.figure()\n",
    "axes = fig.subplots(4,1)\n",
    "axes[0].plot(pca.components_[0,:],'.')\n",
    "axes[0].plot(pca2.components_[0,:],'.')\n",
    "unq = np.unique(stimulus_table['image_name'])\n",
    "for uu in unq:\n",
    "    axes[1].plot(a[stimulus_table['image_name']==uu,0],'.')\n",
    "    axes[2].plot(b[stimulus_table['image_name']==uu,0],'.')\n",
    "    axes[3].plot(c[stimulus_table['image_name']==uu],'.')\n",
    "\n",
    "[ax.set_xlim((0,50)) for ax in axes[1:]]\n"
   ]
  },
  {
   "cell_type": "code",
   "execution_count": 172,
   "metadata": {},
   "outputs": [
    {
     "ename": "SyntaxError",
     "evalue": "invalid syntax (<ipython-input-172-57f41895413c>, line 10)",
     "output_type": "error",
     "traceback": [
      "\u001b[0;36m  File \u001b[0;32m\"<ipython-input-172-57f41895413c>\"\u001b[0;36m, line \u001b[0;32m10\u001b[0m\n\u001b[0;31m    axes[1].plot(pca.fit_transform_[])\u001b[0m\n\u001b[0m                                    ^\u001b[0m\n\u001b[0;31mSyntaxError\u001b[0m\u001b[0;31m:\u001b[0m invalid syntax\n"
     ]
    }
   ],
   "source": [
    "pca.components_.shape\n",
    "unique_image = np.unique(stimulus_table['image_name'])\n",
    "for ii, image in enumerate(unique_image):\n",
    "    usepts = stimulus_table['image_name']==image\n",
    "    #plt.plot(pca.components_[0,usepts],pca.components_[1,usepts],'.')\n",
    "    plt.plot(stimulus_table[stimulus_table.image_name==image]['flash_number'],\n",
    "             pca.components_[0,usepts],'.')\n",
    "axes = plt.figure().subplots(1,2)\n",
    "axes[0].plot(pca.explained_variance_ratio_,'.')\n",
    "axes[1].plot(pca.fit_transform_[])"
   ]
  },
  {
   "cell_type": "code",
   "execution_count": null,
   "metadata": {},
   "outputs": [],
   "source": []
  },
  {
   "cell_type": "code",
   "execution_count": null,
   "metadata": {},
   "outputs": [],
   "source": []
  },
  {
   "cell_type": "code",
   "execution_count": 55,
   "metadata": {},
   "outputs": [
    {
     "data": {
      "text/plain": [
       "[<matplotlib.lines.Line2D at 0x7fad165da650>]"
      ]
     },
     "execution_count": 55,
     "metadata": {},
     "output_type": "execute_result"
    },
    {
     "data": {
      "image/png": "[encoded data removed]",
      "text/plain": [
       "<Figure size 432x288 with 2 Axes>"
      ]
     },
     "metadata": {},
     "output_type": "display_data"
    }
   ],
   "source": [
    "axes = plt.figure().subplots(1,2)\n",
    "axes[0].plot(pca.explained_variance_ratio_,'.')\n",
    "axes[1].plot(pca.components_[:,-1])"
   ]
  },
  {
   "cell_type": "code",
   "execution_count": 47,
   "metadata": {},
   "outputs": [
    {
     "data": {
      "text/plain": [
       "0.5052484507753936"
      ]
     },
     "execution_count": 47,
     "metadata": {},
     "output_type": "execute_result"
    },
    {
     "data": {
      "image/png": "[encoded data removed]",
      "text/plain": [
       "<Figure size 432x288 with 1 Axes>"
      ]
     },
     "metadata": {},
     "output_type": "display_data"
    }
   ],
   "source": [
    "evt = obhf.load_dff_events_file(experiment_id)\n",
    "pca2 = decomp.PCA()\n",
    "pc = pca2.fit(dff).components_\n",
    "plt.plot(pca2.explained_variance_ratio_,'.')\n",
    "np.sum(pca2.explained_variance_ratio_[:8])"
   ]
  },
  {
   "cell_type": "code",
   "execution_count": 40,
   "metadata": {},
   "outputs": [
    {
     "name": "stdout",
     "output_type": "stream",
     "text": [
      "0\n",
      "1\n",
      "2\n",
      "3\n",
      "4\n",
      "5\n",
      "6\n",
      "7\n",
      "8\n",
      "9\n",
      "10\n",
      "11\n",
      "12\n",
      "13\n",
      "14\n",
      "15\n",
      "16\n",
      "17\n",
      "18\n",
      "19\n",
      "20\n",
      "21\n",
      "22\n",
      "23\n",
      "24\n",
      "25\n",
      "26\n",
      "27\n",
      "28\n",
      "29\n",
      "30\n",
      "31\n",
      "32\n",
      "33\n",
      "34\n",
      "35\n",
      "36\n",
      "37\n",
      "38\n",
      "39\n",
      "40\n",
      "41\n",
      "42\n",
      "43\n",
      "44\n",
      "45\n",
      "46\n",
      "47\n",
      "48\n",
      "49\n",
      "50\n",
      "51\n",
      "52\n",
      "53\n",
      "54\n",
      "55\n",
      "56\n",
      "57\n",
      "58\n",
      "59\n",
      "60\n",
      "61\n",
      "62\n",
      "63\n",
      "64\n",
      "65\n",
      "66\n",
      "67\n",
      "68\n",
      "69\n",
      "70\n",
      "71\n",
      "72\n",
      "73\n",
      "74\n",
      "75\n",
      "76\n",
      "77\n",
      "78\n"
     ]
    }
   ],
   "source": [
    "cmap = mpl.cm.get_cmap('cool')\n",
    "fig = plt.figure()\n",
    "axes = fig.subplots(2,2)\n",
    "unique_image = np.unique(stimulus_table['image_name'])\n",
    "for ii, image in enumerate(unique_image):\n",
    "    if ii == 7:\n",
    "        xx1 = obps.dffBlockPlot(pc[0,:],tme,stimulus_table[stimulus_table.image_name==image]['start_time'].values,plotme = False);\n",
    "        xx2 = obps.dffBlockPlot(pc[1,:],tme,stimulus_table[stimulus_table.image_name==image]['start_time'].values,plotme = False);\n",
    "        xx3 = obps.dffBlockPlot(pc[2,:],tme,stimulus_table[stimulus_table.image_name==image]['start_time'].values,plotme = False);\n",
    "\n",
    "        cc = cmap(np.linspace(0,1,xx1.shape[0]))\n",
    "        for jj,line in enumerate(xx1):\n",
    "            axes[0,0].plot(xx1[jj,:],xx2[jj,:],color = cc[jj,:])\n",
    "            axes[0,1].plot(xx1[jj,:],xx3[jj,:],color = cc[jj,:])\n",
    "            axes[1,1].plot(xx2[jj,:],xx3[jj,:],color = cc[jj,:])\n",
    "\n",
    "    #plt.plot(xx1,xx2,'.')\n",
    "#plt.legend(unique_image)"
   ]
  },
  {
   "cell_type": "code",
   "execution_count": 186,
   "metadata": {},
   "outputs": [
    {
     "data": {
      "text/plain": [
       "704"
      ]
     },
     "execution_count": 186,
     "metadata": {},
     "output_type": "execute_result"
    }
   ],
   "source": [
    "len(stimulus_table[stimulus_table.image_name==image]['start_time'].values)"
   ]
  },
  {
   "cell_type": "code",
   "execution_count": null,
   "metadata": {},
   "outputs": [],
   "source": []
  },
  {
   "cell_type": "code",
   "execution_count": null,
   "metadata": {},
   "outputs": [],
   "source": []
  }
 ],
 "metadata": {
  "kernelspec": {
   "display_name": "conda_python2",
   "language": "python",
   "name": "conda_python2"
  },
  "language_info": {
   "codemirror_mode": {
    "name": "ipython",
    "version": 2
   },
   "file_extension": ".py",
   "mimetype": "text/x-python",
   "name": "python",
   "nbconvert_exporter": "python",
   "pygments_lexer": "ipython2",
   "version": "2.7.15"
  }
 },
 "nbformat": 4,
 "nbformat_minor": 2
}

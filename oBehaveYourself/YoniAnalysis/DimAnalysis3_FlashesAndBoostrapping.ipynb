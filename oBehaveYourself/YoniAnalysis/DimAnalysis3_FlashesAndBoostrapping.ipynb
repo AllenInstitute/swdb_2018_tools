{
 "cells": [
  {
   "cell_type": "code",
   "execution_count": null,
   "metadata": {},
   "outputs": [],
   "source": [
    "'''\n",
    "This is script is for: \n",
    "(A) looking at dimensionality between flashes and \n",
    "(B) bootstrapping dimensionality to make sure that effects are real and not a wierd function \n",
    "of e.g. sample size\n",
    "--> in this case, boostraping is a leave-n-out, where the dimensionality is computed repeately \n",
    "    with a random subset of the overall data.\n",
    "    \n",
    "Created by Yoni Browning, August 2018\n",
    "'''"
   ]
  },
  {
   "cell_type": "code",
   "execution_count": 1,
   "metadata": {},
   "outputs": [
    {
     "name": "stderr",
     "output_type": "stream",
     "text": [
      "/home/ec2-user/anaconda3/envs/python2/lib/python2.7/site-packages/h5py/__init__.py:36: FutureWarning: Conversion of the second argument of issubdtype from `float` to `np.floating` is deprecated. In future, it will be treated as `np.float64 == np.dtype(float).type`.\n",
      "  from ._conv import register_converters as _register_converters\n"
     ]
    }
   ],
   "source": [
    "%load_ext autoreload\n",
    "%autoreload 2\n",
    "import matplotlib as mpl\n",
    "import scipy as sp\n",
    "import numpy as np\n",
    "import pandas as pd\n",
    "# sometimes order maters on these\n",
    "import matplotlib.pyplot as plt\n",
    "from mpl_toolkits.mplot3d import Axes3D\n",
    "import oBehave.plotting_stuff as obps\n",
    "import oBehave.helperfunctions as obhf\n",
    "import oBehave.neural_analysis as obna\n",
    "import oBehave.behavior_analysis as obba\n",
    "import sklearn.decomposition as decomp\n",
    "from sklearn.model_selection import train_test_split\n",
    "import sklearn.decomposition as decomp\n",
    "from sklearn.preprocessing import StandardScaler\n",
    "\n",
    "from visual_behavior.ophys.dataset.visual_behavior_ophys_dataset import VisualBehaviorOphysDataset\n",
    "from visual_behavior.ophys.response_analysis.utilities import get_trace_around_timepoint,get_nearest_frame\n",
    "from visual_behavior.ophys.response_analysis.response_analysis import ResponseAnalysis\n",
    "\n",
    "experiment_id = 639438856# experiment B\n",
    "#experiment_id = 639253368"
   ]
  },
  {
   "cell_type": "code",
   "execution_count": 2,
   "metadata": {},
   "outputs": [],
   "source": [
    "# Load the manifest\n",
    "manifest = obhf.load_manifest()\n",
    "obba.includeNovelSession(manifest);"
   ]
  },
  {
   "cell_type": "code",
   "execution_count": 3,
   "metadata": {},
   "outputs": [
    {
     "name": "stdout",
     "output_type": "stream",
     "text": [
      "loading trial response dataframe\n",
      "loading flash response dataframe\n"
     ]
    }
   ],
   "source": [
    "# Loat a single data set\n",
    "dataset= VisualBehaviorOphysDataset(experiment_id=experiment_id, cache_dir=obhf.drive_path)\n",
    "analysis = ResponseAnalysis(dataset)"
   ]
  },
  {
   "cell_type": "code",
   "execution_count": 4,
   "metadata": {},
   "outputs": [],
   "source": [
    "# Define some functions we will need...In the long run there should be sent to ob as callable functions\n",
    "def killnancells(dataset,analysis):\n",
    "    bad_cell_indices = []\n",
    "    bad_cell_ids = []\n",
    "    for cell_index in range(dataset.dff_traces[1].shape[0]):\n",
    "        if np.isnan(dataset.dff_traces[1][cell_index][0]): #check whether first datapoint is nan\n",
    "           bad_cell_indices.append(cell_index)\n",
    "           bad_cell_ids.append(dataset.get_cell_specimen_id_for_cell_index(cell_index))\n",
    "    fdf = analysis.flash_response_df.copy()\n",
    "    fdf = fdf[fdf.cell.isin(bad_cell_indices)==False]\n",
    "    return fdf"
   ]
  },
  {
   "cell_type": "code",
   "execution_count": 5,
   "metadata": {},
   "outputs": [
    {
     "data": {
      "text/plain": [
       "PCA(copy=True, iterated_power='auto', n_components=None, random_state=None,\n",
       "  svd_solver='auto', tol=0.0, whiten=False)"
      ]
     },
     "execution_count": 5,
     "metadata": {},
     "output_type": "execute_result"
    }
   ],
   "source": [
    "# We want to bootstrap dim analysis. Get the data ready\n",
    "num_trials = len(dataset.stimulus_table)\n",
    "fr = killnancells(dataset,analysis)\n",
    "use_cells = np.unique(fr.cell)\n",
    "response_array = np.empty((num_trials,len(use_cells)))\n",
    "for i in range(num_trials):\n",
    "    response_array[i,:] = fr[fr.flash_number==i].mean_response.values\n",
    "    \n"
   ]
  },
  {
   "cell_type": "code",
   "execution_count": 7,
   "metadata": {},
   "outputs": [
    {
     "data": {
      "text/plain": [
       "77"
      ]
     },
     "execution_count": 7,
     "metadata": {},
     "output_type": "execute_result"
    },
    {
     "data": {
      "image/png": "[encoded data removed]",
      "text/plain": [
       "<Figure size 432x288 with 1 Axes>"
      ]
     },
     "metadata": {},
     "output_type": "display_data"
    }
   ],
   "source": [
    "#sanity check. It would be sad to lie to everyone, so just make sure array sizes make sense :<)\n",
    "pca = decomp.PCA()\n",
    "pca.fit(response_array)\n",
    "# visualize a PC (or two!)\n",
    "plt.plot(pca.components_[8,:])\n",
    "use_cells[np.argsort(abs(pca.components_[5,:]))[-1]]\n",
    "#print(pca.components_[0])"
   ]
  },
  {
   "cell_type": "code",
   "execution_count": 8,
   "metadata": {},
   "outputs": [],
   "source": [
    "# functions for computing and bootstrapping dimension\n",
    "def getDimension(response_array, useStandardScaler =False):\n",
    "    response_array = np.array(response_array) \n",
    "    if useStandardScaler:\n",
    "        SS = StandardScaler()\n",
    "        response_array = SS.fit_transform(response_array)\n",
    "    PCA = decomp.PCA()\n",
    "    PCA.fit(response_array-response_array.mean())\n",
    "    D_star = 1/sum((PCA.explained_variance_ratio_)**2.)\n",
    "    return D_star\n",
    "\n",
    "# Bootstrap by leaving out random subsets of cells, building subpops of sizes\n",
    "# 1 to N-1. Note that this should be 2 to N-1, since once cell has dim 1, but \n",
    "# I forgot to change it before running.\n",
    "def boostrapDimension(response_array,Nboots = None,useStandardScaler = False):\n",
    "    # Number of cells\n",
    "    num_cells = response_array.shape[1]\n",
    "    # Default number of bootstraps is the number of cells. \n",
    "    # this really only makes sense in the special case of N-1 cells.\n",
    "    if Nboots is None:\n",
    "        Nboots = num_cells\n",
    "    # Do the bootstraping, calculating the dimension\n",
    "    PCA = decomp.PCA()\n",
    "    if useStandardScaler:\n",
    "        SS = StandardScaler()\n",
    "    store_boots = np.zeros((num_cells-1,Nboots))\n",
    "    for ii in range(1,num_cells):\n",
    "        for jj in range(Nboots):\n",
    "            try:\n",
    "                tmp = response_array[:,np.random.choice(num_cells,ii)]\n",
    "                if useStandardScaler:\n",
    "                    tmp = SS.fit_transform(tmp)\n",
    "                PCA.fit(tmp-tmp.mean())\n",
    "                D = 1/sum((PCA.explained_variance_ratio_)**2.)\n",
    "                store_boots[ii-1,jj] = D\n",
    "            except np.linalg.LinAlgError:\n",
    "                store_boots[ii-1,jj] = np.isnan\n",
    "    return store_boots"
   ]
  },
  {
   "cell_type": "code",
   "execution_count": 9,
   "metadata": {},
   "outputs": [],
   "source": [
    "# test out the new block assignment.\n",
    "fr = killnancells(dataset,analysis)\n",
    "fb = obba.includeAddRepeats_dataset(dataset.stimulus_table,dataset.all_trials)"
   ]
  },
  {
   "cell_type": "code",
   "execution_count": null,
   "metadata": {},
   "outputs": [
    {
     "name": "stdout",
     "output_type": "stream",
     "text": [
      "Started 0: 652844352\n",
      "loading trial response dataframe\n",
      "loading flash response dataframe\n",
      "Dim = 5.360926174140501\n",
      "Started 0: 653053906\n",
      "loading trial response dataframe\n",
      "loading flash response dataframe\n",
      "Dim = 11.130728412557778\n",
      "Started 0: 653123781\n",
      "loading trial response dataframe\n",
      "loading flash response dataframe\n",
      "Dim = 11.427267824359681\n",
      "Started 0: 639253368\n",
      "loading trial response dataframe\n",
      "loading flash response dataframe\n",
      "Dim = 2.5137646902742894\n",
      "Started 0: 639438856\n",
      "loading trial response dataframe\n",
      "loading flash response dataframe\n",
      "Dim = 7.3256750425118575\n",
      "Started 0: 639769395\n",
      "loading trial response dataframe\n",
      "loading flash response dataframe\n",
      "Dim = 14.605911824189485\n",
      "Started 0: 639932228\n",
      "loading trial response dataframe\n",
      "loading flash response dataframe\n"
     ]
    }
   ],
   "source": [
    "# Do the boostrapping for each session. Save result as pickle\n",
    "# while we are boostrapping, also look at first vs. not first flashes, in addition to \n",
    "# data containing all flashes. Bootstap all of it, because this for loop takes a while \n",
    "# and we wont want to run it again if something interesting comes out.\n",
    "manifest.head()\n",
    "tmp_manifest = manifest[(manifest.targeted_structure=='VISp')&manifest.cre_line.str.contains('Slc')&(manifest.first_session)]\n",
    "\n",
    "keylist = ['experiment_id','targeted_structure','session_type','donor_id','full_dim','dim_ss','dim_first','dim_notfirst','bootresults','bootresults_ss','bootresults_first','bootresults_notfirst']\n",
    "dimdata = {k:[] for k in keylist}\n",
    "Nboots = 1000\n",
    "colorlist = plt.rcParams['axes.prop_cycle'].by_key()['color']\n",
    "for idx,row in tmp_manifest.iterrows():\n",
    "    print('Started ' +str(counter)+': ' + str(row.experiment_id))\n",
    "    # load the dataset\n",
    "    dataset= VisualBehaviorOphysDataset(experiment_id=row.experiment_id, cache_dir=obhf.drive_path)\n",
    "    analysis = ResponseAnalysis(dataset)\n",
    "    fb = obba.includeAddRepeats_dataset(dataset.stimulus_table,dataset.all_trials)\n",
    "    # Compute the response array\n",
    "    num_trials = len(dataset.stimulus_table)\n",
    "    fr = killnancells(dataset,analysis)\n",
    "    use_cells = np.unique(fr.cell)\n",
    "    # Full response array\n",
    "    response_array = np.empty((num_trials,len(use_cells)))\n",
    "    for i in range(num_trials):\n",
    "        response_array[i,:] = fr[fr.flash_number==i].mean_response.values\n",
    "    # Get the full dimensionality\n",
    "    D_star = getDimension(response_array)\n",
    "    store_boots = boostrapDimension(response_array,Nboots)\n",
    "    D_ss = getDimension(response_array,useStandardScaler=True)\n",
    "    store_boots_ss = boostrapDimension(response_array,Nboots,useStandardScaler=True)\n",
    "    dimdata['experiment_id'].append(row.experiment_id)\n",
    "    \n",
    "    # SubsetArrayResponse\n",
    "    # First responces\n",
    "    X = fr.merge(fb,left_on = ('flash_number','start_time','image_name'),\n",
    "                 right_on = ('flash_number','start_time','image_name'),how= 'left') \n",
    "    X_tmp = X[X.repeats==1]\n",
    "    use_cells = np.unique(X_tmp.cell)\n",
    "    first_trials = np.unique(X_tmp.flash_number[X_tmp.repeats==1])\n",
    "    response_array_first = np.empty((len(first_trials),len(use_cells)))\n",
    "    first_flashes = X_tmp[X_tmp.repeats==1].flash_number.values\n",
    "    for i,f in enumerate(first_trials):\n",
    "        response_array_first[i,:] = X_tmp[X_tmp.flash_number==f].mean_response.values\n",
    "    D_first = getDimension(response_array_first)\n",
    "    store_boots_first = boostrapDimension(response_array_first,Nboots)\n",
    "    \n",
    "    # Not first responces\n",
    "    X_tmp = X[X.repeats!=1]\n",
    "    use_cells = np.unique(X_tmp.cell)\n",
    "    notfirst_trials = np.unique(X_tmp.flash_number[X_tmp.repeats!=1])\n",
    "    response_array_notfirst = np.empty((len(notfirst_trials),len(use_cells)))\n",
    "    notfirst_flashes = X_tmp[X_tmp.repeats!=1].flash_number.values\n",
    "    for i,f in enumerate(notfirst_trials):\n",
    "        response_array_notfirst[i,:] = X_tmp[X_tmp.flash_number==f].mean_response.values\n",
    "    D_notfirst = getDimension(response_array_notfirst)\n",
    "    store_boots_notfirst = boostrapDimension(response_array_notfirst,Nboots)\n",
    "    \n",
    "    # save output\n",
    "    dimdata['session_type'].append(row.session_type)\n",
    "    dimdata['targeted_structure'].append(row.targeted_structure)\n",
    "    dimdata['donor_id'].append(row.donor_id)\n",
    "    dimdata['full_dim'].append(D_star.copy())\n",
    "    dimdata['dim_ss'].append(D_ss.copy())\n",
    "    dimdata['dim_first'].append(D_first.copy())\n",
    "    dimdata['dim_notfirst'].append(D_notfirst.copy())\n",
    "    dimdata['bootresults'].append(store_boots.copy())\n",
    "    dimdata['bootresults_ss'].append(store_boots_ss.copy())\n",
    "    dimdata['bootresults_first'].append(store_boots_first.copy())\n",
    "    dimdata['bootresults_notfirst'].append(store_boots_notfirst.copy())\n",
    "    # print\n",
    "    print('Dim = ' + str(D_star))\n",
    "DimData = pd.DataFrame(dimdata)\n",
    "DimData.to_pickle('./DimReductionBootstrap_allwsubsets_VISp_Slc.pkl')"
   ]
  },
  {
   "cell_type": "code",
   "execution_count": 15,
   "metadata": {},
   "outputs": [],
   "source": [
    "#DimData = pd.DataFrame(dimdata)\n",
    "#DimData.to_pickle('./DimReductionBootstrap_allwsubsets_VISp_Slc.pkl')"
   ]
  },
  {
   "cell_type": "code",
   "execution_count": 20,
   "metadata": {},
   "outputs": [
    {
     "data": {
      "text/plain": [
       "Text(0.5,1,'Slc, VISp')"
      ]
     },
     "execution_count": 20,
     "metadata": {},
     "output_type": "execute_result"
    },
    {
     "data": {
      "image/png": "[encoded data removed]",
      "text/plain": [
       "<Figure size 432x288 with 1 Axes>"
      ]
     },
     "metadata": {},
     "output_type": "display_data"
    }
   ],
   "source": [
    "# Plot Ave, 1st flash, not first flash dim for each session type.\n",
    "DimFrame = DimData.merge(manifest,left_on = ['experiment_id','donor_id','session_type','targeted_structure'],right_on = ['experiment_id','donor_id','session_type','targeted_structure'],how = 'left')\n",
    "behs = ['behavior_session_A','behavior_session_B','behavior_session_C','behavior_session_D']\n",
    "scat = []\n",
    "colorlist = plt.rcParams['axes.prop_cycle'].by_key()['color']\n",
    "for ii,s in enumerate(behs):\n",
    "    this_data = DimFrame[(DimFrame.targeted_structure=='VISp')\n",
    "                         &(DimFrame['cre_line']=='Slc17a7-IRES2-Cre')#'Vip-IRES-Cre')#'Vip-IRES-Cre')#\n",
    "                         &(DimFrame['session_type']==s)]['full_dim'].values\n",
    "    this_data1 = DimFrame[(DimFrame.targeted_structure=='VISp')\n",
    "                     &(DimFrame['cre_line']=='Slc17a7-IRES2-Cre')#'Vip-IRES-Cre')#'Vip-IRES-Cre')#\n",
    "                     &(DimFrame['session_type']==s)]['dim_first'].values\n",
    "    this_data2 = DimFrame[(DimFrame.targeted_structure=='VISp')\n",
    "                 &(DimFrame['cre_line']=='Slc17a7-IRES2-Cre')#'Vip-IRES-Cre')#'Vip-IRES-Cre')#\n",
    "                 &(DimFrame['session_type']==s)]['dim_notfirst'].values\n",
    "    scat.append(this_data)\n",
    "    #print(this_data)\n",
    "    plt.scatter(ii*np.ones((len(this_data),1)),this_data,color = 'K',marker = 'o',zorder = 3,s = [150]*len(this_data))#np.oness((len(this_data),)))\n",
    "    plt.bar(ii,np.mean(this_data),yerr = sp.std(this_data),color = colorlist[0],width = .25)\n",
    "    \n",
    "    plt.scatter(ii*np.ones((len(this_data1),1))+.25,this_data1,color = 'K',marker = 'o',zorder = 3,s = [150]*len(this_data1))#np.oness((len(this_data),)))\n",
    "    plt.bar(ii+.25,np.mean(this_data1),yerr = sp.std(this_data1),color = colorlist[1],width = .25)\n",
    "    \n",
    "    plt.scatter(ii*np.ones((len(this_data2),1))+.5,this_data2,color = 'K',marker = 'o',zorder = 3,s = [150]*len(this_data2))#np.oness((len(this_data),)))\n",
    "    plt.bar(ii+.5,np.mean(this_data2),yerr = sp.std(this_data2),color = colorlist[2],width = .25)\n",
    "\n",
    "plt.xticks(np.array([0,1,2,3])+.25,['A','B','C','D'])\n",
    "plt.ylabel('Estimated Experiment Dim')\n",
    "plt.xlabel('Behavior Session Type')\n",
    "plt.title('Slc, VISp')"
   ]
  },
  {
   "cell_type": "code",
   "execution_count": 32,
   "metadata": {},
   "outputs": [
    {
     "data": {
      "text/plain": [
       "Text(0,0.5,'Estimated Dimension')"
      ]
     },
     "execution_count": 32,
     "metadata": {},
     "output_type": "execute_result"
    },
    {
     "data": {
      "image/png": "[encoded data removed]",
      "text/plain": [
       "<Figure size 432x288 with 1 Axes>"
      ]
     },
     "metadata": {},
     "output_type": "display_data"
    }
   ],
   "source": [
    "# Plot boostrap results\n",
    "# NOTE: this code has a std comand in right now, Eric thinks the more\n",
    "#      proper way to see these curves is with standard error of mean. I like \n",
    "#      STD for visualization of pop variance, though\n",
    "colorlist = plt.rcParams['axes.prop_cycle'].by_key()['color']\n",
    "for ths,row in DimData.iterrows():\n",
    "    if 'A' in row.session_type:\n",
    "        cc =colorlist[0]\n",
    "        ll = 'A'\n",
    "    elif 'B' in row.session_type:\n",
    "        cc =colorlist[1]\n",
    "        ll = 'B'\n",
    "    elif 'C' in row.session_type:\n",
    "        cc =colorlist[2]\n",
    "        ll = 'C'\n",
    "    else:\n",
    "        cc =colorlist[3]\n",
    "        ll = 'D'\n",
    "\n",
    "    plt.errorbar(range(1,DimData.bootresults[ths].shape[0]+1),DimData.bootresults[ths].mean(axis = 1),yerr = DimData.bootresults[ths].std(axis = 1),color = cc)\n",
    "    plt.scatter(DimData.bootresults[ths].shape[0],DimData.full_dim[ths],marker= '*',s = 200,color = cc,label = ll)\n",
    "#plt.legend()\n",
    "plt.xlabel('Number of Included Cells')\n",
    "plt.ylabel('Estimated Dimension')\n"
   ]
  },
  {
   "cell_type": "code",
   "execution_count": null,
   "metadata": {},
   "outputs": [],
   "source": []
  },
  {
   "cell_type": "code",
   "execution_count": 21,
   "metadata": {},
   "outputs": [
    {
     "data": {
      "text/plain": [
       "<matplotlib.collections.PathCollection at 0x7f7f82d91190>"
      ]
     },
     "execution_count": 21,
     "metadata": {},
     "output_type": "execute_result"
    },
    {
     "data": {
      "image/png": "[encoded data removed]",
      "text/plain": [
       "<Figure size 432x288 with 1 Axes>"
      ]
     },
     "metadata": {},
     "output_type": "display_data"
    }
   ],
   "source": [
    "# plot for one mouse, since seeing all the data is overwhelming\n",
    "ths = 3\n",
    "plt.errorbar(range(1,DimData.bootresults[ths].shape[0]+1),DimData.bootresults[ths].mean(axis = 1),yerr = sp.stats.sem(DimData.bootresults[ths],axis = 1))\n",
    "plt.scatter(DimData.bootresults[ths].shape[0],DimData.full_dim[ths],marker= '*',s = 200)\n",
    "ths = 4\n",
    "plt.errorbar(range(1,DimData.bootresults[ths].shape[0]+1),DimData.bootresults[ths].mean(axis = 1),yerr = sp.stats.sem(DimData.bootresults[ths],axis = 1))\n",
    "plt.scatter(DimData.bootresults[ths].shape[0],DimData.full_dim[ths],marker= '*',s = 200)\n",
    "ths = 5\n",
    "plt.errorbar(range(1,DimData.bootresults[ths].shape[0]+1),DimData.bootresults[ths].mean(axis = 1),yerr = sp.stats.sem(DimData.bootresults[ths],axis = 1))\n",
    "plt.scatter(DimData.bootresults[ths].shape[0],DimData.full_dim[ths],marker= '*',s = 200)\n",
    "\n",
    "#plt.errorbar(range(1,DimData.bootresults[3].shape[0]+1),DimData.bootresults[3].mean(axis = 1),yerr = DimData.bootresults[3].std(axis = 1))\n"
   ]
  },
  {
   "cell_type": "code",
   "execution_count": null,
   "metadata": {},
   "outputs": [],
   "source": [
    "# X_tmp = X[X.repeats==1]\n",
    "# use_cells = np.unique(X_tmp.cell)\n",
    "# first_trials = np.unique(X_tmp.flash_number[X_tmp.repeats==1])\n",
    "# response_array_first = np.empty((len(first_trials),len(use_cells)))\n",
    "# first_flashes = X_tmp[X_tmp.repeats==1].flash_number.values\n",
    "# for i,f in enumerate(first_trials):\n",
    "#     response_array_first[i,:] = X_tmp[X_tmp.flash_number==f].mean_response.values\n",
    "# pca = decomp.PCA()\n",
    "# pca.fit(response_array_first)\n",
    "# pca.components_.shape\n",
    "# 1/np.sum(pca.explained_variance_ratio_**2)"
   ]
  },
  {
   "cell_type": "code",
   "execution_count": null,
   "metadata": {},
   "outputs": [],
   "source": [
    "# X_tmp = X[X.repeats!=1]\n",
    "# use_cells = np.unique(X_tmp.cell)\n",
    "# notfirst_trials = np.unique(X_tmp.flash_number[X_tmp.repeats!=1])\n",
    "# response_array_notfirst = np.empty((len(notfirst_trials),len(use_cells)))\n",
    "# notfirst_flashes = X_tmp[X_tmp.repeats!=1].flash_number.values\n",
    "# for i,f in enumerate(notfirst_trials):\n",
    "#     response_array_notfirst[i,:] = X_tmp[X_tmp.flash_number==f].mean_response.values\n",
    "# pca = decomp.PCA()\n",
    "# pca.fit(response_array_notfirst)\n",
    "# pca.components_.shape\n",
    "# 1/np.sum(pca.explained_variance_ratio_**2)"
   ]
  },
  {
   "cell_type": "code",
   "execution_count": null,
   "metadata": {},
   "outputs": [],
   "source": [
    "# # Not lets grab only cases where it is the first flash\n",
    "# num_trials = len(dataset.stimulus_table)\n",
    "# fr = killnancells(dataset,analysis)\n",
    "# use_cells = np.unique(fr.cell)\n",
    "# response_array = np.empty((num_trials,len(use_cells)))\n",
    "# for i in range(num_trials):\n",
    "#     response_array[i,:] = fr[fr.flash_number==i].mean_response.values\n",
    "# #sanity check. It would be sad to lie to everyone :<)\n",
    "# pca = decomp.PCA()\n",
    "# pca.fit(response_array)\n",
    "# pca.components_.shape"
   ]
  },
  {
   "cell_type": "code",
   "execution_count": null,
   "metadata": {},
   "outputs": [],
   "source": [
    "#     # get rid of data in fb so that it doesn't use all our memory\n",
    "#     keeplist = [fr.columns[ll] for ll in range(len(fr.columns))]#.append('repeats').append('block')\n",
    "#     keeplist.append('repeats')\n",
    "#     keeplist.append('block')\n",
    "#     killthese = [(cc not in keeplist) for ll,cc in enumerate(fb.columns)]\n",
    "#     fb = fb.drop(columns = fb.columns[killthese])"
   ]
  }
 ],
 "metadata": {
  "kernelspec": {
   "display_name": "conda_python2",
   "language": "python",
   "name": "conda_python2"
  },
  "language_info": {
   "codemirror_mode": {
    "name": "ipython",
    "version": 2
   },
   "file_extension": ".py",
   "mimetype": "text/x-python",
   "name": "python",
   "nbconvert_exporter": "python",
   "pygments_lexer": "ipython2",
   "version": "2.7.15"
  }
 },
 "nbformat": 4,
 "nbformat_minor": 2
}

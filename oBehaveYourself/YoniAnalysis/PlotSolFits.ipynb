{
 "cells": [
  {
   "cell_type": "code",
   "execution_count": null,
   "metadata": {},
   "outputs": [],
   "source": [
    "\"\"\"\n",
    "Code for looking and exponential and linear fits to flash responses, as fit by Sol.\n",
    "\"\"\""
   ]
  },
  {
   "cell_type": "code",
   "execution_count": 67,
   "metadata": {},
   "outputs": [],
   "source": [
    "import pandas as pd\n",
    "import numpy as np\n",
    "from matplotlib import pyplot as plt\n",
    "import seaborn as sns\n"
   ]
  },
  {
   "cell_type": "code",
   "execution_count": 79,
   "metadata": {},
   "outputs": [
    {
     "data": {
      "text/plain": [
       "Index([u'Optim_params_exp', u'Optim_params_lin', u'cell', u'experiment_id',\n",
       "       u'image_name', u'r_sq_exp', u'r_sq_lin', u'session_type'],\n",
       "      dtype='object')"
      ]
     },
     "execution_count": 79,
     "metadata": {},
     "output_type": "execute_result"
    }
   ],
   "source": [
    "DF = pd.read_pickle('./fit_df_ALL_numbers.pkl')\n",
    "dd = {k:[] for k in ['cell','experiment_id','session_type','image_name','expfit_a','expfit_b','lin_a','lin_b']}\n",
    "DF.columns"
   ]
  },
  {
   "cell_type": "code",
   "execution_count": 80,
   "metadata": {},
   "outputs": [],
   "source": [
    "for ii,row in DF.iterrows():\n",
    "    dd['experiment_id'].append(row.experiment_id)\n",
    "    dd['session_type'].append(row.session_type)\n",
    "    dd['cell'].append(row.cell)\n",
    "    dd['image_name'].append(row.image_name)\n",
    "    dd['expfit_a'].append(row.Optim_params_exp[0][0])\n",
    "    dd['expfit_b'].append(row.Optim_params_exp[0][1])\n",
    "    dd['lin_a'].append(row.Optim_params_lin[0][0])\n",
    "    dd['lin_b'].append(row.Optim_params_lin[0][1])\n",
    "\n",
    "DD = pd.DataFrame(dd)"
   ]
  },
  {
   "cell_type": "code",
   "execution_count": 83,
   "metadata": {},
   "outputs": [
    {
     "name": "stderr",
     "output_type": "stream",
     "text": [
      "/home/ec2-user/anaconda3/envs/python2/lib/python2.7/site-packages/matplotlib/axes/_axes.py:6462: UserWarning: The 'normed' kwarg is deprecated, and has been replaced by the 'density' kwarg.\n",
      "  warnings.warn(\"The 'normed' kwarg is deprecated, and has been \"\n",
      "/home/ec2-user/anaconda3/envs/python2/lib/python2.7/site-packages/matplotlib/axes/_axes.py:6462: UserWarning: The 'normed' kwarg is deprecated, and has been replaced by the 'density' kwarg.\n",
      "  warnings.warn(\"The 'normed' kwarg is deprecated, and has been \"\n"
     ]
    },
    {
     "data": {
      "text/plain": [
       "(-0.01, 0.01)"
      ]
     },
     "execution_count": 83,
     "metadata": {},
     "output_type": "execute_result"
    },
    {
     "data": {
      "image/png": "[encoded data removed]",
      "text/plain": [
       "<Figure size 432x288 with 1 Axes>"
      ]
     },
     "metadata": {},
     "output_type": "display_data"
    }
   ],
   "source": [
    "plt.hist(DD['lin_b'][DD['session_type'].str.contains('A')],100,normed = True,alpha = .5);\n",
    "plt.hist(DD['lin_b'][~DD['session_type'].str.contains('A')],100,normed = True,alpha = .5);\n",
    "plt.legend(['A','Not A'])\n",
    "plt.xlabel('Time constant (Blocks)')\n",
    "plt.ylabel('% Pop per bin')\n",
    "plt.xlim([-.01,.01])\n"
   ]
  },
  {
   "cell_type": "code",
   "execution_count": 85,
   "metadata": {},
   "outputs": [],
   "source": []
  },
  {
   "cell_type": "code",
   "execution_count": null,
   "metadata": {},
   "outputs": [],
   "source": [
    "from sklearn import decomposition\n",
    "import numpy as np\n",
    "pca = decomposition.PCA()\n",
    "pca.fit(some_data)\n",
    "dimension = 1/np.sum(pca.explained_variance_ratio_**2)"
   ]
  }
 ],
 "metadata": {
  "kernelspec": {
   "display_name": "conda_python2",
   "language": "python",
   "name": "conda_python2"
  },
  "language_info": {
   "codemirror_mode": {
    "name": "ipython",
    "version": 2
   },
   "file_extension": ".py",
   "mimetype": "text/x-python",
   "name": "python",
   "nbconvert_exporter": "python",
   "pygments_lexer": "ipython2",
   "version": "2.7.15"
  }
 },
 "nbformat": 4,
 "nbformat_minor": 2
}

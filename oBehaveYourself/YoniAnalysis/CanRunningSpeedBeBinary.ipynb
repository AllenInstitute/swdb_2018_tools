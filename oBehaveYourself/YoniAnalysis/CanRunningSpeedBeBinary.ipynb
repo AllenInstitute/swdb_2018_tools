{
 "cells": [
  {
   "cell_type": "code",
   "execution_count": null,
   "metadata": {},
   "outputs": [],
   "source": [
    "'''\n",
    "This was a super crappy analysis to see if running speed could be treated as binary.\n",
    "Basically, I trained a linear decoder on a binary and non-binary version of running speed,\n",
    "and found that decoding was slightly better for the binary version of this variable.\n",
    "I am pretty sure other groups did a less half-hearted version of this analysis, so maybe start\n",
    "there is you are looking to make similar claims.\n",
    "Created by Yoni Browning, August 2018\n",
    "\n",
    "'''"
   ]
  },
  {
   "cell_type": "code",
   "execution_count": 20,
   "metadata": {},
   "outputs": [
    {
     "name": "stdout",
     "output_type": "stream",
     "text": [
      "The autoreload extension is already loaded. To reload it, use:\n",
      "  %reload_ext autoreload\n"
     ]
    }
   ],
   "source": [
    "%load_ext autoreload\n",
    "%autoreload 2\n",
    "import matplotlib as mpl\n",
    "%matplotlib inline\n",
    "import scipy as sp\n",
    "import numpy as np\n",
    "import pandas as pd\n",
    "# sometimes order maters on these\n",
    "import matplotlib.pyplot as plt\n",
    "from mpl_toolkits.mplot3d import Axes3D\n",
    "import oBehave.plotting_stuff as obps\n",
    "import oBehave.helperfunctions as obhf\n",
    "import oBehave.neural_analysis as obna\n",
    "import oBehave.behavior_anaylsis as obba\n",
    "import sklearn.decomposition as decomp\n",
    "from sklearn.model_selection import train_test_split\n",
    "from sklearn.linear_model import LinearRegression as LR\n",
    "\n",
    "\n",
    "from visual_behavior.ophys.dataset.visual_behavior_ophys_dataset import VisualBehaviorOphysDataset\n",
    "from visual_behavior.ophys.response_analysis.utilities import get_trace_around_timepoint,get_nearest_frame\n",
    "from visual_behavior.ophys.response_analysis.response_analysis import ResponseAnalysis\n",
    "\n",
    "experiment_id = 639253368\n",
    "\n"
   ]
  },
  {
   "cell_type": "code",
   "execution_count": 5,
   "metadata": {},
   "outputs": [],
   "source": [
    "manifest = obhf.load_manifest()\n",
    "obba.includeNovelSession(manifest);\n",
    "dataset= VisualBehaviorOphysDataset(experiment_id=experiment_id, cache_dir=obhf.drive_path)"
   ]
  },
  {
   "cell_type": "code",
   "execution_count": 25,
   "metadata": {},
   "outputs": [
    {
     "data": {
      "image/png": "[encoded data removed]",
      "text/plain": [
       "<Figure size 432x288 with 1 Axes>"
      ]
     },
     "metadata": {},
     "output_type": "display_data"
    }
   ],
   "source": [
    "dff = dataset.dff_traces\n",
    "r = dataset.running_speed.running_speed.values\n",
    "run = np.interp(dataset.timestamps_ophys,dataset.timestamps_stimulus,r)\n",
    "plt.hist(run,100);"
   ]
  },
  {
   "cell_type": "code",
   "execution_count": 28,
   "metadata": {},
   "outputs": [],
   "source": [
    "# compute scores for binary and continuous running linear models\n",
    "def isRunningBinary(dataset):\n",
    "    # for continuous running\n",
    "    dff_train, dff_validate, run_train, run_validate = train_test_split(dff.T, run, train_size=0.5)\n",
    "    dff_validate, dff_test, run_validate, run_test = train_test_split(dff_validate, run_validate, test_size=0.5)\n",
    "    lr = LR()\n",
    "    lr.fit(dff_train,run_train)\n",
    "    cont_score = lr.score(dff_validate,run_validate)\n",
    "    # For running w/ split\n",
    "    dff_train, dff_validate, run_train, run_validate = train_test_split(dff.T, run>10, train_size=0.5)\n",
    "    dff_validate, dff_test, run_validate, run_test = train_test_split(dff_validate, run_validate, test_size=0.5)\n",
    "    lr = LR()\n",
    "    lr.fit(dff_train,run_train)\n",
    "    binary_score = lr.score(dff_validate,run_validate)\n",
    "    return cont_score,binary_score"
   ]
  },
  {
   "cell_type": "code",
   "execution_count": 32,
   "metadata": {},
   "outputs": [
    {
     "name": "stdout",
     "output_type": "stream",
     "text": [
      "C: 0.113309586562 B: 0.125338580402\n",
      "C: 0.1159355794 B: 0.136937974004\n",
      "C: 0.11529431669 B: 0.123222154686\n",
      "C: 0.118055283809 B: 0.126912328155\n",
      "C: 0.117334536318 B: 0.132794643273\n",
      "C: 0.122512932894 B: 0.127247544661\n",
      "C: 0.11671702514 B: 0.128475677751\n",
      "C: 0.123892672879 B: 0.130021906749\n",
      "C: 0.122886786787 B: 0.12591778595\n",
      "C: 0.119397256944 B: 0.126190142465\n",
      "C: 0.117277184603 B: 0.133167602619\n",
      "C: 0.119763667471 B: 0.125673070991\n",
      "C: 0.119368297916 B: 0.127534541782\n",
      "C: 0.12063928488 B: 0.126916194041\n",
      "C: 0.115178045696 B: 0.13137803446\n",
      "C: 0.11590592707 B: 0.132207359089\n",
      "C: 0.116758819739 B: 0.133267747756\n",
      "C: 0.117967296546 B: 0.132632678598\n",
      "C: 0.117750220814 B: 0.133115063232\n",
      "C: 0.116439679096 B: 0.130994771031\n",
      "C: 0.120599073121 B: 0.132332498629\n",
      "C: 0.114147480157 B: 0.133502753794\n",
      "C: 0.113878761162 B: 0.128223290602\n",
      "C: 0.121312065318 B: 0.12497813328\n",
      "C: 0.120078299395 B: 0.128419016344\n",
      "C: 0.116947648953 B: 0.129110896205\n",
      "C: 0.11875520179 B: 0.126555584287\n",
      "C: 0.123878369203 B: 0.127110876359\n",
      "C: 0.122766157603 B: 0.12555928346\n",
      "C: 0.11722285927 B: 0.132201805083\n",
      "C: 0.120897366407 B: 0.130467446043\n",
      "C: 0.114815357026 B: 0.127599615324\n",
      "C: 0.118478872598 B: 0.130054497702\n",
      "C: 0.12150181125 B: 0.129486379969\n",
      "C: 0.117852390536 B: 0.127839505427\n",
      "C: 0.115050181853 B: 0.129798169311\n",
      "C: 0.117358008305 B: 0.128226101339\n",
      "C: 0.124730083139 B: 0.133323465652\n",
      "C: 0.116142530378 B: 0.13171616367\n",
      "C: 0.113471153978 B: 0.132837097927\n",
      "C: 0.117867456098 B: 0.131094028473\n",
      "C: 0.114997681713 B: 0.130255071004\n",
      "C: 0.116730542222 B: 0.129014676469\n",
      "C: 0.124195597666 B: 0.127993402445\n",
      "C: 0.113165324764 B: 0.125765468373\n",
      "C: 0.118411092383 B: 0.132479157643\n",
      "C: 0.120109279095 B: 0.136177664009\n",
      "C: 0.115950915566 B: 0.137237178114\n",
      "C: 0.12413728967 B: 0.129449249526\n",
      "C: 0.121064072884 B: 0.12687141421\n",
      "C: 0.121649546275 B: 0.133346524872\n",
      "C: 0.122989478682 B: 0.131282735411\n",
      "C: 0.115786643605 B: 0.131538040754\n",
      "C: 0.109564368679 B: 0.125759596294\n",
      "C: 0.120051837121 B: 0.13309300905\n",
      "C: 0.117946806021 B: 0.132546024486\n",
      "C: 0.120736213416 B: 0.124811839797\n",
      "C: 0.108695723159 B: 0.130997391142\n",
      "C: 0.116114801726 B: 0.128967164506\n",
      "C: 0.115640040011 B: 0.131457039845\n"
     ]
    }
   ],
   "source": [
    "# Run for all experiments.\n",
    "cont_score = []\n",
    "binary_score = []\n",
    "for ii,row in manifest.iterrows():\n",
    "    c,b = isRunningBinary(VisualBehaviorOphysDataset(experiment_id=row.experiment_id, cache_dir=obhf.drive_path))\n",
    "    cont_score.append(c)\n",
    "    binary_score.append(b)\n",
    "    print('C: '+ str(c) + ' B: '+str(b))\n",
    "    "
   ]
  },
  {
   "cell_type": "code",
   "execution_count": null,
   "metadata": {},
   "outputs": [],
   "source": []
  }
 ],
 "metadata": {
  "kernelspec": {
   "display_name": "conda_python2",
   "language": "python",
   "name": "conda_python2"
  },
  "language_info": {
   "codemirror_mode": {
    "name": "ipython",
    "version": 2
   },
   "file_extension": ".py",
   "mimetype": "text/x-python",
   "name": "python",
   "nbconvert_exporter": "python",
   "pygments_lexer": "ipython2",
   "version": "2.7.15"
  }
 },
 "nbformat": 4,
 "nbformat_minor": 2
}

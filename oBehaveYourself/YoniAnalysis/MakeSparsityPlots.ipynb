{
 "cells": [
  {
   "cell_type": "code",
   "execution_count": null,
   "metadata": {},
   "outputs": [],
   "source": [
    "'''\n",
    "This script is just for plotting stored sparsity data results. \n",
    "Most of its functionality is copied and pasted from elsewhere.\n",
    "Created by Yoni Browning, August 2018\n",
    "'''"
   ]
  },
  {
   "cell_type": "code",
   "execution_count": 10,
   "metadata": {},
   "outputs": [],
   "source": [
    "import pandas as pd\n",
    "import numpy as np\n",
    "import scipy as sp\n",
    "\n",
    "import matplotlib.pyplot as plt\n",
    "from mpl_toolkits.mplot3d import Axes3D\n",
    "import oBehave.plotting_stuff as obps\n",
    "import oBehave.helperfunctions as obhf\n",
    "import oBehave.neural_analysis as obna\n",
    "import oBehave.behavior_anaylsis as obba\n"
   ]
  },
  {
   "cell_type": "code",
   "execution_count": 11,
   "metadata": {},
   "outputs": [],
   "source": [
    "# load the data from file\n",
    "# Load the manifest\n",
    "manifest = obhf.load_manifest()\n",
    "obba.includeNovelSession(manifest);\n",
    "DF = pd.read_pickle('./popMeanResponseSelectivity.pkl')"
   ]
  },
  {
   "cell_type": "code",
   "execution_count": 36,
   "metadata": {},
   "outputs": [],
   "source": []
  },
  {
   "cell_type": "code",
   "execution_count": 74,
   "metadata": {},
   "outputs": [],
   "source": [
    "# script fo rmaking an emperical cumulative density plot. Should be moved to plotting_stuff\n",
    "def ecdf(data,plotme = True,ax = None,**kwargs):\n",
    "    if not 'linestyle' in kwargs:\n",
    "        kwargs['linestyle'] = '-'\n",
    "    if not 'marker' in kwargs:\n",
    "        kwargs['marker'] = '.'\n",
    "    \n",
    "    if ax is None:\n",
    "        ax = plt.gca()\n",
    "    data = np.array(data)# Just in case\n",
    "    data = data[np.isfinite(data)]\n",
    "    cdfx = np.sort(np.unique(data[np.isfinite(data)]))\n",
    "    yval = np.zeros(cdfx.shape)\n",
    "    \n",
    "    for ii,xx in enumerate(cdfx):\n",
    "        yval[ii] = float(len(data[data<xx]))/float(len(data))\n",
    "    if plotme:\n",
    "        ax.plot(cdfx,yval,**kwargs)\n",
    "    return cdfx,yval"
   ]
  },
  {
   "cell_type": "code",
   "execution_count": 70,
   "metadata": {},
   "outputs": [],
   "source": [
    "CR = DF.copy()\n",
    "CR = CR.merge(manifest,left_on='experiment_id',right_on='experiment_id',how='left')"
   ]
  },
  {
   "cell_type": "code",
   "execution_count": 122,
   "metadata": {},
   "outputs": [
    {
     "data": {
      "text/plain": [
       "Ks_2sampResult(statistic=0.12036326107333029, pvalue=0.0009884215016472677)"
      ]
     },
     "execution_count": 122,
     "metadata": {},
     "output_type": "execute_result"
    },
    {
     "data": {
      "image/png": "[encoded data removed]",
      "text/plain": [
       "<Figure size 432x288 with 2 Axes>"
      ]
     },
     "metadata": {},
     "output_type": "display_data"
    }
   ],
   "source": [
    "# Parameters for first plot:\n",
    "\n",
    "colorlist_default = plt.rcParams['axes.prop_cycle'].by_key()['color']\n",
    "#colorlist = ['#dd1c77','#2ca25f', '#8856a7', colorlist_default[0]]\n",
    "colorlist = colorlist_default;\n",
    "key1 = 'SparAve'\n",
    "key_logical1 = np.isfinite(CR[key1])\n",
    "cre_logical1 = (CR['cre_line_x']=='Slc17a7-IRES2-Cre')\n",
    "session_logical1 = (CR['session_type_y'].str.contains('A'))\n",
    "target_logical1 = (CR['targeted_structure']=='VISp')\n",
    "# Parameters for second plot:\n",
    "key2 = 'SparAve'\n",
    "key_logical2 = np.isfinite(CR[key2])\n",
    "cre_logical2 = (CR['cre_line_x']=='Slc17a7-IRES2-Cre')\n",
    "session_logical2 = (CR['session_type_y'] is not 'behavior_session_A')\n",
    "target_logical2 = (CR['targeted_structure']=='VISp')\n",
    "# 3\n",
    "key3 = 'Spar3'\n",
    "key_logical3 = np.isfinite(CR[key3])\n",
    "cre_logical3 = (CR['cre_line_x']=='Slc17a7-IRES2-Cre')\n",
    "session_logical3 = (CR['session_type_y'].str.contains('A'))\n",
    "target_logical3 = (CR['targeted_structure']=='VISp')\n",
    "# 4\n",
    "key4 = 'SparAve'\n",
    "key_logical4 = np.isfinite(CR[key4])\n",
    "cre_logical4 = (CR['cre_line_x']=='Slc17a7-IRES2-Cre')\n",
    "session_logical4 = (CR['session_type_y'].str.contains('A'))\n",
    "target_logical4 = (CR['targeted_structure']=='VISp')\n",
    "leg = ['A','Not A']\n",
    "\n",
    "fig = plt.figure(tight_layout = True)\n",
    "axes = fig.subplots(1,2)\n",
    "axes[0].hist(CR[key1][key_logical1&cre_logical1&session_logical1&target_logical1].values,bins =30,normed = True,alpha = .6,color = colorlist[0])\n",
    "axes[0].hist(CR[key2][key_logical2&cre_logical2&session_logical2&target_logical2].values,bins =30,normed = True,alpha = .6,color = colorlist[1])\n",
    "#axes[0].hist(CR[key3][key_logical3&cre_logical2&session_logical3&target_logical3].values,bins =30,normed = True,alpha = .6,color = colorlist[2])\n",
    "#axes[0].hist(CR[key4][key_logical4&cre_logical2&session_logical4&target_logical4].values,bins =30,normed = True,alpha = .6,color = colorlist[3])\n",
    "\n",
    "axes[0].legend(leg)\n",
    "axes[0].set_title('Distribution')\n",
    "axes[0].set_ylabel('% Pop/Bin')\n",
    "axes[0].set_xlabel('Sparsity')\n",
    "\n",
    "ecdf(CR[key1][key_logical1&cre_logical1&session_logical1&target_logical1].values,ax = axes[1],color = colorlist[0],zorder = 3)\n",
    "ecdf(CR[key2][key_logical2&cre_logical2&session_logical2&target_logical2].values,ax = axes[1],color = colorlist[1])\n",
    "#ecdf(CR[key3][key_logical3&cre_logical3&session_logical3&target_logical3].values,ax = axes[1],color = colorlist[2])\n",
    "#ecdf(CR[key4][key_logical4&cre_logical4&session_logical4&target_logical4].values,ax = axes[1],color = colorlist[3])\n",
    "\n",
    "axes[1].legend(leg)\n",
    "axes[1].set_title('Emperical CDF')\n",
    "axes[1].set_ylabel('Fraction Pop')\n",
    "axes[1].set_xlabel('Sparsity')\n",
    "\n",
    "sp.stats.ks_2samp(CR[key1][key_logical1&cre_logical1&session_logical1&target_logical1].values,CR[key2][key_logical2&cre_logical2&session_logical2&target_logical2].values)"
   ]
  },
  {
   "cell_type": "code",
   "execution_count": null,
   "metadata": {},
   "outputs": [],
   "source": [
    "# Old version\n",
    "# def ecdf(data,plotme = True,ax = None,lineopts={'linestyle':'-','marker':'.'}):\n",
    "#     if ax is None:\n",
    "#         ax = plt.gca()\n",
    "#     data = np.array(data)# Just in case\n",
    "#     data = data[np.isfinite(data)]\n",
    "#     cdfx = np.sort(np.unique(data[np.isfinite(data)]))\n",
    "#     yval = np.zeros(cdfx.shape)\n",
    "#     for ii,xx in enumerate(cdfx):\n",
    "#         yval[ii] = float(len(data[data<xx]))/float(len(data))\n",
    "#     if plotme:\n",
    "#         ax.plot(cdfx,yval,**lineopts)\n",
    "#     return cdfx,yval"
   ]
  }
 ],
 "metadata": {
  "kernelspec": {
   "display_name": "conda_python2",
   "language": "python",
   "name": "conda_python2"
  },
  "language_info": {
   "codemirror_mode": {
    "name": "ipython",
    "version": 2
   },
   "file_extension": ".py",
   "mimetype": "text/x-python",
   "name": "python",
   "nbconvert_exporter": "python",
   "pygments_lexer": "ipython2",
   "version": "2.7.15"
  }
 },
 "nbformat": 4,
 "nbformat_minor": 2
}

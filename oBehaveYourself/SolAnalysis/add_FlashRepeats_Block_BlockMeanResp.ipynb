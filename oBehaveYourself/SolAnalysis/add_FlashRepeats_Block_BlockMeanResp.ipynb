{
 "cells": [
  {
   "cell_type": "markdown",
   "metadata": {},
   "source": [
    "This script adds (1) Flash Repeats and (2) Block numbers (3) Block_mean_response to a panda dataframe with information from flash_responses and all_trials. \n",
    "\n",
    "Please note the step of including dateTime to identify novel sessions, necessary per our analysis design. \n",
    "\n",
    "August 2018\n",
    "Created by M. Sol Bernardez Sarria in collaboration with project teammates and SWDB_2018 TAs\n"
   ]
  },
  {
   "cell_type": "code",
   "execution_count": null,
   "metadata": {},
   "outputs": [],
   "source": [
    "import matplotlib\n",
    "%matplotlib notebook\n",
    "\n",
    "import os\n",
    "import numpy as np\n",
    "import pandas as pd\n",
    "\n",
    "import sys\n",
    "\n",
    "import matplotlib as mpl\n",
    "import matplotlib.pyplot as plt\n",
    "\n",
    "# this makes print statements complaint with python 3 formatting\n",
    "from __future__ import print_function\n",
    "\n",
    "from datetime import datetime\n",
    "\n",
    "#Behavior\n",
    "from visual_behavior.ophys.dataset.visual_behavior_ophys_dataset import VisualBehaviorOphysDataset\n",
    "from visual_behavior.ophys.response_analysis.response_analysis import ResponseAnalysis \n",
    "\n",
    "# Local of the event drive path\n",
    "event_drive_path_AWS = '/data/dynamic-brain-workshop/visual_behavior_events' #AWS Location\n",
    "drive_path =  '/data/dynamic-brain-workshop/visual_behavior'\n",
    "\n",
    "#from functions developed by/with our group\n",
    "import oBehave.helperfunctions as obhf\n",
    "import oBehave.behavior_anaylsis as obba\n",
    "import oBehave.perCell_functions as obpc"
   ]
  },
  {
   "cell_type": "code",
   "execution_count": null,
   "metadata": {},
   "outputs": [],
   "source": [
    "#load the manifest file for all experiments\n",
    "#Below we subselected for a particular area (VISp) and genotype (Slc17a7-IRES2-Cre)\n",
    "manifest = obhf.load_manifest()\n",
    "\n",
    "#add dateTime > add Novel session\n",
    "#this step was crucial. Our analysis framework required considering the first exposure to\n",
    "#Image Sets B, C & D only (which was not always the case and could not be assumed)\n",
    "obba.includeDateTime(manifest,dateStringKey = 'experiment_date',datetimeKey = 'experiment_datetime',dateConversionStr = '%m/%d/%Y %H:%S')\n",
    "obba.includeNovelSession(manifest)\n",
    "\n",
    "\n",
    "#create mask\n",
    "mask_AreaGenoFirst = (manifest.targeted_structure=='VISp')&(manifest.cre_line=='Slc17a7-IRES2-Cre')&(manifest.first_session==True)\n",
    "#load relevant data\n",
    "data_inv = manifest[mask_AreaGenoFirst] \n",
    "\n",
    "#display df for double-checking\n",
    "data_inv.head()\n"
   ]
  },
  {
   "cell_type": "code",
   "execution_count": null,
   "metadata": {},
   "outputs": [],
   "source": [
    "#identify unique experimentIDs within the data\n",
    "allexpIDs = data_inv.experiment_id.unique()\n",
    "len(allexpIDs)"
   ]
  },
  {
   "cell_type": "markdown",
   "metadata": {},
   "source": [
    "Below is a for loop to include:\n",
    "(1) Flash/Repeats  \n",
    "(2) Block number to the data, and\n",
    "(3) Average mean_response overt the first 3 Flahes/Repeats within each Block\n",
    "\n",
    "New df includes only our columns of interest (modifiable within this for loop), and is saved as a csv, separately per expID\n",
    "\n",
    "The Block mean response function can be modified to include more/less repeats. It's important to note that the output of this function will be repeated for every Flash within a Black for reference (if you want to compare the response to Flash 7 and the mean of the first 3 Flashes, you could do so within the same row)\n",
    "\n",
    "Functions are in perCell_functions.py\n",
    "\n",
    "Note: this will take a while, prints every time a loop ends"
   ]
  },
  {
   "cell_type": "code",
   "execution_count": null,
   "metadata": {
    "scrolled": true
   },
   "outputs": [],
   "source": [
    "#for loop to include Flash Repeats and Block number to the data, \n",
    "#subselect a data frame with the wanted information\n",
    "#Add mean_response to first 3 Flashes within a Block\n",
    "#save to a csv file to read when necessary\n",
    "counter = 1\n",
    "for expID in allexpIDs:\n",
    "    expID = str(expID)\n",
    "    dataset= VisualBehaviorOphysDataset(experiment_id=expID, cache_dir=obhf.drive_path)\n",
    "    analysis = ResponseAnalysis(dataset)\n",
    "    \n",
    "    data_everything = obpc.include_add_repeats(analysis.flash_response_df, dataset.all_trials)\n",
    "    obpc.validate_resets(data_everything)\n",
    "    obpc.validate_block_transitions(data_everything)\n",
    "\n",
    "    data = data_everything.loc[:,['cell','flash_number', \n",
    "                       'start_time', 'image_name','mean_response', \n",
    "                        'p_value', 'block', 'repeats']].copy()\n",
    "    \n",
    "    temp = obpc.get_block_mean_response(data)\n",
    "    tfilename = ('data_wBlock_mean:', str(expID), '.csv')\n",
    "    filename = ''.join(tfilename)\n",
    "    temp.to_csv(filename)\n",
    "    print('loop done', counter)\n",
    "    counter = counter+1\n",
    "    del(tfilename, filename)"
   ]
  },
  {
   "cell_type": "code",
   "execution_count": null,
   "metadata": {},
   "outputs": [],
   "source": [
    "filename = ('data_manifest.pkl')\n",
    "data_inv.to_pickle(filename)"
   ]
  }
 ],
 "metadata": {
  "kernelspec": {
   "display_name": "conda_python2",
   "language": "python",
   "name": "conda_python2"
  },
  "language_info": {
   "codemirror_mode": {
    "name": "ipython",
    "version": 2
   },
   "file_extension": ".py",
   "mimetype": "text/x-python",
   "name": "python",
   "nbconvert_exporter": "python",
   "pygments_lexer": "ipython2",
   "version": "2.7.15"
  }
 },
 "nbformat": 4,
 "nbformat_minor": 2
}

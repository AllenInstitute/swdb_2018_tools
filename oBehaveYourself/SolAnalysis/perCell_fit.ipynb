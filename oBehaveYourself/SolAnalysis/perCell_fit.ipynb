{
 "cells": [
  {
   "cell_type": "markdown",
   "metadata": {},
   "source": [
    "Script to fit a line and an exponential to the meanResponse over blocks. For a visualization of the data-to-be fitted, please see plt_MeanResponseOverBlocks_perCell_perImage.ipynb\n",
    "\n",
    "Note: for the fit to work, must load manifest\n",
    "\n",
    "August 2018\n",
    "Created by M. Sol Bernardez Sarria in collaboration with project teammates and SWDB_2018 TAs\n"
   ]
  },
  {
   "cell_type": "code",
   "execution_count": null,
   "metadata": {
    "scrolled": true
   },
   "outputs": [],
   "source": [
    "import matplotlib\n",
    "%matplotlib notebook\n",
    "\n",
    "import os\n",
    "import numpy as np\n",
    "import pandas as pd\n",
    "\n",
    "import sys\n",
    "\n",
    "import matplotlib as mpl\n",
    "import matplotlib.pyplot as plt\n",
    "\n",
    "# this makes print statements complaint with python 3 formatting\n",
    "from __future__ import print_function\n",
    "\n",
    "# from datetime import datetime\n",
    "\n",
    "# #Behavior\n",
    "# from visual_behavior.ophys.dataset.visual_behavior_ophys_dataset import VisualBehaviorOphysDataset\n",
    "# from visual_behavior.ophys.response_analysis.response_analysis import ResponseAnalysis \n",
    "\n",
    "# # Local of the event drive path\n",
    "# event_drive_path_AWS = '/data/dynamic-brain-workshop/visual_behavior_events' #AWS Location\n",
    "# drive_path =  '/data/dynamic-brain-workshop/visual_behavior'\n",
    "\n",
    "#from functions developed by/with our group\n",
    "import oBehave.helperfunctions as obhf\n",
    "import oBehave.behavior_anaylsis as obba\n",
    "import oBehave.perCell_functions as obpc"
   ]
  },
  {
   "cell_type": "code",
   "execution_count": null,
   "metadata": {
    "scrolled": true
   },
   "outputs": [],
   "source": [
    "filename = ('data_manifest.pkl')\n",
    "data_inv = pd.read_pickle(filename)\n",
    "data_inv.head()"
   ]
  },
  {
   "cell_type": "code",
   "execution_count": null,
   "metadata": {},
   "outputs": [],
   "source": [
    "#confirm number of expected experiments, compare w/ add_FlashRepeats_Block_BlockMeanResp.ipynb\n",
    "len(data_inv)"
   ]
  },
  {
   "cell_type": "code",
   "execution_count": null,
   "metadata": {},
   "outputs": [],
   "source": [
    "from scipy.optimize import curve_fit\n",
    "\n",
    "def fitExp(x,a,b,c):\n",
    "    return a * np.exp(-b * x) + c\n",
    "\n",
    "def fitLin(x,a,b):\n",
    "    return a + b*x \n",
    "\n",
    "def r_sq(y, x, f, popt):    \n",
    "    ss_res = np.sum((y- f(x, *popt))**2)\n",
    "    ss_tot = np.sum((y-np.mean(y))**2)\n",
    "    r_squared = 1 - (ss_res / ss_tot)\n",
    "    return r_squared"
   ]
  },
  {
   "cell_type": "code",
   "execution_count": null,
   "metadata": {},
   "outputs": [],
   "source": [
    "keylist = ['experiment_id','session_type','cell','image_name',\n",
    "           'Optim_params_exp', 'r_sq_exp', 'Optim_params_lin', 'r_sq_lin']\n",
    "fit_dict = {k:[] for k in keylist}\n",
    "\n",
    "counter = 1\n",
    "for expID,row in data_inv.iterrows():\n",
    "    expID = row.experiment_id\n",
    "    tfilename = ('data_wBlock_mean:', str(expID), '.csv')\n",
    "    filename = ''.join(tfilename)\n",
    "    exp_df = pd.read_csv(filename, index_col= 0)\n",
    "    sessType = row.session_type\n",
    "    \n",
    "    for cell in exp_df['cell'].unique():\n",
    "        for n, im in enumerate(exp_df['image_name'].unique()):\n",
    "            ty = exp_df[(exp_df.cell.values == cell)&(exp_df.image_name.values == im)&(exp_df.repeats.values == 1)]\n",
    "            y = ty.three_repeats_mr.values\n",
    "            x0 = np.arange(0,len(y),1)\n",
    "            check = np.isnan(y)\n",
    "            if check.any():\n",
    "                print('cell', cell, im, 'has nan' )\n",
    "                continue\n",
    "            else:\n",
    "                try:\n",
    "                    poptE, pcovE = curve_fit(fitExp, x0, y)\n",
    "                    poptL, pcovL = curve_fit(fitLin, x0, y)\n",
    "                    R_sq_Exp =r_sq(y, x0, fitExp, poptE)\n",
    "                    R_sq_Lin =r_sq(y, x0, fitLin, poptL)\n",
    "                    \n",
    "                    fit_dict['experiment_id'].append(expID)\n",
    "                    fit_dict['session_type'].append(sessType)\n",
    "                    fit_dict['cell'].append(cell)\n",
    "                    fit_dict['image_name'].append(im),\n",
    "                    fit_dict['Optim_params_lin'].append([poptL, pcovL])\n",
    "                    fit_dict['r_sq_lin'].append(R_sq_Lin)            \n",
    "                    fit_dict['Optim_params_exp'].append([poptE, pcovE])\n",
    "                    fit_dict['r_sq_exp'].append(R_sq_Exp)\n",
    "\n",
    "                except RuntimeError:\n",
    "                    poptE, pcovE = np.nan, np.nan\n",
    "                    poptL, pcovL = np.nan, np.nan\n",
    "                    R_sq_Exp = np.nan\n",
    "                    R_sq_Lin = np.nan\n",
    "                \n",
    "                fit_df = pd.DataFrame.from_dict(fit_dict)\n",
    "                \n",
    "              \n",
    "    print('experiment loop ended', counter, ':', row.experiment_id)\n",
    "    counter = counter +1\n",
    "                \n"
   ]
  },
  {
   "cell_type": "code",
   "execution_count": null,
   "metadata": {},
   "outputs": [],
   "source": [
    "#Display fit_df to survey whether it includes data for all experiments\n",
    "fit_df"
   ]
  },
  {
   "cell_type": "code",
   "execution_count": null,
   "metadata": {},
   "outputs": [],
   "source": [
    "#Save fit_df to not re-calculate it over and over\n",
    "filename = ('fit_df:ALL.pkl')\n",
    "fit_df.to_pickle(filename)\n",
    "\n",
    "filename = ('data_manifest.pkl')\n",
    "data_inv.to_pickle(filename)"
   ]
  }
 ],
 "metadata": {
  "kernelspec": {
   "display_name": "conda_python2",
   "language": "python",
   "name": "conda_python2"
  },
  "language_info": {
   "codemirror_mode": {
    "name": "ipython",
    "version": 2
   },
   "file_extension": ".py",
   "mimetype": "text/x-python",
   "name": "python",
   "nbconvert_exporter": "python",
   "pygments_lexer": "ipython2",
   "version": "2.7.15"
  }
 },
 "nbformat": 4,
 "nbformat_minor": 2
}

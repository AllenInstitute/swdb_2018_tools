{
 "cells": [
  {
   "cell_type": "markdown",
   "metadata": {},
   "source": [
    "The script below plots the exponential and linear fits of each cell's response over Blocks(averaged over first 3 Flashes within a Block). This is plotted separately for each Image.\n",
    "\n",
    "Further below, the script plots a histogram of the distribution of fit scores.\n",
    "\n",
    "\n",
    "To understand input csv file, please see add_FlashRepeats_Block_BlockMeanResp.ipynb\n",
    "\n",
    "Note/Next step: there should be a more efficient way to load the fit_df to extract the fit parameters instead of re-calculating them.\n",
    "\n",
    "August 2018\n",
    "Created by M. Sol Bernardez Sarria in collaboration with project teammates and SWDB_2018 TAs"
   ]
  },
  {
   "cell_type": "code",
   "execution_count": null,
   "metadata": {},
   "outputs": [],
   "source": [
    "import matplotlib\n",
    "%matplotlib notebook\n",
    "\n",
    "import os\n",
    "import numpy as np\n",
    "import pandas as pd\n",
    "\n",
    "import sys\n",
    "\n",
    "import matplotlib as mpl\n",
    "import matplotlib.pyplot as plt\n",
    "\n",
    "# this makes print statements complaint with python 3 formatting\n",
    "from __future__ import print_function\n",
    "\n",
    "# from datetime import datetime\n",
    "\n",
    "# #Behavior\n",
    "# from visual_behavior.ophys.dataset.visual_behavior_ophys_dataset import VisualBehaviorOphysDataset\n",
    "# from visual_behavior.ophys.response_analysis.response_analysis import ResponseAnalysis \n",
    "\n",
    "# # Local of the event drive path\n",
    "# event_drive_path_AWS = '/data/dynamic-brain-workshop/visual_behavior_events' #AWS Location\n",
    "# drive_path =  '/data/dynamic-brain-workshop/visual_behavior'\n",
    "\n",
    "#from functions developed by/with our group\n",
    "import oBehave.helperfunctions as obhf\n",
    "import oBehave.behavior_anaylsis as obba\n",
    "import oBehave.perCell_functions as obpc"
   ]
  },
  {
   "cell_type": "code",
   "execution_count": null,
   "metadata": {
    "scrolled": true
   },
   "outputs": [],
   "source": [
    "filename = ('fit_df:ALL.pkl')\n",
    "fit_df = pd.read_pickle(filename)\n",
    "fit_df.head()"
   ]
  },
  {
   "cell_type": "code",
   "execution_count": null,
   "metadata": {},
   "outputs": [],
   "source": [
    "filename = ('data_manifest.pkl')\n",
    "data_inv = pd.read_pickle(filename)\n",
    "data_inv.head()"
   ]
  },
  {
   "cell_type": "code",
   "execution_count": null,
   "metadata": {},
   "outputs": [],
   "source": [
    "from scipy.optimize import curve_fit\n",
    "\n",
    "def fitExp(x,a,b,c):\n",
    "    return a * np.exp(-b * x) + c\n",
    "\n",
    "def fitLin(x,a,b):\n",
    "    return a + b*x \n",
    "\n",
    "def r_sq(y, x, f, popt):    \n",
    "    ss_res = np.sum((y- f(x, *popt))**2)\n",
    "    ss_tot = np.sum((y-np.mean(y))**2)\n",
    "    r_squared = 1 - (ss_res / ss_tot)\n",
    "    return r_squared"
   ]
  },
  {
   "cell_type": "code",
   "execution_count": null,
   "metadata": {},
   "outputs": [],
   "source": [
    "expID ='639438856'\n",
    "tfilename = ('data_wBlock_mean:', str(expID), '.csv')\n",
    "filename = ''.join(tfilename)\n",
    "exp_df = pd.read_csv(filename, index_col= 0)\n",
    "exp_df.head()"
   ]
  },
  {
   "cell_type": "code",
   "execution_count": null,
   "metadata": {},
   "outputs": [],
   "source": [
    "for cell in exp_df['cell'].unique():\n",
    "    fig, ax = plt.subplots(nrows=2, ncols=4, sharex=True, sharey=True)\n",
    "    ax = ax.flatten()\n",
    "    for n, im in enumerate(exp_df['image_name'].unique()):\n",
    "        ty = exp_df[(exp_df.cell.values == cell)&(exp_df.image_name.values == im)&(exp_df.repeats.values == 1)]\n",
    "        y = ty.three_repeats_mr.values\n",
    "        x0 = np.arange(0,len(y),1)\n",
    "        check = np.isnan(y)\n",
    "        if check.any():\n",
    "            print('cell', cell, im, 'has nan' )\n",
    "            continue\n",
    "        else:\n",
    "            try:\n",
    "                poptE, pcovE = curve_fit(fitExp, x0, y)\n",
    "                poptL, pcovL = curve_fit(fitLin, x0, y)\n",
    "                R_sq_Exp =r_sq(y, x0, fitExp, poptE)\n",
    "                R_sq_Lin =r_sq(y, x0, fitLin, poptL)\n",
    "                ax[n].plot(x0, y, 'k.')\n",
    "                ax[n].plot(x0, fitExp(x0, *poptE), 'b-')\n",
    "                ax[n].plot(x0, fitLin(x0, *poptL), 'r-')\n",
    "                ax[n].set_title(im)\n",
    "\n",
    "            except RuntimeError:\n",
    "                poptE, pcovE = np.nan, np.nan\n",
    "                poptL, pcovL = np.nan, np.nan\n",
    "                R_sq_Exp = np.nan\n",
    "                R_sq_Lin = np.nan\n",
    "                    \n",
    "    tfilename = ('fit:', str(expID),'_cell', str(cell), '.png')\n",
    "    filename = ''.join(tfilename)\n",
    "    fig.savefig(filename)\n",
    "                \n"
   ]
  },
  {
   "cell_type": "code",
   "execution_count": null,
   "metadata": {},
   "outputs": [],
   "source": [
    "#Plotting fit scores to employ eye-ball test\n",
    "fit_distLinA = fit_df[fit_df.session_type.values == 'behavior_session_A'].r_sq_lin.values\n",
    "fit_distExpA = fit_df[fit_df.session_type.values == 'behavior_session_A'].r_sq_exp.values\n",
    "fit_distLinB = fit_df[fit_df.session_type.values == 'behavior_session_B'].r_sq_lin.values\n",
    "fit_distExpB = fit_df[fit_df.session_type.values == 'behavior_session_B'].r_sq_exp.values\n",
    "fit_distLinC = fit_df[fit_df.session_type.values == 'behavior_session_C'].r_sq_lin.values\n",
    "fit_distExpC = fit_df[fit_df.session_type.values == 'behavior_session_C'].r_sq_exp.values\n",
    "fit_distLinD = fit_df[fit_df.session_type.values == 'behavior_session_D'].r_sq_lin.values\n",
    "fit_distExpD = fit_df[fit_df.session_type.values == 'behavior_session_D'].r_sq_exp.values\n",
    "\n",
    "fit_distLinnotA = fit_df[~fit_df['session_type'].str.contains('A')].r_sq_lin.values\n",
    "fit_distExpnotA = fit_df[~fit_df['session_type'].str.contains('A')].r_sq_exp.values"
   ]
  },
  {
   "cell_type": "code",
   "execution_count": null,
   "metadata": {},
   "outputs": [],
   "source": [
    "#Comment or uncomment below what you want to plot\n",
    "\n",
    "colorlist = plt.rcParams['axes.prop_cycle'].by_key()['color']\n",
    "plt.figure()\n",
    "# plt.hist(fit_distLinA, bins=np.linspace(0,1,50), color ='r', alpha = 0., normed=True,)\n",
    "plt.hist(fit_distExpA, bins=np.linspace(0,1,50), color = '#1f77b4', alpha = 0.4, normed=True)\n",
    "# plt.hist(fit_distLinnotA, bins=np.linspace(0,1,50), color ='m', alpha = 0.4, normed=True,)\n",
    "# plt.hist(fit_distExpnotA, bins=np.linspace(0,1,50), color = '#ff7f0e', alpha = 0.4, normed=True)\n",
    "plt.hist(fit_distExpB, bins=np.linspace(0,1,50), color = '#ff7f0e', alpha = 0.4, normed=True)\n",
    "plt.hist(fit_distExpC, bins=np.linspace(0,1,50), color = '#2ca02c', alpha = 0.4, normed=True)\n",
    "plt.hist(fit_distExpD, bins=np.linspace(0,1,50), color = '#d62728', alpha = 0.4, normed=True)\n",
    "\n",
    "plt.xlim([0.3, 0.9]) #use when zooming in\n",
    "plt.ylim([0, 1]) #use when zooming in\n",
    "\n",
    "plt.xlabel('R_squared')\n",
    "plt.ylabel('% Population per bin')\n",
    "         \n",
    "# plt.legend(['Linear_A', 'Exponential_A', 'Linear_notA', 'Exponential_notA'])\n",
    "plt.legend(['Exponential_A', 'Exponential_B', 'Exponential_C', 'Exponential_D'])\n",
    "# plt.legend(['Exponential_A', 'Exponential_notA'])\n",
    "# tfilename = ('zoomfit_distrib_AnotA.png')\n",
    "# tfilename = ('fit_distrib_AnotA.png')\n",
    "# tfilename = ('fit_distrib_ABCD.png')\n",
    "tfilename = ('zoomfit_distrib_ABCD.png')\n",
    "filename = ''.join(tfilename)\n",
    "plt.savefig(filename)\n",
    "\n",
    "\n",
    "\n"
   ]
  }
 ],
 "metadata": {
  "kernelspec": {
   "display_name": "conda_python2",
   "language": "python",
   "name": "conda_python2"
  },
  "language_info": {
   "codemirror_mode": {
    "name": "ipython",
    "version": 2
   },
   "file_extension": ".py",
   "mimetype": "text/x-python",
   "name": "python",
   "nbconvert_exporter": "python",
   "pygments_lexer": "ipython2",
   "version": "2.7.15"
  }
 },
 "nbformat": 4,
 "nbformat_minor": 2
}

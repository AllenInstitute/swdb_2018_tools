{
 "cells": [
  {
   "cell_type": "markdown",
   "metadata": {},
   "source": [
    "The script below plots each cell's response over Blocks(averaged over first 3 Flashes within a Block). This is plotted separately for each Image.\n",
    "\n",
    "To understand input csv file, please see add_FlashRepeats_Block_BlockMeanResp.ipynb\n",
    "\n",
    "August 2018\n",
    "Created by M. Sol Bernardez Sarria in collaboration with project teammates and SWDB_2018 TAs"
   ]
  },
  {
   "cell_type": "code",
   "execution_count": null,
   "metadata": {},
   "outputs": [],
   "source": [
    "import matplotlib\n",
    "%matplotlib notebook\n",
    "\n",
    "import os\n",
    "# import numpy as np\n",
    "import pandas as pd\n",
    "import sys\n",
    "# import matplotlib as mpl\n",
    "import matplotlib.pyplot as plt\n",
    "\n",
    "# this makes print statements complaint with python 3 formatting\n",
    "from __future__ import print_function\n",
    "\n",
    "# from datetime import datetime\n",
    "\n",
    "#Behavior\n",
    "# from visual_behavior.ophys.dataset.visual_behavior_ophys_dataset import VisualBehaviorOphysDataset\n",
    "# from visual_behavior.ophys.response_analysis.response_analysis import ResponseAnalysis \n",
    "\n",
    "# Local of the event drive path\n",
    "# event_drive_path_AWS = '/data/dynamic-brain-workshop/visual_behavior_events' #AWS Location\n",
    "# drive_path =  '/data/dynamic-brain-workshop/visual_behavior'\n",
    "\n",
    "#from functions developed by/with our group\n",
    "import oBehave.helperfunctions as obhf\n",
    "import oBehave.behavior_anaylsis as obba\n",
    "# import oBehave.perCell_functions as obpc"
   ]
  },
  {
   "cell_type": "markdown",
   "metadata": {},
   "source": [
    "Below we are calling a particular expID for plotting (not plotting all experiments at once).\n",
    "\n",
    "If you wanted to plot for all expIDs, you could load the manifest file with appropriate filters (as in add_FlashRepeats_Block_BlockMeanResp.ipynb), extract unique expIDs and create a nested for loop "
   ]
  },
  {
   "cell_type": "code",
   "execution_count": null,
   "metadata": {},
   "outputs": [],
   "source": [
    "expID ='639438856'\n",
    "tfilename = ('data_wBlock_mean:', str(expID), '.csv')\n",
    "filename = ''.join(tfilename)\n",
    "exp_df = pd.read_csv(filename, index_col= 0)\n",
    "exp_df.head()"
   ]
  },
  {
   "cell_type": "code",
   "execution_count": null,
   "metadata": {},
   "outputs": [],
   "source": [
    "for cell in exp_df.cell.unique():\n",
    "    fig, ax = plt.subplots(nrows=2, ncols=4, sharex=True, sharey=True)\n",
    "    ax = ax.flatten()\n",
    "    for n, im in enumerate(exp_df['image_name'].unique()):\n",
    "        tdf = exp_df[(exp_df.cell == cell)&(exp_df.image_name.values == im)&(exp_df.repeats.values == 1)]\n",
    "        ax[n].plot(tdf.three_repeats_mr.values,'k.')\n",
    "        ax[n].set_title(im)\n",
    "    tfilename = ('Resp:', str(expID),'_', str(cell), '.png')\n",
    "    filename = ''.join(tfilename)\n",
    "    fig.savefig(filename)\n",
    "    plt.close(fig)"
   ]
  },
  {
   "cell_type": "code",
   "execution_count": null,
   "metadata": {},
   "outputs": [],
   "source": []
  },
  {
   "cell_type": "code",
   "execution_count": null,
   "metadata": {},
   "outputs": [],
   "source": []
  }
 ],
 "metadata": {
  "kernelspec": {
   "display_name": "conda_python2",
   "language": "python",
   "name": "conda_python2"
  },
  "language_info": {
   "codemirror_mode": {
    "name": "ipython",
    "version": 2
   },
   "file_extension": ".py",
   "mimetype": "text/x-python",
   "name": "python",
   "nbconvert_exporter": "python",
   "pygments_lexer": "ipython2",
   "version": "2.7.15"
  }
 },
 "nbformat": 4,
 "nbformat_minor": 2
}

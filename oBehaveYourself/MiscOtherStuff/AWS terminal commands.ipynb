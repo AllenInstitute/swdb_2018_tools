{
 "cells": [
  {
   "cell_type": "markdown",
   "metadata": {},
   "source": [
    "# Access AWS terminal"
   ]
  },
  {
   "cell_type": "raw",
   "metadata": {},
   "source": [
    "cd SageMaker/ #access AWS\n",
    "ls\n",
    "cd _insert_username_\n",
    "ls\n",
    "#you should be able to see the contents of your AWS folder"
   ]
  },
  {
   "cell_type": "markdown",
   "metadata": {},
   "source": [
    "### clone your branch"
   ]
  },
  {
   "cell_type": "code",
   "execution_count": null,
   "metadata": {},
   "outputs": [],
   "source": [
    "git clone https://github.com/_insert_username_/obehave"
   ]
  },
  {
   "cell_type": "raw",
   "metadata": {},
   "source": [
    "#you should see something like this#\n",
    "Cloning into 'obehave'...\n",
    "remote: Counting objects: 7, done.\n",
    "remote: Compressing objects: 100% (5/5), done.\n",
    "remote: Total 7 (delta 1), reused 4 (delta 0), pack-reused 0\n",
    "Unpacking objects: 100% (7/7), done."
   ]
  },
  {
   "cell_type": "markdown",
   "metadata": {},
   "source": [
    "### sanity check your branch for new files"
   ]
  },
  {
   "cell_type": "code",
   "execution_count": null,
   "metadata": {},
   "outputs": [],
   "source": [
    "cd obehave/\n",
    "git status"
   ]
  },
  {
   "cell_type": "raw",
   "metadata": {},
   "source": [
    "#you should see something like this#\n",
    "On branch master\n",
    "Your branch is up-to-date with 'origin/master'.\n",
    "Untracked files:\n",
    "  (use \"git add <file>...\" to include in what will be committed)\n",
    "\n",
    "        Hello OBehave.ipynb\n",
    "        ##The above line should be in RED if it is new and uncommitted\n",
    "nothing added to commit but untracked files present (use \"git add\" to track)"
   ]
  },
  {
   "cell_type": "markdown",
   "metadata": {},
   "source": [
    "### push your file to your branch"
   ]
  },
  {
   "cell_type": "code",
   "execution_count": null,
   "metadata": {},
   "outputs": [],
   "source": [
    "git add _filename_\n",
    "#the jupyter terminal hates spaces in your name so tab complete\n",
    "#sanity check your branch to ensure its been updated with the new file\n",
    "#your file should be presented as green"
   ]
  },
  {
   "cell_type": "markdown",
   "metadata": {},
   "source": [
    "### Commit your code to your branch"
   ]
  },
  {
   "cell_type": "code",
   "execution_count": null,
   "metadata": {},
   "outputs": [],
   "source": [
    "git commit"
   ]
  },
  {
   "cell_type": "markdown",
   "metadata": {},
   "source": [
    "### Check your branch in relation to the master"
   ]
  },
  {
   "cell_type": "code",
   "execution_count": null,
   "metadata": {},
   "outputs": [],
   "source": [
    "git status "
   ]
  },
  {
   "cell_type": "raw",
   "metadata": {},
   "source": [
    "#you should see something like this#\n",
    "Your branch is ahead of 'origin/master' by 1 commit.\n",
    "  (use \"git push\" to publish your local commits)\n",
    "nothing to commit, working tree clean"
   ]
  },
  {
   "cell_type": "markdown",
   "metadata": {},
   "source": [
    "### installing the 'nano' text editor terminal"
   ]
  },
  {
   "cell_type": "raw",
   "metadata": {},
   "source": [
    "git pull upstream upstream\n",
    "git fetch upstream\n",
    "git config --global core.editor \"nano\""
   ]
  },
  {
   "cell_type": "markdown",
   "metadata": {},
   "source": [
    "### Push your file to your branch"
   ]
  },
  {
   "cell_type": "code",
   "execution_count": null,
   "metadata": {},
   "outputs": [],
   "source": [
    "git push"
   ]
  },
  {
   "cell_type": "raw",
   "metadata": {},
   "source": [
    "#you will be prompted for your github user & pass, the pass field will not show your text as an added layer of protection so don't freak out#\n",
    "# you will see something like this#\n",
    "Counting objects: 3, done.\n",
    "Delta compression using up to 8 threads.\n",
    "Compressing objects: 100% (3/3), done.\n",
    "Writing objects: 100% (3/3), 1.33 KiB | 104.00 KiB/s, done.\n",
    "Total 3 (delta 0), reused 0 (delta 0)\n",
    "To https://github.com/andycho93/obehave\n",
    "   734f7f7..1d3c003  master -> master"
   ]
  },
  {
   "cell_type": "raw",
   "metadata": {},
   "source": [
    "#a new terminal in nano should open prompting you to add a title to your push"
   ]
  },
  {
   "cell_type": "markdown",
   "metadata": {},
   "source": [
    "#### at this point you need to check github and compare your branch to the master, and send a pull request"
   ]
  },
  {
   "cell_type": "markdown",
   "metadata": {},
   "source": [
    "# Updating your branch and AWS"
   ]
  },
  {
   "cell_type": "code",
   "execution_count": null,
   "metadata": {},
   "outputs": [],
   "source": [
    "git fetch upstream"
   ]
  },
  {
   "cell_type": "raw",
   "metadata": {},
   "source": [
    "#it should look like this#\n",
    "remote: Counting objects: 48, done.\n",
    "remote: Compressing objects: 100% (38/38), done.\n",
    "remote: Total 48 (delta 15), reused 38 (delta 9), pack-reused 0\n",
    "Unpacking objects: 100% (48/48), done.\n",
    "From https://github.com/yonibrowning/oBehave\n",
    "   b82f1e3..135b828  master     -> upstream/master"
   ]
  },
  {
   "cell_type": "code",
   "execution_count": null,
   "metadata": {},
   "outputs": [],
   "source": [
    "git merge upstream/master"
   ]
  },
  {
   "cell_type": "markdown",
   "metadata": {},
   "source": []
  }
 ],
 "metadata": {
  "kernelspec": {
   "display_name": "conda_python2",
   "language": "python",
   "name": "conda_python2"
  },
  "language_info": {
   "codemirror_mode": {
    "name": "ipython",
    "version": 2
   },
   "file_extension": ".py",
   "mimetype": "text/x-python",
   "name": "python",
   "nbconvert_exporter": "python",
   "pygments_lexer": "ipython2",
   "version": "2.7.14"
  }
 },
 "nbformat": 4,
 "nbformat_minor": 2
}

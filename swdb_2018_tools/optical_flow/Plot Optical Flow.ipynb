{
 "cells": [
  {
   "cell_type": "markdown",
   "metadata": {},
   "source": [
    "## What does this notebook do?\n",
    "\n",
    "- This notebook plots out the optical flow fields for the natural movies\n",
    "\n",
    "- The computation was done using Farneback optical flow method from OpenCV with using parameters in tutorial\n",
    "\n",
    "https://opencv-python-tutroals.readthedocs.io/en/latest/py_tutorials/py_video/py_lucas_kanade/py_lucas_kanade.html\n",
    "http://www.diva-portal.org/smash/get/diva2:273847/FULLTEXT01.pdf\n",
    "\n",
    "- The computation script is in the \"Compute Optical Flow\" notebook and output is in the shared directory\n",
    "\n",
    "Note: this notebook was developed in the conda_python2 environment\n"
   ]
  },
  {
   "cell_type": "code",
   "execution_count": 1,
   "metadata": {},
   "outputs": [],
   "source": [
    "import os\n",
    "import numpy as np\n",
    "import matplotlib.pyplot as plt\n",
    "import ipywidgets\n",
    "from IPython.display import display"
   ]
  },
  {
   "cell_type": "code",
   "execution_count": 2,
   "metadata": {},
   "outputs": [],
   "source": [
    "vlist = ['flowx','flowy','sframes']\n",
    "vdict = {}\n",
    "for v in vlist :\n",
    "    fname = os.path.join('/home/ec2-user/SageMaker/shared/lydiang/nm2_optical_flow/', '%s.npy' % v)\n",
    "    vdict[v] = np.load(fname)"
   ]
  },
  {
   "cell_type": "code",
   "execution_count": 3,
   "metadata": {},
   "outputs": [],
   "source": [
    "class SlidableDisplay(object):\n",
    "    def __init__(self, vdict, start=0, step=1, flow_step=10):\n",
    "        self.vdict = vdict\n",
    "        \n",
    "        self.slider = ipywidgets.IntSlider(value=start, min=0, max=self.vdict['sframes'].shape[0]-1, step=step, \n",
    "                                           continuous_update=False) \n",
    "        self.box = ipywidgets.IntText()\n",
    "        self.link = ipywidgets.jslink((self.slider, 'value'), (self.box, 'value'))\n",
    "        \n",
    "        self.flow_step = flow_step\n",
    "        \n",
    "        display(self.box)\n",
    "        ipywidgets.interact(self.show_image_at_index, i=self.slider)\n",
    "        \n",
    "    def show_image_at_index(self, i):\n",
    "        fig, ax = plt.subplots(2, 1, figsize=(8, 8))\n",
    "        ax[0].imshow(self.vdict['sframes'][i, ...])\n",
    "        ax[1].quiver(\n",
    "            self.vdict['flowx'][i,::self.flow_step,::self.flow_step],\n",
    "            -self.vdict['flowy'][i,::self.flow_step,::self.flow_step],\n",
    "            headwidth=3, scale_units='xy', scale=1, angles='xy'\n",
    "        )\n",
    "        ax[1].invert_yaxis()"
   ]
  },
  {
   "cell_type": "code",
   "execution_count": 4,
   "metadata": {},
   "outputs": [
    {
     "data": {
      "application/vnd.jupyter.widget-view+json": {
       "model_id": "32df2e29658f459493b884eb66ee64a5",
       "version_major": 2,
       "version_minor": 0
      },
      "text/plain": [
       "IntText(value=0)"
      ]
     },
     "metadata": {},
     "output_type": "display_data"
    },
    {
     "data": {
      "application/vnd.jupyter.widget-view+json": {
       "model_id": "b3b8a93ee8e14082896df9650b630c27",
       "version_major": 2,
       "version_minor": 0
      },
      "text/plain": [
       "aW50ZXJhY3RpdmUoY2hpbGRyZW49KEludFNsaWRlcih2YWx1ZT0wLCBjb250aW51b3VzX3VwZGF0ZT1GYWxzZSwgZGVzY3JpcHRpb249dSdpJywgbWF4PTg5OCwgc3RlcD0yKSwgT3V0cHV0KCnigKY=\n"
      ]
     },
     "metadata": {},
     "output_type": "display_data"
    }
   ],
   "source": [
    "disp = SlidableDisplay(vdict, 0, step=2)"
   ]
  },
  {
   "cell_type": "code",
   "execution_count": null,
   "metadata": {},
   "outputs": [],
   "source": []
  }
 ],
 "metadata": {
  "kernelspec": {
   "display_name": "conda_python2",
   "language": "python",
   "name": "conda_python2"
  },
  "language_info": {
   "codemirror_mode": {
    "name": "ipython",
    "version": 2
   },
   "file_extension": ".py",
   "mimetype": "text/x-python",
   "name": "python",
   "nbconvert_exporter": "python",
   "pygments_lexer": "ipython2",
   "version": "2.7.15"
  }
 },
 "nbformat": 4,
 "nbformat_minor": 2
}

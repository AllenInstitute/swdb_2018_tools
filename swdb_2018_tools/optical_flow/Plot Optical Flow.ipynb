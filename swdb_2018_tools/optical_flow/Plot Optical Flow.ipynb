{
 "cells": [
  {
   "cell_type": "code",
   "execution_count": 13,
   "metadata": {},
   "outputs": [],
   "source": [
    "import os\n",
    "import numpy as np\n",
    "import matplotlib.pyplot as plt\n",
    "import ipywidgets\n",
    "from IPython.display import display"
   ]
  },
  {
   "cell_type": "code",
   "execution_count": 2,
   "metadata": {},
   "outputs": [],
   "source": [
    "vlist = ['flowx','flowy','flowmag','flowang','sframes']\n",
    "vdict = {}\n",
    "for v in vlist :\n",
    "    fname = os.path.join('/home/ec2-user/SageMaker/shared/lydiang/nm3_optical_flow/', '%s.npy' % v)\n",
    "    vdict[v] = np.load(fname)"
   ]
  },
  {
   "cell_type": "code",
   "execution_count": 3,
   "metadata": {},
   "outputs": [
    {
     "data": {
      "text/plain": [
       "(3599, 304, 608)"
      ]
     },
     "execution_count": 3,
     "metadata": {},
     "output_type": "execute_result"
    }
   ],
   "source": [
    "vdict['flowx'].shape"
   ]
  },
  {
   "cell_type": "code",
   "execution_count": 18,
   "metadata": {},
   "outputs": [],
   "source": [
    "class SlidableDisplay(object):\n",
    "    def __init__(self, vdict, start=0, step=1, flow_step=10):\n",
    "        self.vdict = vdict\n",
    "        \n",
    "        self.slider = ipywidgets.IntSlider(value=start, min=0, max=self.vdict['sframes'].shape[0]-1, step=step, \n",
    "                                           continuous_update=False) \n",
    "        self.box = ipywidgets.IntText()\n",
    "        self.link = ipywidgets.jslink((self.slider, 'value'), (self.box, 'value'))\n",
    "        \n",
    "        self.flow_step = flow_step\n",
    "        \n",
    "        display(self.box)\n",
    "        ipywidgets.interact(self.show_image_at_index, i=self.slider)\n",
    "        \n",
    "    def show_image_at_index(self, i):\n",
    "        fig, ax = plt.subplots(2, 1, figsize=(8, 8))\n",
    "        ax[0].imshow(self.vdict['sframes'][i, ...])\n",
    "        ax[1].quiver(\n",
    "            self.vdict['flowx'][i,::self.flow_step,::self.flow_step],\n",
    "            -self.vdict['flowy'][i,::self.flow_step,::self.flow_step],\n",
    "            headwidth=3\n",
    "        )"
   ]
  },
  {
   "cell_type": "code",
   "execution_count": 19,
   "metadata": {},
   "outputs": [
    {
     "data": {
      "application/vnd.jupyter.widget-view+json": {
       "model_id": "83b510e1a0214cdd9790ec614a7a1d76",
       "version_major": 2,
       "version_minor": 0
      },
      "text/plain": [
       "IntText(value=0)"
      ]
     },
     "metadata": {},
     "output_type": "display_data"
    },
    {
     "data": {
      "application/vnd.jupyter.widget-view+json": {
       "model_id": "198ba9bbf57f480e89e74a1478df9be0",
       "version_major": 2,
       "version_minor": 0
      },
      "text/plain": [
       "aW50ZXJhY3RpdmUoY2hpbGRyZW49KEludFNsaWRlcih2YWx1ZT0wLCBjb250aW51b3VzX3VwZGF0ZT1GYWxzZSwgZGVzY3JpcHRpb249dSdpJywgbWF4PTM1OTgpLCBPdXRwdXQoKSksIF9kb23igKY=\n"
      ]
     },
     "metadata": {},
     "output_type": "display_data"
    }
   ],
   "source": [
    "disp = SlidableDisplay(vdict, 0)"
   ]
  },
  {
   "cell_type": "code",
   "execution_count": null,
   "metadata": {},
   "outputs": [],
   "source": []
  }
 ],
 "metadata": {
  "kernelspec": {
   "display_name": "conda_python2",
   "language": "python",
   "name": "conda_python2"
  },
  "language_info": {
   "codemirror_mode": {
    "name": "ipython",
    "version": 2
   },
   "file_extension": ".py",
   "mimetype": "text/x-python",
   "name": "python",
   "nbconvert_exporter": "python",
   "pygments_lexer": "ipython2",
   "version": "2.7.15"
  }
 },
 "nbformat": 4,
 "nbformat_minor": 2
}

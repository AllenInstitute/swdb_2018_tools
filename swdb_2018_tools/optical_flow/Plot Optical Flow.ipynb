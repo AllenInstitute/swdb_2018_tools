{
 "cells": [
  {
   "cell_type": "code",
   "execution_count": 1,
   "metadata": {},
   "outputs": [],
   "source": [
    "import os\n",
    "import numpy as np\n",
    "import matplotlib.pyplot as plt\n",
    "import ipywidgets\n",
    "from IPython.display import display"
   ]
  },
  {
   "cell_type": "code",
   "execution_count": 2,
   "metadata": {},
   "outputs": [],
   "source": [
    "vlist = ['flowx','flowy','sframes']\n",
    "vdict = {}\n",
    "for v in vlist :\n",
    "    fname = os.path.join('/home/ec2-user/SageMaker/shared/lydiang/nm1_optical_flow/', '%s.npy' % v)\n",
    "    vdict[v] = np.load(fname)"
   ]
  },
  {
   "cell_type": "code",
   "execution_count": 20,
   "metadata": {},
   "outputs": [],
   "source": [
    "class SlidableDisplay(object):\n",
    "    def __init__(self, vdict, start=0, step=1, flow_step=10):\n",
    "        self.vdict = vdict\n",
    "        \n",
    "        self.slider = ipywidgets.IntSlider(value=start, min=0, max=self.vdict['sframes'].shape[0]-1, step=step, \n",
    "                                           continuous_update=False) \n",
    "        self.box = ipywidgets.IntText()\n",
    "        self.link = ipywidgets.jslink((self.slider, 'value'), (self.box, 'value'))\n",
    "        \n",
    "        self.flow_step = flow_step\n",
    "        \n",
    "        display(self.box)\n",
    "        ipywidgets.interact(self.show_image_at_index, i=self.slider)\n",
    "        \n",
    "    def show_image_at_index(self, i):\n",
    "        fig, ax = plt.subplots(2, 1, figsize=(8, 8))\n",
    "        ax[0].imshow(self.vdict['sframes'][i, ...])\n",
    "        ax[1].quiver(\n",
    "            self.vdict['flowx'][i,::self.flow_step,::self.flow_step],\n",
    "            -self.vdict['flowy'][i,::self.flow_step,::self.flow_step],\n",
    "            headwidth=3, scale_units='xy', scale=1, angles='xy'\n",
    "        )\n",
    "        ax[1].invert_yaxis()"
   ]
  },
  {
   "cell_type": "code",
   "execution_count": 23,
   "metadata": {},
   "outputs": [
    {
     "data": {
      "application/vnd.jupyter.widget-view+json": {
       "model_id": "88289269fc03426581270769d7fffdef",
       "version_major": 2,
       "version_minor": 0
      },
      "text/plain": [
       "IntText(value=0)"
      ]
     },
     "metadata": {},
     "output_type": "display_data"
    },
    {
     "data": {
      "application/vnd.jupyter.widget-view+json": {
       "model_id": "5aac0117f062423aa8d35249bec3f725",
       "version_major": 2,
       "version_minor": 0
      },
      "text/plain": [
       "aW50ZXJhY3RpdmUoY2hpbGRyZW49KEludFNsaWRlcih2YWx1ZT0wLCBjb250aW51b3VzX3VwZGF0ZT1GYWxzZSwgZGVzY3JpcHRpb249dSdpJywgbWF4PTg5OCwgc3RlcD0yKSwgT3V0cHV0KCnigKY=\n"
      ]
     },
     "metadata": {},
     "output_type": "display_data"
    }
   ],
   "source": [
    "disp = SlidableDisplay(vdict, 0, step=2)"
   ]
  },
  {
   "cell_type": "code",
   "execution_count": null,
   "metadata": {},
   "outputs": [],
   "source": []
  }
 ],
 "metadata": {
  "kernelspec": {
   "display_name": "conda_python2",
   "language": "python",
   "name": "conda_python2"
  },
  "language_info": {
   "codemirror_mode": {
    "name": "ipython",
    "version": 2
   },
   "file_extension": ".py",
   "mimetype": "text/x-python",
   "name": "python",
   "nbconvert_exporter": "python",
   "pygments_lexer": "ipython2",
   "version": "2.7.15"
  }
 },
 "nbformat": 4,
 "nbformat_minor": 2
}

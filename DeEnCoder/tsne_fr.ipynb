{
 "cells": [
  {
   "cell_type": "code",
   "execution_count": 1,
   "metadata": {},
   "outputs": [],
   "source": [
    "from sklearn.manifold import TSNE\n",
    "import numpy as np\n",
    "import matplotlib.pyplot as plt"
   ]
  },
  {
   "cell_type": "code",
   "execution_count": 2,
   "metadata": {
    "scrolled": true
   },
   "outputs": [],
   "source": [
    "# AWS\n",
    "drive_path = '/data/dynamic-brain-workshop/visual_coding_neuropixels'"
   ]
  },
  {
   "cell_type": "code",
   "execution_count": 3,
   "metadata": {},
   "outputs": [],
   "source": [
    "# We need to import these modules to get started\n",
    "import numpy as np\n",
    "import pandas as pd\n",
    "import os\n",
    "import matplotlib.pyplot as plt\n",
    "%matplotlib inline\n",
    "# %matplotlib notebook"
   ]
  },
  {
   "cell_type": "code",
   "execution_count": 4,
   "metadata": {},
   "outputs": [
    {
     "data": {
      "text/html": [
       "<div>\n",
       "<style scoped>\n",
       "    .dataframe tbody tr th:only-of-type {\n",
       "        vertical-align: middle;\n",
       "    }\n",
       "\n",
       "    .dataframe tbody tr th {\n",
       "        vertical-align: top;\n",
       "    }\n",
       "\n",
       "    .dataframe thead th {\n",
       "        text-align: right;\n",
       "    }\n",
       "</style>\n",
       "<table border=\"1\" class=\"dataframe\">\n",
       "  <thead>\n",
       "    <tr style=\"text-align: right;\">\n",
       "      <th></th>\n",
       "      <th>nwb_filename</th>\n",
       "      <th>experiment_type</th>\n",
       "      <th>VISp</th>\n",
       "      <th>VISal</th>\n",
       "      <th>VISam</th>\n",
       "      <th>VISl</th>\n",
       "      <th>VISpm</th>\n",
       "      <th>VISrl</th>\n",
       "      <th>locally_sparse_noise</th>\n",
       "      <th>gabor</th>\n",
       "      <th>drifting_gratings</th>\n",
       "      <th>static_gratings</th>\n",
       "      <th>natural_scenes</th>\n",
       "      <th>natural_movie_3</th>\n",
       "      <th>full_field_flashes</th>\n",
       "    </tr>\n",
       "  </thead>\n",
       "  <tbody>\n",
       "    <tr>\n",
       "      <th>0</th>\n",
       "      <td>ephys_single_14.nwb</td>\n",
       "      <td>single_probe</td>\n",
       "      <td>True</td>\n",
       "      <td>False</td>\n",
       "      <td>False</td>\n",
       "      <td>False</td>\n",
       "      <td>False</td>\n",
       "      <td>False</td>\n",
       "      <td>True</td>\n",
       "      <td>False</td>\n",
       "      <td>True</td>\n",
       "      <td>True</td>\n",
       "      <td>True</td>\n",
       "      <td>True</td>\n",
       "      <td>True</td>\n",
       "    </tr>\n",
       "    <tr>\n",
       "      <th>1</th>\n",
       "      <td>ephys_single_15.nwb</td>\n",
       "      <td>single_probe</td>\n",
       "      <td>True</td>\n",
       "      <td>False</td>\n",
       "      <td>False</td>\n",
       "      <td>False</td>\n",
       "      <td>False</td>\n",
       "      <td>False</td>\n",
       "      <td>True</td>\n",
       "      <td>False</td>\n",
       "      <td>True</td>\n",
       "      <td>True</td>\n",
       "      <td>True</td>\n",
       "      <td>True</td>\n",
       "      <td>True</td>\n",
       "    </tr>\n",
       "    <tr>\n",
       "      <th>2</th>\n",
       "      <td>ephys_single_16.nwb</td>\n",
       "      <td>single_probe</td>\n",
       "      <td>True</td>\n",
       "      <td>False</td>\n",
       "      <td>False</td>\n",
       "      <td>False</td>\n",
       "      <td>False</td>\n",
       "      <td>False</td>\n",
       "      <td>True</td>\n",
       "      <td>False</td>\n",
       "      <td>True</td>\n",
       "      <td>True</td>\n",
       "      <td>True</td>\n",
       "      <td>True</td>\n",
       "      <td>True</td>\n",
       "    </tr>\n",
       "    <tr>\n",
       "      <th>3</th>\n",
       "      <td>ephys_single_39.nwb</td>\n",
       "      <td>single_probe</td>\n",
       "      <td>True</td>\n",
       "      <td>False</td>\n",
       "      <td>False</td>\n",
       "      <td>False</td>\n",
       "      <td>False</td>\n",
       "      <td>False</td>\n",
       "      <td>True</td>\n",
       "      <td>False</td>\n",
       "      <td>True</td>\n",
       "      <td>True</td>\n",
       "      <td>True</td>\n",
       "      <td>True</td>\n",
       "      <td>True</td>\n",
       "    </tr>\n",
       "    <tr>\n",
       "      <th>4</th>\n",
       "      <td>ephys_single_51.nwb</td>\n",
       "      <td>single_probe</td>\n",
       "      <td>True</td>\n",
       "      <td>False</td>\n",
       "      <td>False</td>\n",
       "      <td>False</td>\n",
       "      <td>False</td>\n",
       "      <td>False</td>\n",
       "      <td>True</td>\n",
       "      <td>False</td>\n",
       "      <td>True</td>\n",
       "      <td>True</td>\n",
       "      <td>True</td>\n",
       "      <td>True</td>\n",
       "      <td>True</td>\n",
       "    </tr>\n",
       "    <tr>\n",
       "      <th>5</th>\n",
       "      <td>ephys_multi_84.nwb</td>\n",
       "      <td>multi_probe</td>\n",
       "      <td>True</td>\n",
       "      <td>True</td>\n",
       "      <td>True</td>\n",
       "      <td>False</td>\n",
       "      <td>True</td>\n",
       "      <td>True</td>\n",
       "      <td>True</td>\n",
       "      <td>True</td>\n",
       "      <td>True</td>\n",
       "      <td>True</td>\n",
       "      <td>True</td>\n",
       "      <td>True</td>\n",
       "      <td>True</td>\n",
       "    </tr>\n",
       "    <tr>\n",
       "      <th>6</th>\n",
       "      <td>ephys_multi_58.nwb</td>\n",
       "      <td>multi_probe</td>\n",
       "      <td>True</td>\n",
       "      <td>True</td>\n",
       "      <td>True</td>\n",
       "      <td>True</td>\n",
       "      <td>True</td>\n",
       "      <td>True</td>\n",
       "      <td>False</td>\n",
       "      <td>True</td>\n",
       "      <td>True</td>\n",
       "      <td>True</td>\n",
       "      <td>True</td>\n",
       "      <td>True</td>\n",
       "      <td>True</td>\n",
       "    </tr>\n",
       "    <tr>\n",
       "      <th>7</th>\n",
       "      <td>ephys_multi_10.nwb</td>\n",
       "      <td>multi_probe</td>\n",
       "      <td>True</td>\n",
       "      <td>True</td>\n",
       "      <td>True</td>\n",
       "      <td>True</td>\n",
       "      <td>True</td>\n",
       "      <td>True</td>\n",
       "      <td>False</td>\n",
       "      <td>True</td>\n",
       "      <td>True</td>\n",
       "      <td>True</td>\n",
       "      <td>True</td>\n",
       "      <td>True</td>\n",
       "      <td>True</td>\n",
       "    </tr>\n",
       "    <tr>\n",
       "      <th>8</th>\n",
       "      <td>ephys_multi_21.nwb</td>\n",
       "      <td>multi_probe</td>\n",
       "      <td>True</td>\n",
       "      <td>False</td>\n",
       "      <td>True</td>\n",
       "      <td>True</td>\n",
       "      <td>True</td>\n",
       "      <td>False</td>\n",
       "      <td>False</td>\n",
       "      <td>True</td>\n",
       "      <td>True</td>\n",
       "      <td>True</td>\n",
       "      <td>True</td>\n",
       "      <td>True</td>\n",
       "      <td>True</td>\n",
       "    </tr>\n",
       "  </tbody>\n",
       "</table>\n",
       "</div>"
      ],
      "text/plain": [
       "          nwb_filename experiment_type  VISp  VISal  VISam   VISl  VISpm  \\\n",
       "0  ephys_single_14.nwb    single_probe  True  False  False  False  False   \n",
       "1  ephys_single_15.nwb    single_probe  True  False  False  False  False   \n",
       "2  ephys_single_16.nwb    single_probe  True  False  False  False  False   \n",
       "3  ephys_single_39.nwb    single_probe  True  False  False  False  False   \n",
       "4  ephys_single_51.nwb    single_probe  True  False  False  False  False   \n",
       "5   ephys_multi_84.nwb     multi_probe  True   True   True  False   True   \n",
       "6   ephys_multi_58.nwb     multi_probe  True   True   True   True   True   \n",
       "7   ephys_multi_10.nwb     multi_probe  True   True   True   True   True   \n",
       "8   ephys_multi_21.nwb     multi_probe  True  False   True   True   True   \n",
       "\n",
       "   VISrl  locally_sparse_noise  gabor  drifting_gratings  static_gratings  \\\n",
       "0  False                  True  False               True             True   \n",
       "1  False                  True  False               True             True   \n",
       "2  False                  True  False               True             True   \n",
       "3  False                  True  False               True             True   \n",
       "4  False                  True  False               True             True   \n",
       "5   True                  True   True               True             True   \n",
       "6   True                 False   True               True             True   \n",
       "7   True                 False   True               True             True   \n",
       "8  False                 False   True               True             True   \n",
       "\n",
       "   natural_scenes  natural_movie_3  full_field_flashes  \n",
       "0            True             True                True  \n",
       "1            True             True                True  \n",
       "2            True             True                True  \n",
       "3            True             True                True  \n",
       "4            True             True                True  \n",
       "5            True             True                True  \n",
       "6            True             True                True  \n",
       "7            True             True                True  \n",
       "8            True             True                True  "
      ]
     },
     "execution_count": 4,
     "metadata": {},
     "output_type": "execute_result"
    }
   ],
   "source": [
    "# Provide path to manifest file\n",
    "manifest_file = os.path.join(drive_path,'ephys_manifest.csv')\n",
    "\n",
    "# Create a dataframe \n",
    "expt_info_df = pd.read_csv(manifest_file)\n",
    "\n",
    "# Display information contained in the dataframe\n",
    "expt_info_df"
   ]
  },
  {
   "cell_type": "code",
   "execution_count": 5,
   "metadata": {},
   "outputs": [
    {
     "name": "stdout",
     "output_type": "stream",
     "text": [
      "Number of single-probe experiments: 5\n"
     ]
    },
    {
     "data": {
      "text/html": [
       "<div>\n",
       "<style scoped>\n",
       "    .dataframe tbody tr th:only-of-type {\n",
       "        vertical-align: middle;\n",
       "    }\n",
       "\n",
       "    .dataframe tbody tr th {\n",
       "        vertical-align: top;\n",
       "    }\n",
       "\n",
       "    .dataframe thead th {\n",
       "        text-align: right;\n",
       "    }\n",
       "</style>\n",
       "<table border=\"1\" class=\"dataframe\">\n",
       "  <thead>\n",
       "    <tr style=\"text-align: right;\">\n",
       "      <th></th>\n",
       "      <th>nwb_filename</th>\n",
       "      <th>experiment_type</th>\n",
       "      <th>VISp</th>\n",
       "      <th>VISal</th>\n",
       "      <th>VISam</th>\n",
       "      <th>VISl</th>\n",
       "      <th>VISpm</th>\n",
       "      <th>VISrl</th>\n",
       "      <th>locally_sparse_noise</th>\n",
       "      <th>gabor</th>\n",
       "      <th>drifting_gratings</th>\n",
       "      <th>static_gratings</th>\n",
       "      <th>natural_scenes</th>\n",
       "      <th>natural_movie_3</th>\n",
       "      <th>full_field_flashes</th>\n",
       "    </tr>\n",
       "  </thead>\n",
       "  <tbody>\n",
       "    <tr>\n",
       "      <th>0</th>\n",
       "      <td>ephys_single_14.nwb</td>\n",
       "      <td>single_probe</td>\n",
       "      <td>True</td>\n",
       "      <td>False</td>\n",
       "      <td>False</td>\n",
       "      <td>False</td>\n",
       "      <td>False</td>\n",
       "      <td>False</td>\n",
       "      <td>True</td>\n",
       "      <td>False</td>\n",
       "      <td>True</td>\n",
       "      <td>True</td>\n",
       "      <td>True</td>\n",
       "      <td>True</td>\n",
       "      <td>True</td>\n",
       "    </tr>\n",
       "    <tr>\n",
       "      <th>1</th>\n",
       "      <td>ephys_single_15.nwb</td>\n",
       "      <td>single_probe</td>\n",
       "      <td>True</td>\n",
       "      <td>False</td>\n",
       "      <td>False</td>\n",
       "      <td>False</td>\n",
       "      <td>False</td>\n",
       "      <td>False</td>\n",
       "      <td>True</td>\n",
       "      <td>False</td>\n",
       "      <td>True</td>\n",
       "      <td>True</td>\n",
       "      <td>True</td>\n",
       "      <td>True</td>\n",
       "      <td>True</td>\n",
       "    </tr>\n",
       "    <tr>\n",
       "      <th>2</th>\n",
       "      <td>ephys_single_16.nwb</td>\n",
       "      <td>single_probe</td>\n",
       "      <td>True</td>\n",
       "      <td>False</td>\n",
       "      <td>False</td>\n",
       "      <td>False</td>\n",
       "      <td>False</td>\n",
       "      <td>False</td>\n",
       "      <td>True</td>\n",
       "      <td>False</td>\n",
       "      <td>True</td>\n",
       "      <td>True</td>\n",
       "      <td>True</td>\n",
       "      <td>True</td>\n",
       "      <td>True</td>\n",
       "    </tr>\n",
       "    <tr>\n",
       "      <th>3</th>\n",
       "      <td>ephys_single_39.nwb</td>\n",
       "      <td>single_probe</td>\n",
       "      <td>True</td>\n",
       "      <td>False</td>\n",
       "      <td>False</td>\n",
       "      <td>False</td>\n",
       "      <td>False</td>\n",
       "      <td>False</td>\n",
       "      <td>True</td>\n",
       "      <td>False</td>\n",
       "      <td>True</td>\n",
       "      <td>True</td>\n",
       "      <td>True</td>\n",
       "      <td>True</td>\n",
       "      <td>True</td>\n",
       "    </tr>\n",
       "    <tr>\n",
       "      <th>4</th>\n",
       "      <td>ephys_single_51.nwb</td>\n",
       "      <td>single_probe</td>\n",
       "      <td>True</td>\n",
       "      <td>False</td>\n",
       "      <td>False</td>\n",
       "      <td>False</td>\n",
       "      <td>False</td>\n",
       "      <td>False</td>\n",
       "      <td>True</td>\n",
       "      <td>False</td>\n",
       "      <td>True</td>\n",
       "      <td>True</td>\n",
       "      <td>True</td>\n",
       "      <td>True</td>\n",
       "      <td>True</td>\n",
       "    </tr>\n",
       "  </tbody>\n",
       "</table>\n",
       "</div>"
      ],
      "text/plain": [
       "          nwb_filename experiment_type  VISp  VISal  VISam   VISl  VISpm  \\\n",
       "0  ephys_single_14.nwb    single_probe  True  False  False  False  False   \n",
       "1  ephys_single_15.nwb    single_probe  True  False  False  False  False   \n",
       "2  ephys_single_16.nwb    single_probe  True  False  False  False  False   \n",
       "3  ephys_single_39.nwb    single_probe  True  False  False  False  False   \n",
       "4  ephys_single_51.nwb    single_probe  True  False  False  False  False   \n",
       "\n",
       "   VISrl  locally_sparse_noise  gabor  drifting_gratings  static_gratings  \\\n",
       "0  False                  True  False               True             True   \n",
       "1  False                  True  False               True             True   \n",
       "2  False                  True  False               True             True   \n",
       "3  False                  True  False               True             True   \n",
       "4  False                  True  False               True             True   \n",
       "\n",
       "   natural_scenes  natural_movie_3  full_field_flashes  \n",
       "0            True             True                True  \n",
       "1            True             True                True  \n",
       "2            True             True                True  \n",
       "3            True             True                True  \n",
       "4            True             True                True  "
      ]
     },
     "execution_count": 5,
     "metadata": {},
     "output_type": "execute_result"
    }
   ],
   "source": [
    "# Make new dataframe by selecting only single-probe experiments\n",
    "single_probe_expt_info = expt_info_df[expt_info_df.experiment_type == 'single_probe']\n",
    "\n",
    "print('Number of single-probe experiments: %s') %len(single_probe_expt_info)\n",
    "\n",
    "# Display information about single probe expts\n",
    "single_probe_expt_info"
   ]
  },
  {
   "cell_type": "code",
   "execution_count": 6,
   "metadata": {},
   "outputs": [
    {
     "data": {
      "text/html": [
       "<div>\n",
       "<style scoped>\n",
       "    .dataframe tbody tr th:only-of-type {\n",
       "        vertical-align: middle;\n",
       "    }\n",
       "\n",
       "    .dataframe tbody tr th {\n",
       "        vertical-align: top;\n",
       "    }\n",
       "\n",
       "    .dataframe thead th {\n",
       "        text-align: right;\n",
       "    }\n",
       "</style>\n",
       "<table border=\"1\" class=\"dataframe\">\n",
       "  <thead>\n",
       "    <tr style=\"text-align: right;\">\n",
       "      <th></th>\n",
       "      <th>nwb_filename</th>\n",
       "      <th>experiment_type</th>\n",
       "      <th>VISp</th>\n",
       "      <th>VISal</th>\n",
       "      <th>VISam</th>\n",
       "      <th>VISl</th>\n",
       "      <th>VISpm</th>\n",
       "      <th>VISrl</th>\n",
       "      <th>locally_sparse_noise</th>\n",
       "      <th>gabor</th>\n",
       "      <th>drifting_gratings</th>\n",
       "      <th>static_gratings</th>\n",
       "      <th>natural_scenes</th>\n",
       "      <th>natural_movie_3</th>\n",
       "      <th>full_field_flashes</th>\n",
       "    </tr>\n",
       "  </thead>\n",
       "  <tbody>\n",
       "    <tr>\n",
       "      <th>5</th>\n",
       "      <td>ephys_multi_84.nwb</td>\n",
       "      <td>multi_probe</td>\n",
       "      <td>True</td>\n",
       "      <td>True</td>\n",
       "      <td>True</td>\n",
       "      <td>False</td>\n",
       "      <td>True</td>\n",
       "      <td>True</td>\n",
       "      <td>True</td>\n",
       "      <td>True</td>\n",
       "      <td>True</td>\n",
       "      <td>True</td>\n",
       "      <td>True</td>\n",
       "      <td>True</td>\n",
       "      <td>True</td>\n",
       "    </tr>\n",
       "    <tr>\n",
       "      <th>6</th>\n",
       "      <td>ephys_multi_58.nwb</td>\n",
       "      <td>multi_probe</td>\n",
       "      <td>True</td>\n",
       "      <td>True</td>\n",
       "      <td>True</td>\n",
       "      <td>True</td>\n",
       "      <td>True</td>\n",
       "      <td>True</td>\n",
       "      <td>False</td>\n",
       "      <td>True</td>\n",
       "      <td>True</td>\n",
       "      <td>True</td>\n",
       "      <td>True</td>\n",
       "      <td>True</td>\n",
       "      <td>True</td>\n",
       "    </tr>\n",
       "    <tr>\n",
       "      <th>7</th>\n",
       "      <td>ephys_multi_10.nwb</td>\n",
       "      <td>multi_probe</td>\n",
       "      <td>True</td>\n",
       "      <td>True</td>\n",
       "      <td>True</td>\n",
       "      <td>True</td>\n",
       "      <td>True</td>\n",
       "      <td>True</td>\n",
       "      <td>False</td>\n",
       "      <td>True</td>\n",
       "      <td>True</td>\n",
       "      <td>True</td>\n",
       "      <td>True</td>\n",
       "      <td>True</td>\n",
       "      <td>True</td>\n",
       "    </tr>\n",
       "    <tr>\n",
       "      <th>8</th>\n",
       "      <td>ephys_multi_21.nwb</td>\n",
       "      <td>multi_probe</td>\n",
       "      <td>True</td>\n",
       "      <td>False</td>\n",
       "      <td>True</td>\n",
       "      <td>True</td>\n",
       "      <td>True</td>\n",
       "      <td>False</td>\n",
       "      <td>False</td>\n",
       "      <td>True</td>\n",
       "      <td>True</td>\n",
       "      <td>True</td>\n",
       "      <td>True</td>\n",
       "      <td>True</td>\n",
       "      <td>True</td>\n",
       "    </tr>\n",
       "  </tbody>\n",
       "</table>\n",
       "</div>"
      ],
      "text/plain": [
       "         nwb_filename experiment_type  VISp  VISal  VISam   VISl  VISpm  \\\n",
       "5  ephys_multi_84.nwb     multi_probe  True   True   True  False   True   \n",
       "6  ephys_multi_58.nwb     multi_probe  True   True   True   True   True   \n",
       "7  ephys_multi_10.nwb     multi_probe  True   True   True   True   True   \n",
       "8  ephys_multi_21.nwb     multi_probe  True  False   True   True   True   \n",
       "\n",
       "   VISrl  locally_sparse_noise  gabor  drifting_gratings  static_gratings  \\\n",
       "5   True                  True   True               True             True   \n",
       "6   True                 False   True               True             True   \n",
       "7   True                 False   True               True             True   \n",
       "8  False                 False   True               True             True   \n",
       "\n",
       "   natural_scenes  natural_movie_3  full_field_flashes  \n",
       "5            True             True                True  \n",
       "6            True             True                True  \n",
       "7            True             True                True  \n",
       "8            True             True                True  "
      ]
     },
     "execution_count": 6,
     "metadata": {},
     "output_type": "execute_result"
    }
   ],
   "source": [
    "#make new dataframe by selecting only multi-probe experiments\n",
    "multi_probe_expt_info = expt_info_df[expt_info_df.experiment_type == 'multi_probe']\n",
    "multi_probe_expt_info"
   ]
  },
  {
   "cell_type": "code",
   "execution_count": 7,
   "metadata": {},
   "outputs": [],
   "source": [
    "# Import NWB_adapter\n",
    "from swdb_2018_neuropixels.ephys_nwb_adapter import NWB_adapter"
   ]
  },
  {
   "cell_type": "code",
   "execution_count": 8,
   "metadata": {},
   "outputs": [
    {
     "name": "stdout",
     "output_type": "stream",
     "text": [
      "ephys_multi_84.nwb\n"
     ]
    }
   ],
   "source": [
    "# Choose filename from one row from the multi_probe experiments dataframe\n",
    "multi_probe_example = 0 # index to row in multi_probe_expt_info\n",
    "multi_probe_filename  = multi_probe_expt_info.iloc[multi_probe_example]['nwb_filename']\n",
    "print multi_probe_filename\n",
    "\n",
    "# Specify full path to the .nwb file\n",
    "nwb_file = os.path.join(drive_path,multi_probe_filename)"
   ]
  },
  {
   "cell_type": "code",
   "execution_count": 9,
   "metadata": {},
   "outputs": [],
   "source": [
    "data_set = NWB_adapter(nwb_file)"
   ]
  },
  {
   "cell_type": "code",
   "execution_count": 10,
   "metadata": {},
   "outputs": [
    {
     "data": {
      "text/plain": [
       "(['probeA', 'probeB', 'probeC', 'probeD', 'probeE', 'probeF'],\n",
       " ['VISam', 'VISpm', 'VISp', 'VISl', 'VISal', 'VISrl'])"
      ]
     },
     "execution_count": 10,
     "metadata": {},
     "output_type": "execute_result"
    }
   ],
   "source": [
    "# Probe names and corresponding cortical regions\n",
    "data_set.probe_list, data_set.region_list"
   ]
  },
  {
   "cell_type": "code",
   "execution_count": 11,
   "metadata": {},
   "outputs": [
    {
     "data": {
      "text/plain": [
       "{'probeA': 39,\n",
       " 'probeB': 218,\n",
       " 'probeC': 99,\n",
       " 'probeD': 91,\n",
       " 'probeE': 169,\n",
       " 'probeF': 123}"
      ]
     },
     "execution_count": 11,
     "metadata": {},
     "output_type": "execute_result"
    }
   ],
   "source": [
    "# SOLUTION\n",
    "data_set.number_cells"
   ]
  },
  {
   "cell_type": "code",
   "execution_count": 12,
   "metadata": {},
   "outputs": [],
   "source": [
    "# List of all units recorded on probeC\n",
    "probeC_unit_list = data_set.unit_list['probeC']"
   ]
  },
  {
   "cell_type": "code",
   "execution_count": 13,
   "metadata": {},
   "outputs": [
    {
     "name": "stdout",
     "output_type": "stream",
     "text": [
      "['213' '130' '135' '24' '29' '120' '52' '297' '319' '318' '313' '312' '311'\n",
      " '310' '317' '193' '192' '271' '88' '110']\n"
     ]
    }
   ],
   "source": [
    "# SOLUTION\n",
    "# print unit ID for first 20 units\n",
    "print(probeC_unit_list[:20]) "
   ]
  },
  {
   "cell_type": "code",
   "execution_count": 14,
   "metadata": {},
   "outputs": [
    {
     "data": {
      "text/html": [
       "<div>\n",
       "<style scoped>\n",
       "    .dataframe tbody tr th:only-of-type {\n",
       "        vertical-align: middle;\n",
       "    }\n",
       "\n",
       "    .dataframe tbody tr th {\n",
       "        vertical-align: top;\n",
       "    }\n",
       "\n",
       "    .dataframe thead th {\n",
       "        text-align: right;\n",
       "    }\n",
       "</style>\n",
       "<table border=\"1\" class=\"dataframe\">\n",
       "  <thead>\n",
       "    <tr style=\"text-align: right;\">\n",
       "      <th></th>\n",
       "      <th>unit_id</th>\n",
       "      <th>probe</th>\n",
       "      <th>structure</th>\n",
       "      <th>snr</th>\n",
       "      <th>depth</th>\n",
       "      <th>channel</th>\n",
       "    </tr>\n",
       "  </thead>\n",
       "  <tbody>\n",
       "    <tr>\n",
       "      <th>0</th>\n",
       "      <td>339</td>\n",
       "      <td>probeA</td>\n",
       "      <td>VISam</td>\n",
       "      <td>4.21624</td>\n",
       "      <td>-2680</td>\n",
       "      <td>117</td>\n",
       "    </tr>\n",
       "    <tr>\n",
       "      <th>1</th>\n",
       "      <td>338</td>\n",
       "      <td>probeA</td>\n",
       "      <td>VISam</td>\n",
       "      <td>1.98126</td>\n",
       "      <td>-3700</td>\n",
       "      <td>14</td>\n",
       "    </tr>\n",
       "    <tr>\n",
       "      <th>2</th>\n",
       "      <td>335</td>\n",
       "      <td>probeA</td>\n",
       "      <td>VISam</td>\n",
       "      <td>6.83645</td>\n",
       "      <td>-2460</td>\n",
       "      <td>138</td>\n",
       "    </tr>\n",
       "    <tr>\n",
       "      <th>3</th>\n",
       "      <td>334</td>\n",
       "      <td>probeA</td>\n",
       "      <td>VISam</td>\n",
       "      <td>3.88888</td>\n",
       "      <td>-2460</td>\n",
       "      <td>138</td>\n",
       "    </tr>\n",
       "    <tr>\n",
       "      <th>4</th>\n",
       "      <td>337</td>\n",
       "      <td>probeA</td>\n",
       "      <td>VISam</td>\n",
       "      <td>2.34072</td>\n",
       "      <td>-2820</td>\n",
       "      <td>103</td>\n",
       "    </tr>\n",
       "  </tbody>\n",
       "</table>\n",
       "</div>"
      ],
      "text/plain": [
       "  unit_id   probe structure      snr  depth channel\n",
       "0     339  probeA     VISam  4.21624  -2680     117\n",
       "1     338  probeA     VISam  1.98126  -3700      14\n",
       "2     335  probeA     VISam  6.83645  -2460     138\n",
       "3     334  probeA     VISam  3.88888  -2460     138\n",
       "4     337  probeA     VISam  2.34072  -2820     103"
      ]
     },
     "execution_count": 14,
     "metadata": {},
     "output_type": "execute_result"
    }
   ],
   "source": [
    "# Look at the first five entries in the unit_df dataframe\n",
    "data_set.unit_df.head()"
   ]
  },
  {
   "cell_type": "code",
   "execution_count": 15,
   "metadata": {},
   "outputs": [
    {
     "data": {
      "text/plain": [
       "array(['probeA', 'probeB', 'probeC', 'probeD', 'probeE', 'probeF'], dtype=object)"
      ]
     },
     "execution_count": 15,
     "metadata": {},
     "output_type": "execute_result"
    }
   ],
   "source": [
    "# List of structures from which units were recorded\n",
    "# np.unique(data_set.unit_df['structure'])\n",
    "np.unique(data_set.unit_df['probe'])"
   ]
  },
  {
   "cell_type": "code",
   "execution_count": 16,
   "metadata": {},
   "outputs": [],
   "source": [
    "# Specify the probe\n",
    "probe_name = 'probeC'\n",
    "\n",
    "# Speciy the region\n",
    "region_name = 'VISp'\n",
    "\n",
    "# Subset df\n",
    "v1_unit_df = data_set.unit_df[data_set.unit_df['structure']==region_name]\n",
    "\n",
    "# Display first 5 entries\n",
    "v1_unit_ids = v1_unit_df['unit_id'].values"
   ]
  },
  {
   "cell_type": "code",
   "execution_count": 17,
   "metadata": {},
   "outputs": [
    {
     "name": "stdout",
     "output_type": "stream",
     "text": [
      "98\n"
     ]
    }
   ],
   "source": [
    "# Make a list of unit_ids that are in VISp on probeC\n",
    "v1_unit_list = list(v1_unit_df['unit_id'].values)\n",
    "\n",
    "# How many units in VISp? \n",
    "print len(v1_unit_list)"
   ]
  },
  {
   "cell_type": "code",
   "execution_count": 18,
   "metadata": {},
   "outputs": [
    {
     "name": "stdout",
     "output_type": "stream",
     "text": [
      "['213', '130', '135', '24', '29']\n"
     ]
    }
   ],
   "source": [
    "# Get all spike times from probeC units\n",
    "probe_spikes = data_set.spike_times[probe_name]\n",
    "\n",
    "# Look at the first 5 unit IDs in probe_spikes\n",
    "print probe_spikes.keys()[:5]"
   ]
  },
  {
   "cell_type": "code",
   "execution_count": 19,
   "metadata": {},
   "outputs": [],
   "source": [
    "# Get the stim table for natural scenes\n",
    "ns_table = data_set.get_stimulus_table('natural_scenes')"
   ]
  },
  {
   "cell_type": "code",
   "execution_count": 20,
   "metadata": {},
   "outputs": [
    {
     "data": {
      "text/html": [
       "<div>\n",
       "<style scoped>\n",
       "    .dataframe tbody tr th:only-of-type {\n",
       "        vertical-align: middle;\n",
       "    }\n",
       "\n",
       "    .dataframe tbody tr th {\n",
       "        vertical-align: top;\n",
       "    }\n",
       "\n",
       "    .dataframe thead th {\n",
       "        text-align: right;\n",
       "    }\n",
       "</style>\n",
       "<table border=\"1\" class=\"dataframe\">\n",
       "  <thead>\n",
       "    <tr style=\"text-align: right;\">\n",
       "      <th></th>\n",
       "      <th>start</th>\n",
       "      <th>end</th>\n",
       "      <th>frame</th>\n",
       "    </tr>\n",
       "  </thead>\n",
       "  <tbody>\n",
       "    <tr>\n",
       "      <th>0</th>\n",
       "      <td>6342.87692</td>\n",
       "      <td>6343.14141</td>\n",
       "      <td>30.0</td>\n",
       "    </tr>\n",
       "    <tr>\n",
       "      <th>1</th>\n",
       "      <td>6343.14141</td>\n",
       "      <td>6343.39195</td>\n",
       "      <td>98.0</td>\n",
       "    </tr>\n",
       "    <tr>\n",
       "      <th>2</th>\n",
       "      <td>6343.39195</td>\n",
       "      <td>6343.64130</td>\n",
       "      <td>52.0</td>\n",
       "    </tr>\n",
       "    <tr>\n",
       "      <th>3</th>\n",
       "      <td>6343.64130</td>\n",
       "      <td>6343.89175</td>\n",
       "      <td>110.0</td>\n",
       "    </tr>\n",
       "    <tr>\n",
       "      <th>4</th>\n",
       "      <td>6343.89175</td>\n",
       "      <td>6344.14246</td>\n",
       "      <td>79.0</td>\n",
       "    </tr>\n",
       "  </tbody>\n",
       "</table>\n",
       "</div>"
      ],
      "text/plain": [
       "        start         end  frame\n",
       "0  6342.87692  6343.14141   30.0\n",
       "1  6343.14141  6343.39195   98.0\n",
       "2  6343.39195  6343.64130   52.0\n",
       "3  6343.64130  6343.89175  110.0\n",
       "4  6343.89175  6344.14246   79.0"
      ]
     },
     "execution_count": 20,
     "metadata": {},
     "output_type": "execute_result"
    }
   ],
   "source": [
    "ns_table.head()"
   ]
  },
  {
   "cell_type": "code",
   "execution_count": 21,
   "metadata": {},
   "outputs": [
    {
     "name": "stdout",
     "output_type": "stream",
     "text": [
      "50\n",
      "[  -1.    0.    1.    2.    3.    4.    5.    6.    7.    8.    9.   10.\n",
      "   11.   12.   13.   14.   15.   16.   17.   18.   19.   20.   21.   22.\n",
      "   23.   24.   25.   26.   27.   28.   29.   30.   31.   32.   33.   34.\n",
      "   35.   36.   37.   38.   39.   40.   41.   42.   43.   44.   45.   46.\n",
      "   47.   48.   49.   50.   51.   52.   53.   54.   55.   56.   57.   58.\n",
      "   59.   60.   61.   62.   63.   64.   65.   66.   67.   68.   69.   70.\n",
      "   71.   72.   73.   74.   75.   76.   77.   78.   79.   80.   81.   82.\n",
      "   83.   84.   85.   86.   87.   88.   89.   90.   91.   92.   93.   94.\n",
      "   95.   96.   97.   98.   99.  100.  101.  102.  103.  104.  105.  106.\n",
      "  107.  108.  109.  110.  111.  112.  113.  114.  115.  116.  117.]\n"
     ]
    }
   ],
   "source": [
    "print(len(ns_table[ns_table.frame==41]))\n",
    "print(np.sort(ns_table.frame.unique()))"
   ]
  },
  {
   "cell_type": "code",
   "execution_count": 22,
   "metadata": {},
   "outputs": [
    {
     "data": {
      "text/plain": [
       "50"
      ]
     },
     "execution_count": 22,
     "metadata": {},
     "output_type": "execute_result"
    }
   ],
   "source": [
    "# Select trials from stim table for specific image_id\n",
    "image_id50 = 1\n",
    "image_id51 = 2\n",
    "image_id52 = 3\n",
    "image_id53 = 4\n",
    "image_id54 = 5\n",
    "ns_table_50 = ns_table[ns_table.frame==image_id50] # This is the stim table for image 46\n",
    "ns_table_51 = ns_table[ns_table.frame==image_id51] # This is the stim table for image 46\n",
    "ns_table_52 = ns_table[ns_table.frame==image_id52] # This is the stim table for image 46\n",
    "ns_table_53 = ns_table[ns_table.frame==image_id53] # This is the stim table for image 46\n",
    "ns_table_54 = ns_table[ns_table.frame==image_id54] # This is the stim table for image 46\n",
    "\n",
    "len(ns_table_50.start.values)"
   ]
  },
  {
   "cell_type": "code",
   "execution_count": 23,
   "metadata": {},
   "outputs": [],
   "source": [
    "# Select spikes times from probe C\n",
    "probeC_spikes = data_set.spike_times['probeC']"
   ]
  },
  {
   "cell_type": "code",
   "execution_count": 24,
   "metadata": {},
   "outputs": [],
   "source": [
    "# SOLUTION\n",
    "def image_psth(img,unit_spikes,ax=[]):\n",
    "    \n",
    "    #Default params\n",
    "    if not ax:\n",
    "        fig,ax = plt.subplots(1,1,figsize=(6,3))\n",
    "\n",
    "    pre_time = 1.#.5\n",
    "    post_time = 1.#.75\n",
    "\n",
    "    all_trials = []\n",
    "    # Get spike train for each trial\n",
    "    for i,start in enumerate(img.start):\n",
    "        spikes = unit_spikes[(unit_spikes > start-pre_time) & (unit_spikes < start+post_time)]\n",
    "        spikes = spikes - start\n",
    "        all_trials.append(list(spikes))\n",
    "\n",
    "    # Make PSTH for each trial with 10 ms bins\n",
    "    bin_width = 0.005\n",
    "    bins = np.arange(-pre_time,post_time+bin_width,bin_width)   \n",
    "    all_counts = []\n",
    "    for trial in all_trials:\n",
    "        c,edges = np.histogram(trial,bins)\n",
    "        c = c/bin_width#np.diff(bins[0:2])\n",
    "        all_counts.append(c)\n",
    "    centers = edges[:-1] + np.diff(bins)/2\n",
    "    \n",
    "    # Plot mean PSTH across trials\n",
    "    ax.plot(centers,np.mean(all_counts,axis=0))\n",
    "    ax.axvspan(0,0.25,color='gray',alpha=0.1)\n",
    "    ax.set_ylabel('Firing rate (spikes/second)')\n",
    "    ax.set_xlabel('Time (s)')\n",
    "    ax.set_xlim(pre_time,post_time)\n",
    "\n",
    "    return ax\n",
    "\n",
    "\n",
    "# GENERATE PSTH\n",
    "def gen_psth(img,unit_spikes):\n",
    "    \n",
    "    time_width = 0.25\n",
    "\n",
    "    all_trials = []\n",
    "    # Get spike train for each trial\n",
    "    for i,start in enumerate(img.start):\n",
    "#         stop   = img.end.values[i]\n",
    "        spikes = unit_spikes[(unit_spikes > start) & (unit_spikes < start+time_width)]\n",
    "        spikes = spikes - start\n",
    "        all_trials.append(list(spikes))\n",
    "\n",
    "    # Make PSTH for each trial with 10 ms bins\n",
    "    bin_width = 0.005\n",
    "    bins = np.arange(0,time_width+bin_width,bin_width)   \n",
    "    all_counts = []\n",
    "    for trial in all_trials:\n",
    "        c,edges = np.histogram(trial,bins)\n",
    "        c = c/bin_width#np.diff(bins[0:2])\n",
    "        all_counts.append(c)\n",
    "    centers = edges[:-1] + np.diff(bins)/2\n",
    "    \n",
    "    return np.mean(all_counts,axis=0)\n",
    "\n",
    "# GENERATE SINGLE TRIAL FR\n",
    "def trial_fr(img,unit_spikes):\n",
    "    \n",
    "    time_width = 0.25\n",
    "    bin_width = 0.25\n",
    "    bins = np.arange(0,time_width+bin_width,bin_width)   \n",
    "\n",
    "    all_trials = np.zeros((len(bins)-1,50))\n",
    "    # Get spike train for each trial\n",
    "    for i,start in enumerate(img.start):\n",
    "#         stop   = img.end.values[i]\n",
    "        spikes = unit_spikes[(unit_spikes > start) & (unit_spikes < start+time_width)]\n",
    "        spikes = spikes - start\n",
    "        c,edges = np.histogram(spikes,bins)\n",
    "        c = c/bin_width#np.diff(bins[0:2])\n",
    "        all_trials[:,i] = c\n",
    "\n",
    "    return all_trials\n",
    "\n",
    "#         all_trials.append(list(spikes))\n",
    "\n",
    "    # Make PSTH for each trial with 10 ms bins\n",
    "#     all_counts = []\n",
    "#     for trial in all_trials:\n",
    "#         c,edges = np.histogram(trial,bins)\n",
    "#         c = c/bin_width#np.diff(bins[0:2])\n",
    "#         all_counts.append(c)\n",
    "#     centers = edges[:-1] + np.diff(bins)/2\n",
    "    \n"
   ]
  },
  {
   "cell_type": "code",
   "execution_count": 25,
   "metadata": {},
   "outputs": [
    {
     "name": "stderr",
     "output_type": "stream",
     "text": [
      "/home/ec2-user/anaconda3/envs/python2/lib/python2.7/site-packages/matplotlib/axes/_base.py:3124: UserWarning: Attempting to set identical left==right results\n",
      "in singular transformations; automatically expanding.\n",
      "left=1.0, right=1.0\n",
      "  'left=%s, right=%s') % (left, right))\n"
     ]
    },
    {
     "data": {
      "text/plain": [
       "(-0.5, 0.75)"
      ]
     },
     "execution_count": 25,
     "metadata": {},
     "output_type": "execute_result"
    },
    {
     "data": {
      "image/png": "[encoded data removed]",
      "text/plain": [
       "<Figure size 1152x504 with 6 Axes>"
      ]
     },
     "metadata": {},
     "output_type": "display_data"
    }
   ],
   "source": [
    "# Figure setup\n",
    "fig,ax = plt.subplots(2,3,figsize=(16,7),sharex=True,sharey=True)\n",
    "ax = ax.ravel()\n",
    "\n",
    "for i,unit in enumerate(v1_unit_ids[15:21]):\n",
    "    unit_spikes = probeC_spikes[unit]\n",
    "    image_psth(ns_table_51,unit_spikes,ax[i])\n",
    "    ax[i].set_title('unit_id: ' + unit)\n",
    "    \n",
    "ax[0].set_xlim(-0.5,0.75)"
   ]
  },
  {
   "cell_type": "code",
   "execution_count": 26,
   "metadata": {},
   "outputs": [
    {
     "data": {
      "text/plain": [
       "(1, 50, 98)"
      ]
     },
     "execution_count": 26,
     "metadata": {},
     "output_type": "execute_result"
    }
   ],
   "source": [
    "# # Trial-averaged firing rate of neurons \n",
    "# units_psth_50 = np.zeros((50,len(v1_unit_ids)))\n",
    "# units_psth_51 = np.zeros((50,len(v1_unit_ids)))\n",
    "# units_psth_52 = np.zeros((50,len(v1_unit_ids)))\n",
    "# units_psth_53 = np.zeros((50,len(v1_unit_ids)))\n",
    "# units_psth_54 = np.zeros((50,len(v1_unit_ids)))\n",
    "\n",
    "# for i in range(len(v1_unit_ids)):\n",
    "#     unit = v1_unit_ids[i]\n",
    "#     unit_spikes = probeC_spikes[unit]\n",
    "#     units_psth_50[:,i] = gen_psth(ns_table_50,unit_spikes)\n",
    "#     units_psth_51[:,i] = gen_psth(ns_table_51,unit_spikes)\n",
    "#     units_psth_52[:,i] = gen_psth(ns_table_52,unit_spikes)\n",
    "#     units_psth_53[:,i] = gen_psth(ns_table_53,unit_spikes)\n",
    "#     units_psth_54[:,i] = gen_psth(ns_table_54,unit_spikes)\n",
    "    \n",
    "\n",
    "# Trial-by-trial firing rate of neurons \n",
    "ntrials = 50\n",
    "nbins = 1\n",
    "units_t2t_50 = np.zeros((nbins,ntrials,len(v1_unit_ids)))\n",
    "units_t2t_51 = np.zeros((nbins,ntrials,len(v1_unit_ids)))\n",
    "units_t2t_52 = np.zeros((nbins,ntrials,len(v1_unit_ids)))\n",
    "units_t2t_53 = np.zeros((nbins,ntrials,len(v1_unit_ids)))\n",
    "units_t2t_54 = np.zeros((nbins,ntrials,len(v1_unit_ids)))\n",
    "\n",
    "for cell in range(len(v1_unit_ids)):\n",
    "    unit = v1_unit_ids[cell]\n",
    "    unit_spikes = probeC_spikes[unit]\n",
    "    units_t2t_50[:,:,cell] = trial_fr(ns_table_50,unit_spikes)\n",
    "    units_t2t_51[:,:,cell] = trial_fr(ns_table_51,unit_spikes)\n",
    "    units_t2t_52[:,:,cell] = trial_fr(ns_table_52,unit_spikes)\n",
    "    units_t2t_53[:,:,cell] = trial_fr(ns_table_53,unit_spikes)\n",
    "    units_t2t_54[:,:,cell] = trial_fr(ns_table_54,unit_spikes)\n",
    "    \n",
    "units_t2t_50.shape    "
   ]
  },
  {
   "cell_type": "code",
   "execution_count": 46,
   "metadata": {},
   "outputs": [
    {
     "data": {
      "text/plain": [
       "Text(0,0.5,'Neuron index')"
      ]
     },
     "execution_count": 46,
     "metadata": {},
     "output_type": "execute_result"
    },
    {
     "data": {
      "image/png": "[encoded data removed]",
      "text/plain": [
       "<Figure size 432x288 with 1 Axes>"
      ]
     },
     "metadata": {},
     "output_type": "display_data"
    }
   ],
   "source": [
    "plt.imshow(np.transpose(units_t2t_50[0,:,:]),cmap='jet',aspect='auto')\n",
    "plt.xlabel('Trials',fontsize=20)\n",
    "plt.ylabel('Neuron index',fontsize=20)\n",
    "plt.title('Img ')"
   ]
  },
  {
   "cell_type": "code",
   "execution_count": null,
   "metadata": {},
   "outputs": [],
   "source": [
    "plt.imshow(np.transpose(units_t2t_50[0,:,:]),cmap='jet',aspect='auto')\n",
    "plt.xlabel('Trials',fontsize=20)\n",
    "plt.ylabel('Neuron index',fontsize=20)"
   ]
  },
  {
   "cell_type": "code",
   "execution_count": 28,
   "metadata": {},
   "outputs": [],
   "source": [
    "# plt.imshow(np.transpose(units_psth_46),cmap='jet',aspect='auto')\n",
    "# plt.ylim([0,40])"
   ]
  },
  {
   "cell_type": "code",
   "execution_count": 29,
   "metadata": {
    "scrolled": true
   },
   "outputs": [],
   "source": [
    "# units_psth_50_flat = units_psth_50.flatten()\n",
    "# units_psth_51_flat = units_psth_51.flatten()\n",
    "# units_psth_52_flat = units_psth_52.flatten()\n",
    "# units_psth_53_flat = units_psth_53.flatten()\n",
    "# units_psth_54_flat = units_psth_54.flatten()\n",
    "\n",
    "# data = np.zeros((5,len(units_psth_50_flat)))\n",
    "# data[0,:] = units_psth_50_flat\n",
    "# data[1,:] = units_psth_51_flat\n",
    "# data[2,:] = units_psth_52_flat\n",
    "# data[3,:] = units_psth_53_flat\n",
    "# data[4,:] = units_psth_54_flat\n",
    "\n",
    "num_img   = 5\n",
    "num_trial = 50\n",
    "num_bins  = 1\n",
    "num_cellxbins  = len(v1_unit_ids)*num_bins\n",
    "units_t2t_50_flat = np.zeros((num_trial,num_cellxbins))\n",
    "units_t2t_51_flat = np.zeros((num_trial,num_cellxbins))\n",
    "units_t2t_52_flat = np.zeros((num_trial,num_cellxbins))\n",
    "units_t2t_53_flat = np.zeros((num_trial,num_cellxbins))\n",
    "units_t2t_54_flat = np.zeros((num_trial,num_cellxbins))\n",
    "\n",
    "for i in range(num_trial):\n",
    "    units_t2t_50_flat[i,:] = units_t2t_50[:,i,:].flatten()\n",
    "    units_t2t_51_flat[i,:] = units_t2t_51[:,i,:].flatten()\n",
    "    units_t2t_52_flat[i,:] = units_t2t_52[:,i,:].flatten()\n",
    "    units_t2t_53_flat[i,:] = units_t2t_53[:,i,:].flatten()\n",
    "    units_t2t_54_flat[i,:] = units_t2t_54[:,i,:].flatten()\n",
    "    \n",
    "data = np.concatenate((units_t2t_50_flat,units_t2t_51_flat,units_t2t_52_flat,units_t2t_53_flat,units_t2t_54_flat),axis=0)\n",
    "\n",
    "\n",
    "\n"
   ]
  },
  {
   "cell_type": "code",
   "execution_count": null,
   "metadata": {},
   "outputs": [],
   "source": [
    "tsne = TSNE(n_components=2,init='pca', random_state=0,perplexity=30,n_iter=1000)\n",
    "tsne_proj = tsne.fit_transform(data)"
   ]
  },
  {
   "cell_type": "code",
   "execution_count": 38,
   "metadata": {},
   "outputs": [
    {
     "data": {
      "image/png": "[encoded data removed]",
      "text/plain": [
       "<Figure size 432x288 with 1 Axes>"
      ]
     },
     "metadata": {},
     "output_type": "display_data"
    }
   ],
   "source": [
    "tsne_proj.shape\n",
    "\n",
    "# %matplotlib tk\n",
    "%matplotlib inline\n",
    "\n",
    "# plt.scatter(tsne_proj[0:50,0],tsne_proj[0:50,1],color='cyan')\n",
    "# plt.scatter(tsne_proj[50:100,0],tsne_proj[50:100,1],color='blue')\n",
    "# plt.scatter(tsne_proj[100:150,0],tsne_proj[100:150,1],color='green')\n",
    "plt.scatter(tsne_proj[150:200,0],tsne_proj[150:200,1],color='red')\n",
    "plt.scatter(tsne_proj[200:250,0],tsne_proj[200:250,1],color='black')\n",
    "\n",
    "plt.xlim([-20,15])\n",
    "plt.ylim([-10,10])\n",
    "plt.savefig('two_img.pdf')"
   ]
  },
  {
   "cell_type": "code",
   "execution_count": 39,
   "metadata": {},
   "outputs": [
    {
     "data": {
      "image/png": "[encoded data removed]",
      "text/plain": [
       "<Figure size 432x288 with 1 Axes>"
      ]
     },
     "metadata": {},
     "output_type": "display_data"
    }
   ],
   "source": [
    "plt.scatter(tsne_proj[0:50,0],tsne_proj[0:50,1],color='cyan')\n",
    "plt.scatter(tsne_proj[50:100,0],tsne_proj[50:100,1],color='blue')\n",
    "plt.scatter(tsne_proj[100:150,0],tsne_proj[100:150,1],color='green')\n",
    "plt.scatter(tsne_proj[150:200,0],tsne_proj[150:200,1],color='red')\n",
    "plt.scatter(tsne_proj[200:250,0],tsne_proj[200:250,1],color='black')\n",
    "\n",
    "plt.xlim([-20,15])\n",
    "plt.ylim([-10,10])\n",
    "plt.savefig('five_img.pdf')\n"
   ]
  },
  {
   "cell_type": "code",
   "execution_count": null,
   "metadata": {},
   "outputs": [],
   "source": [
    "xx = units_t2t_50[:,1,:].flatten()\n",
    "np.sum(xx)"
   ]
  },
  {
   "cell_type": "code",
   "execution_count": null,
   "metadata": {},
   "outputs": [],
   "source": []
  },
  {
   "cell_type": "code",
   "execution_count": null,
   "metadata": {},
   "outputs": [],
   "source": [
    "plt.plot(units_psth_50_flat,units_psth_46_flat,'o')"
   ]
  },
  {
   "cell_type": "code",
   "execution_count": null,
   "metadata": {},
   "outputs": [],
   "source": [
    "data\n"
   ]
  },
  {
   "cell_type": "code",
   "execution_count": null,
   "metadata": {},
   "outputs": [],
   "source": [
    "xx = np.zeros((2,4))\n",
    "# print(np.mean(xx,axis=1))\n",
    "xx\n"
   ]
  },
  {
   "cell_type": "code",
   "execution_count": null,
   "metadata": {},
   "outputs": [],
   "source": []
  }
 ],
 "metadata": {
  "kernelspec": {
   "display_name": "conda_python2",
   "language": "python",
   "name": "conda_python2"
  },
  "language_info": {
   "codemirror_mode": {
    "name": "ipython",
    "version": 2
   },
   "file_extension": ".py",
   "mimetype": "text/x-python",
   "name": "python",
   "nbconvert_exporter": "python",
   "pygments_lexer": "ipython2",
   "version": "2.7.14"
  }
 },
 "nbformat": 4,
 "nbformat_minor": 2
}
